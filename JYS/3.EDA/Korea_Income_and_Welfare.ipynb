{
 "cells": [
  {
   "cell_type": "markdown",
   "metadata": {},
   "source": [
    "소개 2005년부터 2018년까지 수년간 한국 정부로부터 자료를 제공받았습니다 이는 가계 통계와 그들의 수입에 대한 많은 정보를 담고 있으며 데이터 셋에 담긴 콘텐츠들을 다음과 같이 분류할 수 있습니다\n",
    "\n",
    "ID\n",
    "\n",
    "연도: 실시한 조사\n",
    "\n",
    "wave: 2005년 제1파부터 2018년 제14파까지\n",
    "\n",
    "지역:1)서울2)경기3)경남4)경북5)충남6)강원용충북7)전라제주\n",
    "\n",
    "소득 : 연간 소득 (백만원. 1100원 = 1달러)\n",
    "\n",
    "family_member : 가족구성원 수\n",
    "\n",
    "성별 : 1) 남성 2) 여성\n",
    "\n",
    "태어난 해\n",
    "\n",
    "교육 수준: 1) 교육 없음 (7세 미만) 2) 교육 없음 (7세 이상) 3) 초등학교 4) 중학교 5) 고등학교 6) 대학교 8) 석사 9) 박사학위\n",
    "\n",
    "혼인: 혼인 관계 1) 해당되지 않는다(18세미만)2)기혼3)사별 4)미혼6)기타\n",
    "\n",
    "종교: 1) 종교가 있다 2) 종교가 없다\n",
    "\n",
    "직업: 이것은 다른 코드 북으로 제공됩니다.\n",
    "\n",
    "회사_사이즈\n",
    "\n",
    "이유 없음 노동자: 1) 능력 없음 2) 병역의무 없음 3) 학교에서 공부하다 4) 학교에서 공부하다 5) 취업준비 6) 가사노동자 7) 집에서 돌보다 8) 간호 9) 경제활동을 포기하다 10) 일할 의사 없음 11) 기타\n",
    "\n",
    "분석을 통해 데이터가 시각적으로 어떻게 제시되는지를 살펴보고 이 데이터에서 끌어낼 수 있는 흥미로운 사실이 있는지 여부를 판단합니다."
   ]
  },
  {
   "cell_type": "markdown",
   "metadata": {},
   "source": [
    "# 목표                                                                                                    \n",
    " 1.데이터 전처리 및 여러 가지의 차트 및 시각화를 구현해 보면서 EDA 분석을 면밀히 수행해보자!                                                            \n",
    "          2.Korea_Income_and_Welfare의 개개인의 Income,Welfare 관련 정보를 나타내는 컬럼들을 통해 그 사람의 출신지(region)를 예측해보자! ( 다수의 알고리즘 활용)"
   ]
  },
  {
   "cell_type": "code",
   "execution_count": 6,
   "metadata": {},
   "outputs": [],
   "source": [
    "# import pandas as pd\n",
    "# import matplotlib as mpl\n",
    "# import matplotlib.pyplot as plt\n",
    "# import seaborn as sns\n",
    "# import numpy as np\n",
    "# from collections import Counter\n",
    "# from nltk import WhitespaceTokenizer\n",
    "# import urllib\n",
    "# from wordcloud import WordCloud"
   ]
  },
  {
   "cell_type": "code",
   "execution_count": 7,
   "metadata": {},
   "outputs": [],
   "source": [
    "%matplotlib inline\n",
    "\n",
    "import numpy as np\n",
    "import pandas as pd\n",
    "import matplotlib.pyplot as plt\n",
    "import seaborn as sns\n",
    "from scipy import stats"
   ]
  },
  {
   "cell_type": "code",
   "execution_count": 8,
   "metadata": {},
   "outputs": [],
   "source": [
    "import os\n",
    "for dirname, _, filenames in os.walk('/kaggle/input'):\n",
    "    for filename in filenames:\n",
    "        print(os.path.join(dirname, filename))"
   ]
  },
  {
   "cell_type": "code",
   "execution_count": 9,
   "metadata": {},
   "outputs": [],
   "source": [
    "#matplotlib 패키지 한글 깨짐 처리 시작\n",
    "import matplotlib as mpl\n",
    "mpl.rc('font', family='Malgun Gothic') #윈도우, 구글 콜랩\n",
    "#mpl.rc('font', family='AppleGothic') #맥\n",
    "mpl.rcParams['axes.unicode_minus'] = False"
   ]
  },
  {
   "cell_type": "markdown",
   "metadata": {},
   "source": [
    "전체적인 데이터 셋의 정보와 직업의 정의를 데이터 프레임에 로딩합니다. 작업 타이틀은 분석에 사용되지 않지만 데이터를 시각화하기 쉽도록 데이터 세트에 추가됩니다."
   ]
  },
  {
   "cell_type": "code",
   "execution_count": 10,
   "metadata": {},
   "outputs": [
    {
     "name": "stdout",
     "output_type": "stream",
     "text": [
      "(92857, 13)\n"
     ]
    },
    {
     "data": {
      "text/html": [
       "<div>\n",
       "<style scoped>\n",
       "    .dataframe tbody tr th:only-of-type {\n",
       "        vertical-align: middle;\n",
       "    }\n",
       "\n",
       "    .dataframe tbody tr th {\n",
       "        vertical-align: top;\n",
       "    }\n",
       "\n",
       "    .dataframe thead th {\n",
       "        text-align: right;\n",
       "    }\n",
       "</style>\n",
       "<table border=\"1\" class=\"dataframe\">\n",
       "  <thead>\n",
       "    <tr style=\"text-align: right;\">\n",
       "      <th></th>\n",
       "      <th>year</th>\n",
       "      <th>wave</th>\n",
       "      <th>region</th>\n",
       "      <th>income</th>\n",
       "      <th>family_member</th>\n",
       "      <th>gender</th>\n",
       "      <th>year_born</th>\n",
       "      <th>education_level</th>\n",
       "      <th>marriage</th>\n",
       "      <th>religion</th>\n",
       "      <th>occupation</th>\n",
       "      <th>company_size</th>\n",
       "      <th>reason_none_worker</th>\n",
       "    </tr>\n",
       "    <tr>\n",
       "      <th>id</th>\n",
       "      <th></th>\n",
       "      <th></th>\n",
       "      <th></th>\n",
       "      <th></th>\n",
       "      <th></th>\n",
       "      <th></th>\n",
       "      <th></th>\n",
       "      <th></th>\n",
       "      <th></th>\n",
       "      <th></th>\n",
       "      <th></th>\n",
       "      <th></th>\n",
       "      <th></th>\n",
       "    </tr>\n",
       "  </thead>\n",
       "  <tbody>\n",
       "    <tr>\n",
       "      <th>10101</th>\n",
       "      <td>2005</td>\n",
       "      <td>1</td>\n",
       "      <td>1</td>\n",
       "      <td>614.000000</td>\n",
       "      <td>1</td>\n",
       "      <td>2</td>\n",
       "      <td>1936</td>\n",
       "      <td>2</td>\n",
       "      <td>2</td>\n",
       "      <td>2</td>\n",
       "      <td></td>\n",
       "      <td></td>\n",
       "      <td>8</td>\n",
       "    </tr>\n",
       "    <tr>\n",
       "      <th>10101</th>\n",
       "      <td>2011</td>\n",
       "      <td>7</td>\n",
       "      <td>1</td>\n",
       "      <td>896.000000</td>\n",
       "      <td>1</td>\n",
       "      <td>2</td>\n",
       "      <td>1936</td>\n",
       "      <td>2</td>\n",
       "      <td>2</td>\n",
       "      <td>2</td>\n",
       "      <td></td>\n",
       "      <td></td>\n",
       "      <td>10</td>\n",
       "    </tr>\n",
       "    <tr>\n",
       "      <th>10101</th>\n",
       "      <td>2012</td>\n",
       "      <td>8</td>\n",
       "      <td>1</td>\n",
       "      <td>1310.000000</td>\n",
       "      <td>1</td>\n",
       "      <td>2</td>\n",
       "      <td>1936</td>\n",
       "      <td>2</td>\n",
       "      <td>2</td>\n",
       "      <td>2</td>\n",
       "      <td></td>\n",
       "      <td></td>\n",
       "      <td>10</td>\n",
       "    </tr>\n",
       "    <tr>\n",
       "      <th>10101</th>\n",
       "      <td>2013</td>\n",
       "      <td>9</td>\n",
       "      <td>1</td>\n",
       "      <td>2208.000000</td>\n",
       "      <td>1</td>\n",
       "      <td>2</td>\n",
       "      <td>1936</td>\n",
       "      <td>2</td>\n",
       "      <td>2</td>\n",
       "      <td>2</td>\n",
       "      <td></td>\n",
       "      <td></td>\n",
       "      <td>1</td>\n",
       "    </tr>\n",
       "    <tr>\n",
       "      <th>10101</th>\n",
       "      <td>2014</td>\n",
       "      <td>10</td>\n",
       "      <td>1</td>\n",
       "      <td>864.000000</td>\n",
       "      <td>1</td>\n",
       "      <td>2</td>\n",
       "      <td>1936</td>\n",
       "      <td>2</td>\n",
       "      <td>2</td>\n",
       "      <td>2</td>\n",
       "      <td></td>\n",
       "      <td></td>\n",
       "      <td>10</td>\n",
       "    </tr>\n",
       "    <tr>\n",
       "      <th>10101</th>\n",
       "      <td>2015</td>\n",
       "      <td>11</td>\n",
       "      <td>1</td>\n",
       "      <td>1171.000000</td>\n",
       "      <td>1</td>\n",
       "      <td>2</td>\n",
       "      <td>1936</td>\n",
       "      <td>2</td>\n",
       "      <td>2</td>\n",
       "      <td>1</td>\n",
       "      <td></td>\n",
       "      <td></td>\n",
       "      <td>10</td>\n",
       "    </tr>\n",
       "    <tr>\n",
       "      <th>10101</th>\n",
       "      <td>2016</td>\n",
       "      <td>12</td>\n",
       "      <td>1</td>\n",
       "      <td>1643.000000</td>\n",
       "      <td>1</td>\n",
       "      <td>2</td>\n",
       "      <td>1936</td>\n",
       "      <td>2</td>\n",
       "      <td>2</td>\n",
       "      <td>2</td>\n",
       "      <td></td>\n",
       "      <td></td>\n",
       "      <td>10</td>\n",
       "    </tr>\n",
       "    <tr>\n",
       "      <th>10101</th>\n",
       "      <td>2017</td>\n",
       "      <td>13</td>\n",
       "      <td>1</td>\n",
       "      <td>851.000000</td>\n",
       "      <td>1</td>\n",
       "      <td>2</td>\n",
       "      <td>1936</td>\n",
       "      <td>2</td>\n",
       "      <td>2</td>\n",
       "      <td>2</td>\n",
       "      <td></td>\n",
       "      <td></td>\n",
       "      <td>10</td>\n",
       "    </tr>\n",
       "    <tr>\n",
       "      <th>20101</th>\n",
       "      <td>2005</td>\n",
       "      <td>1</td>\n",
       "      <td>1</td>\n",
       "      <td>1257.000000</td>\n",
       "      <td>1</td>\n",
       "      <td>2</td>\n",
       "      <td>1945</td>\n",
       "      <td>4</td>\n",
       "      <td>2</td>\n",
       "      <td>2</td>\n",
       "      <td>421</td>\n",
       "      <td>1</td>\n",
       "      <td></td>\n",
       "    </tr>\n",
       "    <tr>\n",
       "      <th>20101</th>\n",
       "      <td>2006</td>\n",
       "      <td>2</td>\n",
       "      <td>1</td>\n",
       "      <td>-520.062475</td>\n",
       "      <td>1</td>\n",
       "      <td>2</td>\n",
       "      <td>1945</td>\n",
       "      <td>4</td>\n",
       "      <td>2</td>\n",
       "      <td>2</td>\n",
       "      <td></td>\n",
       "      <td></td>\n",
       "      <td>8</td>\n",
       "    </tr>\n",
       "  </tbody>\n",
       "</table>\n",
       "</div>"
      ],
      "text/plain": [
       "       year  wave  region       income  family_member  gender  year_born  \\\n",
       "id                                                                         \n",
       "10101  2005     1       1   614.000000              1       2       1936   \n",
       "10101  2011     7       1   896.000000              1       2       1936   \n",
       "10101  2012     8       1  1310.000000              1       2       1936   \n",
       "10101  2013     9       1  2208.000000              1       2       1936   \n",
       "10101  2014    10       1   864.000000              1       2       1936   \n",
       "10101  2015    11       1  1171.000000              1       2       1936   \n",
       "10101  2016    12       1  1643.000000              1       2       1936   \n",
       "10101  2017    13       1   851.000000              1       2       1936   \n",
       "20101  2005     1       1  1257.000000              1       2       1945   \n",
       "20101  2006     2       1  -520.062475              1       2       1945   \n",
       "\n",
       "       education_level  marriage  religion occupation company_size  \\\n",
       "id                                                                   \n",
       "10101                2         2         2                           \n",
       "10101                2         2         2                           \n",
       "10101                2         2         2                           \n",
       "10101                2         2         2                           \n",
       "10101                2         2         2                           \n",
       "10101                2         2         1                           \n",
       "10101                2         2         2                           \n",
       "10101                2         2         2                           \n",
       "20101                4         2         2        421            1   \n",
       "20101                4         2         2                           \n",
       "\n",
       "      reason_none_worker  \n",
       "id                        \n",
       "10101                  8  \n",
       "10101                 10  \n",
       "10101                 10  \n",
       "10101                  1  \n",
       "10101                 10  \n",
       "10101                 10  \n",
       "10101                 10  \n",
       "10101                 10  \n",
       "20101                     \n",
       "20101                  8  "
      ]
     },
     "execution_count": 10,
     "metadata": {},
     "output_type": "execute_result"
    }
   ],
   "source": [
    "# 데이터 읽기\n",
    "#df = pd.read_csv(r'\\Users\\project\\dataAnalysis-project\\JYS\\3.EDA\\Korea_Income_and_Welfare.csv', index_col=0, encoding='UTF8')\n",
    "wf = pd.read_csv(r'\\Users\\project_Sjy\\JYS\\3.EDA\\Korea_Income_and_Welfare.csv', index_col=0, encoding='UTF8')\n",
    "print(wf.shape)\n",
    "wf.head(10)"
   ]
  },
  {
   "cell_type": "markdown",
   "metadata": {},
   "source": [
    "분석에 필요한 것은 작업 코드와 타이틀뿐입니다. 데이터를 깨끗하게 유지하기 위해 처음 두 개의 컬럼을 드롭할 수 있습니다."
   ]
  },
  {
   "cell_type": "code",
   "execution_count": 11,
   "metadata": {},
   "outputs": [],
   "source": [
    "#!pip install openpyxl"
   ]
  },
  {
   "cell_type": "code",
   "execution_count": 12,
   "metadata": {},
   "outputs": [
    {
     "name": "stdout",
     "output_type": "stream",
     "text": [
      "(149, 5)\n"
     ]
    },
    {
     "data": {
      "text/html": [
       "<div>\n",
       "<style scoped>\n",
       "    .dataframe tbody tr th:only-of-type {\n",
       "        vertical-align: middle;\n",
       "    }\n",
       "\n",
       "    .dataframe tbody tr th {\n",
       "        vertical-align: top;\n",
       "    }\n",
       "\n",
       "    .dataframe thead th {\n",
       "        text-align: right;\n",
       "    }\n",
       "</style>\n",
       "<table border=\"1\" class=\"dataframe\">\n",
       "  <thead>\n",
       "    <tr style=\"text-align: right;\">\n",
       "      <th></th>\n",
       "      <th>대분류</th>\n",
       "      <th>Unnamed: 1</th>\n",
       "      <th>Unnamed: 2</th>\n",
       "      <th>job_code</th>\n",
       "      <th>job_title</th>\n",
       "    </tr>\n",
       "  </thead>\n",
       "  <tbody>\n",
       "    <tr>\n",
       "      <th>0</th>\n",
       "      <td>1 관리자</td>\n",
       "      <td>11</td>\n",
       "      <td>Senior public and corporate positions</td>\n",
       "      <td>111</td>\n",
       "      <td>Assembly members, senior public officials and ...</td>\n",
       "    </tr>\n",
       "    <tr>\n",
       "      <th>1</th>\n",
       "      <td>NaN</td>\n",
       "      <td>NaN</td>\n",
       "      <td>NaN</td>\n",
       "      <td>112</td>\n",
       "      <td>senior corporate executive</td>\n",
       "    </tr>\n",
       "    <tr>\n",
       "      <th>2</th>\n",
       "      <td>NaN</td>\n",
       "      <td>12</td>\n",
       "      <td>Administrative and management support manageri...</td>\n",
       "      <td>120</td>\n",
       "      <td>Administrative and management support manager</td>\n",
       "    </tr>\n",
       "  </tbody>\n",
       "</table>\n",
       "</div>"
      ],
      "text/plain": [
       "     대분류 Unnamed: 1                                         Unnamed: 2  \\\n",
       "0  1 관리자         11              Senior public and corporate positions   \n",
       "1    NaN        NaN                                                NaN   \n",
       "2    NaN         12  Administrative and management support manageri...   \n",
       "\n",
       "   job_code                                          job_title  \n",
       "0       111  Assembly members, senior public officials and ...  \n",
       "1       112                         senior corporate executive  \n",
       "2       120      Administrative and management support manager  "
      ]
     },
     "execution_count": 12,
     "metadata": {},
     "output_type": "execute_result"
    }
   ],
   "source": [
    "job_check = pd.read_excel(r'\\Users\\project_Sjy\\JYS\\3.EDA\\job_code_translated.xlsx')\n",
    "print(job_check.shape)\n",
    "job_check.head(3)"
   ]
  },
  {
   "cell_type": "code",
   "execution_count": 13,
   "metadata": {},
   "outputs": [],
   "source": [
    "job_check = job_check[['job_code', 'job_title']]\n",
    "job_check = job_check.rename(columns={\"job_code\": \"occupation\", \"job_title\": \"job_title\"})"
   ]
  },
  {
   "cell_type": "markdown",
   "metadata": {},
   "source": [
    "전처리\n",
    "데이터 세트에 누락되어 있는 값이 없는지 확인하고 싶었습니다."
   ]
  },
  {
   "cell_type": "code",
   "execution_count": 14,
   "metadata": {},
   "outputs": [
    {
     "data": {
      "text/plain": [
       "year                  0\n",
       "wave                  0\n",
       "region                0\n",
       "income                0\n",
       "family_member         0\n",
       "gender                0\n",
       "year_born             0\n",
       "education_level       0\n",
       "marriage              0\n",
       "religion              0\n",
       "occupation            0\n",
       "company_size          0\n",
       "reason_none_worker    0\n",
       "dtype: int64"
      ]
     },
     "execution_count": 14,
     "metadata": {},
     "output_type": "execute_result"
    }
   ],
   "source": [
    "wf.isna().sum()"
   ]
  },
  {
   "cell_type": "markdown",
   "metadata": {},
   "source": [
    "그 다음 설명을 보시면 훨씬 집약된 뷰로 데이터를 볼 수 있습니다. 여기서 알 수 있는 것들이 몇가지 있죠.\n",
    "\n",
    "1.소득은 46만8209원에서 23만3174원으로 분산돼 소득의 대다수가 5,000원 이하이다.\n",
    "\n",
    "2.Marriage: 0 및 9로 표기되는 값에는 그에 대한 설명이 없습니다.\n",
    "\n",
    "3.종교-바이너리(1 또는 2)가 필요합니다. 그런데 현재 이 열에는 9가 있습니다.\n",
    "\n",
    "4.직업, 회사 크기 Reason_none_worker 집계된 뷰에 표시되지 않았습니다. 이것에 의하면, 컬럼에 수치가 없는 경우가 있는 것 같습니다."
   ]
  },
  {
   "cell_type": "code",
   "execution_count": 15,
   "metadata": {},
   "outputs": [
    {
     "data": {
      "text/html": [
       "<div>\n",
       "<style scoped>\n",
       "    .dataframe tbody tr th:only-of-type {\n",
       "        vertical-align: middle;\n",
       "    }\n",
       "\n",
       "    .dataframe tbody tr th {\n",
       "        vertical-align: top;\n",
       "    }\n",
       "\n",
       "    .dataframe thead th {\n",
       "        text-align: right;\n",
       "    }\n",
       "</style>\n",
       "<table border=\"1\" class=\"dataframe\">\n",
       "  <thead>\n",
       "    <tr style=\"text-align: right;\">\n",
       "      <th></th>\n",
       "      <th>year</th>\n",
       "      <th>wave</th>\n",
       "      <th>region</th>\n",
       "      <th>income</th>\n",
       "      <th>family_member</th>\n",
       "      <th>gender</th>\n",
       "      <th>year_born</th>\n",
       "      <th>education_level</th>\n",
       "      <th>marriage</th>\n",
       "      <th>religion</th>\n",
       "    </tr>\n",
       "  </thead>\n",
       "  <tbody>\n",
       "    <tr>\n",
       "      <th>count</th>\n",
       "      <td>92857.000000</td>\n",
       "      <td>92857.000000</td>\n",
       "      <td>92857.000000</td>\n",
       "      <td>92857.000000</td>\n",
       "      <td>92857.000000</td>\n",
       "      <td>92857.000000</td>\n",
       "      <td>92857.000000</td>\n",
       "      <td>92857.000000</td>\n",
       "      <td>92857.000000</td>\n",
       "      <td>92857.000000</td>\n",
       "    </tr>\n",
       "    <tr>\n",
       "      <th>mean</th>\n",
       "      <td>2011.517958</td>\n",
       "      <td>7.517958</td>\n",
       "      <td>3.691353</td>\n",
       "      <td>3441.122327</td>\n",
       "      <td>2.484304</td>\n",
       "      <td>1.296316</td>\n",
       "      <td>1952.956740</td>\n",
       "      <td>4.511895</td>\n",
       "      <td>1.679389</td>\n",
       "      <td>1.499521</td>\n",
       "    </tr>\n",
       "    <tr>\n",
       "      <th>std</th>\n",
       "      <td>4.011222</td>\n",
       "      <td>4.011222</td>\n",
       "      <td>2.058961</td>\n",
       "      <td>4176.324522</td>\n",
       "      <td>1.292251</td>\n",
       "      <td>0.456634</td>\n",
       "      <td>16.006065</td>\n",
       "      <td>1.669887</td>\n",
       "      <td>1.103413</td>\n",
       "      <td>0.531572</td>\n",
       "    </tr>\n",
       "    <tr>\n",
       "      <th>min</th>\n",
       "      <td>2005.000000</td>\n",
       "      <td>1.000000</td>\n",
       "      <td>1.000000</td>\n",
       "      <td>-232174.000000</td>\n",
       "      <td>1.000000</td>\n",
       "      <td>1.000000</td>\n",
       "      <td>1910.000000</td>\n",
       "      <td>2.000000</td>\n",
       "      <td>0.000000</td>\n",
       "      <td>1.000000</td>\n",
       "    </tr>\n",
       "    <tr>\n",
       "      <th>25%</th>\n",
       "      <td>2008.000000</td>\n",
       "      <td>4.000000</td>\n",
       "      <td>2.000000</td>\n",
       "      <td>1140.000000</td>\n",
       "      <td>1.000000</td>\n",
       "      <td>1.000000</td>\n",
       "      <td>1939.000000</td>\n",
       "      <td>3.000000</td>\n",
       "      <td>1.000000</td>\n",
       "      <td>1.000000</td>\n",
       "    </tr>\n",
       "    <tr>\n",
       "      <th>50%</th>\n",
       "      <td>2012.000000</td>\n",
       "      <td>8.000000</td>\n",
       "      <td>3.000000</td>\n",
       "      <td>2428.000000</td>\n",
       "      <td>2.000000</td>\n",
       "      <td>1.000000</td>\n",
       "      <td>1952.000000</td>\n",
       "      <td>5.000000</td>\n",
       "      <td>1.000000</td>\n",
       "      <td>1.000000</td>\n",
       "    </tr>\n",
       "    <tr>\n",
       "      <th>75%</th>\n",
       "      <td>2015.000000</td>\n",
       "      <td>11.000000</td>\n",
       "      <td>5.000000</td>\n",
       "      <td>4695.000000</td>\n",
       "      <td>3.000000</td>\n",
       "      <td>2.000000</td>\n",
       "      <td>1966.000000</td>\n",
       "      <td>5.000000</td>\n",
       "      <td>2.000000</td>\n",
       "      <td>2.000000</td>\n",
       "    </tr>\n",
       "    <tr>\n",
       "      <th>max</th>\n",
       "      <td>2018.000000</td>\n",
       "      <td>14.000000</td>\n",
       "      <td>7.000000</td>\n",
       "      <td>468209.000000</td>\n",
       "      <td>9.000000</td>\n",
       "      <td>2.000000</td>\n",
       "      <td>2002.000000</td>\n",
       "      <td>9.000000</td>\n",
       "      <td>9.000000</td>\n",
       "      <td>9.000000</td>\n",
       "    </tr>\n",
       "  </tbody>\n",
       "</table>\n",
       "</div>"
      ],
      "text/plain": [
       "               year          wave        region         income  family_member  \\\n",
       "count  92857.000000  92857.000000  92857.000000   92857.000000   92857.000000   \n",
       "mean    2011.517958      7.517958      3.691353    3441.122327       2.484304   \n",
       "std        4.011222      4.011222      2.058961    4176.324522       1.292251   \n",
       "min     2005.000000      1.000000      1.000000 -232174.000000       1.000000   \n",
       "25%     2008.000000      4.000000      2.000000    1140.000000       1.000000   \n",
       "50%     2012.000000      8.000000      3.000000    2428.000000       2.000000   \n",
       "75%     2015.000000     11.000000      5.000000    4695.000000       3.000000   \n",
       "max     2018.000000     14.000000      7.000000  468209.000000       9.000000   \n",
       "\n",
       "             gender     year_born  education_level      marriage      religion  \n",
       "count  92857.000000  92857.000000     92857.000000  92857.000000  92857.000000  \n",
       "mean       1.296316   1952.956740         4.511895      1.679389      1.499521  \n",
       "std        0.456634     16.006065         1.669887      1.103413      0.531572  \n",
       "min        1.000000   1910.000000         2.000000      0.000000      1.000000  \n",
       "25%        1.000000   1939.000000         3.000000      1.000000      1.000000  \n",
       "50%        1.000000   1952.000000         5.000000      1.000000      1.000000  \n",
       "75%        2.000000   1966.000000         5.000000      2.000000      2.000000  \n",
       "max        2.000000   2002.000000         9.000000      9.000000      9.000000  "
      ]
     },
     "execution_count": 15,
     "metadata": {},
     "output_type": "execute_result"
    }
   ],
   "source": [
    "wf.describe()"
   ]
  },
  {
   "cell_type": "code",
   "execution_count": 16,
   "metadata": {},
   "outputs": [
    {
     "data": {
      "text/plain": [
       "year                     14\n",
       "wave                     14\n",
       "region                    7\n",
       "income                13306\n",
       "family_member             9\n",
       "gender                    2\n",
       "year_born                90\n",
       "education_level           8\n",
       "marriage                  8\n",
       "religion                  3\n",
       "occupation              244\n",
       "company_size             13\n",
       "reason_none_worker       14\n",
       "dtype: int64"
      ]
     },
     "execution_count": 16,
     "metadata": {},
     "output_type": "execute_result"
    }
   ],
   "source": [
    "wf.nunique()"
   ]
  },
  {
   "cell_type": "code",
   "execution_count": 17,
   "metadata": {},
   "outputs": [
    {
     "data": {
      "text/plain": [
       "array([2, 1, 3, 5, 4, 6, 9, 0], dtype=int64)"
      ]
     },
     "execution_count": 17,
     "metadata": {},
     "output_type": "execute_result"
    }
   ],
   "source": [
    "wf.marriage.unique()"
   ]
  },
  {
   "cell_type": "markdown",
   "metadata": {},
   "source": [
    "설명이 관련되어 있는 숫자는 1~8의 숫자뿐입니다. 아래는 결혼란에 0 또는 9로 표시되어 있는 모든 행을 참조하십시오."
   ]
  },
  {
   "cell_type": "code",
   "execution_count": 18,
   "metadata": {},
   "outputs": [],
   "source": [
    "wf = wf[wf['marriage'].between(1, 8)]"
   ]
  },
  {
   "cell_type": "code",
   "execution_count": 19,
   "metadata": {},
   "outputs": [
    {
     "data": {
      "text/plain": [
       "array([2, 1, 3, 5, 4, 6], dtype=int64)"
      ]
     },
     "execution_count": 19,
     "metadata": {},
     "output_type": "execute_result"
    }
   ],
   "source": [
    "wf.marriage.unique()"
   ]
  },
  {
   "cell_type": "markdown",
   "metadata": {},
   "source": [
    "그 다음 reason_none_worker열을 정리해야 합니다. 설명이 있는 숫자는 1~11의 숫자입니다. 이 범주에 벗어난 값은 제거하는 것이 좋겠습니다."
   ]
  },
  {
   "cell_type": "code",
   "execution_count": 20,
   "metadata": {},
   "outputs": [
    {
     "data": {
      "text/plain": [
       "array(['8', '10', '1', ' ', '6', '9', '4', '3', '7', '5', '11', '99', '2',\n",
       "       '0'], dtype=object)"
      ]
     },
     "execution_count": 20,
     "metadata": {},
     "output_type": "execute_result"
    }
   ],
   "source": [
    "wf.reason_none_worker.unique()"
   ]
  },
  {
   "cell_type": "markdown",
   "metadata": {},
   "source": [
    "reason_none_worker에 ' '라는 행이 1493개로 많이 있습니다. 이 부분 역시 정리해줄 필요가 있어보입니다."
   ]
  },
  {
   "cell_type": "code",
   "execution_count": 21,
   "metadata": {},
   "outputs": [
    {
     "data": {
      "text/plain": [
       "reason_none_worker\n",
       "10    19090\n",
       "8      4268\n",
       "9      2686\n",
       "1      2499\n",
       "       1493\n",
       "7      1118\n",
       "6      1074\n",
       "4       704\n",
       "5       326\n",
       "11      237\n",
       "99       76\n",
       "3        49\n",
       "2         7\n",
       "0         1\n",
       "dtype: int64"
      ]
     },
     "execution_count": 21,
     "metadata": {},
     "output_type": "execute_result"
    }
   ],
   "source": [
    "wf[(wf['occupation'] == ' ')].value_counts('reason_none_worker')"
   ]
  },
  {
   "cell_type": "markdown",
   "metadata": {},
   "source": [
    "reason_none_worker 컬럼값이 0이거나 99인건 범주를 벗어난 값으로 제거해야 합니다."
   ]
  },
  {
   "cell_type": "code",
   "execution_count": 22,
   "metadata": {},
   "outputs": [],
   "source": [
    "wf = wf[wf['reason_none_worker'] != '99']\n",
    "wf = wf[wf['reason_none_worker'] != '0']"
   ]
  },
  {
   "cell_type": "markdown",
   "metadata": {},
   "source": [
    "열의 직업과 reason_none_worker에 이 있는 행을 삭제하기 위해서 두 개의 열검사용 컬럼이 데이터 셋에 추가되었습니다. 행 삭제 작업이 끝나면 추가한 두개의 컬럼은 더 이상 쓸모가 없어 다시 삭제합니다."
   ]
  },
  {
   "cell_type": "code",
   "execution_count": 23,
   "metadata": {},
   "outputs": [],
   "source": [
    "wf['check'] = wf.occupation.apply([lambda x: True if x == ' ' else False])"
   ]
  },
  {
   "cell_type": "code",
   "execution_count": 24,
   "metadata": {},
   "outputs": [],
   "source": [
    "wf['check2'] = wf.reason_none_worker.apply([lambda x: True if x == ' ' else False])"
   ]
  },
  {
   "cell_type": "code",
   "execution_count": 25,
   "metadata": {},
   "outputs": [],
   "source": [
    "indexNames = wf[(wf['check'] == True) & (wf['check2'] == True)].index"
   ]
  },
  {
   "cell_type": "code",
   "execution_count": 26,
   "metadata": {},
   "outputs": [
    {
     "name": "stdout",
     "output_type": "stream",
     "text": [
      "Int64Index([   30101,   100101,   110101,   140101,   140101,   140101,\n",
      "              140101,   140101,   140101,   140101,\n",
      "            ...\n",
      "            96810701, 97060701, 97060701, 97060701, 97250701, 97550701,\n",
      "            97580701, 97780701, 97850801, 97910701],\n",
      "           dtype='int64', name='id', length=1493)\n"
     ]
    }
   ],
   "source": [
    "print(indexNames)"
   ]
  },
  {
   "cell_type": "code",
   "execution_count": 27,
   "metadata": {},
   "outputs": [],
   "source": [
    "wf.drop(indexNames , inplace=True)\n",
    "wf = wf.drop(['check'], axis=1)\n",
    "wf = wf.drop(['check2'], axis=1)"
   ]
  },
  {
   "cell_type": "markdown",
   "metadata": {},
   "source": [
    "job_code_translate.xlsx를 통해 숫자를 xlsx파일의 연결된 값으로 바꿔줍니다. 이는 밑의 머신러닝 작업을 위해 반드시 필요한 작업입니다."
   ]
  },
  {
   "cell_type": "code",
   "execution_count": 28,
   "metadata": {},
   "outputs": [],
   "source": [
    "wf.loc[wf['marriage'] == 1, 'marriage'] = 'NA(Under_18)'\n",
    "wf.loc[wf['marriage'] == 2, 'marriage'] = 'married'\n",
    "wf.loc[wf['marriage'] == 3, 'marriage'] = 'separated_by_death'\n",
    "wf.loc[wf['marriage'] == 4, 'marriage'] = 'separated'\n",
    "wf.loc[wf['marriage'] == 5, 'marriage'] = 'not_married_yet'\n",
    "wf.loc[wf['marriage'] == 6, 'marriage'] = 'others'"
   ]
  },
  {
   "cell_type": "code",
   "execution_count": 29,
   "metadata": {},
   "outputs": [],
   "source": [
    "wf.loc[wf['education_level'] == 1, 'education_level'] = 'no_education(under_7)'\n",
    "wf.loc[wf['education_level'] == 2, 'education_level'] = 'no_education'\n",
    "wf.loc[wf['education_level'] == 3, 'education_level'] = 'elementary'\n",
    "wf.loc[wf['education_level'] == 4, 'education_level'] = 'middle_school'\n",
    "wf.loc[wf['education_level'] == 5, 'education_level'] = 'high_school'\n",
    "wf.loc[wf['education_level'] == 6, 'education_level'] = 'college'\n",
    "wf.loc[wf['education_level'] == 7, 'education_level'] = 'university_degree'\n",
    "wf.loc[wf['education_level'] == 8, 'education_level'] = 'MA'\n",
    "wf.loc[wf['education_level'] == 9, 'education_level'] = 'doctoral_degree'"
   ]
  },
  {
   "cell_type": "code",
   "execution_count": 30,
   "metadata": {},
   "outputs": [],
   "source": [
    "wf.loc[wf['region'] == 1, 'region'] = 'Seoul'\n",
    "wf.loc[wf['region'] == 2, 'region'] = 'Kyeong-gi'\n",
    "wf.loc[wf['region'] == 3, 'region'] = 'Kyoung-nam'\n",
    "wf.loc[wf['region'] == 4, 'region'] = 'Kyong-buk'\n",
    "wf.loc[wf['region'] == 5, 'region'] = 'Chong-nam'\n",
    "wf.loc[wf['region'] == 6, 'region'] = 'Gang-won & Chung-buk'\n",
    "wf.loc[wf['region'] == 7, 'region'] = 'Jeju'"
   ]
  },
  {
   "cell_type": "code",
   "execution_count": 31,
   "metadata": {},
   "outputs": [],
   "source": [
    "wf.loc[wf['reason_none_worker'] == '1', 'reason_none_worker'] = 'not_capable'\n",
    "wf.loc[wf['reason_none_worker'] == '2', 'reason_none_worker'] = 'in_military_service'\n",
    "wf.loc[wf['reason_none_worker'] == '3', 'reason_none_worker'] = 'studying_in_school'\n",
    "wf.loc[wf['reason_none_worker'] == '4', 'reason_none_worker'] = 'prepare_for_school'\n",
    "wf.loc[wf['reason_none_worker'] == '5', 'reason_none_worker'] = 'prepare_to_apply_job'\n",
    "wf.loc[wf['reason_none_worker'] == '6', 'reason_none_worker'] = 'house_worker'\n",
    "wf.loc[wf['reason_none_worker'] == '7', 'reason_none_worker'] = 'caring_for_kids_at_home'\n",
    "wf.loc[wf['reason_none_worker'] == '8', 'reason_none_worker'] = 'nursing'\n",
    "wf.loc[wf['reason_none_worker'] == '9', 'reason_none_worker'] = 'giving_up_economic_activities'\n",
    "wf.loc[wf['reason_none_worker'] == '10', 'reason_none_worker'] = 'no_intention_to_work'\n",
    "wf.loc[wf['reason_none_worker'] == '11', 'reason_none_worker'] = 'other'\n",
    "wf.loc[wf['reason_none_worker'] == ' ', 'reason_none_worker'] = 'employed'"
   ]
  },
  {
   "cell_type": "code",
   "execution_count": 32,
   "metadata": {},
   "outputs": [],
   "source": [
    "wf.loc[wf['gender'] == 1, 'gender'] = 'male'\n",
    "wf.loc[wf['gender'] == 2, 'gender'] = 'female'\n",
    "wf.loc[wf['religion'] == 1, 'religion'] = 'religious'\n",
    "wf.loc[wf['religion'] == 2, 'religion'] = 'non-religious'"
   ]
  },
  {
   "cell_type": "code",
   "execution_count": 35,
   "metadata": {},
   "outputs": [
    {
     "name": "stdout",
     "output_type": "stream",
     "text": [
      "(81046, 13)\n"
     ]
    },
    {
     "data": {
      "text/html": [
       "<div>\n",
       "<style scoped>\n",
       "    .dataframe tbody tr th:only-of-type {\n",
       "        vertical-align: middle;\n",
       "    }\n",
       "\n",
       "    .dataframe tbody tr th {\n",
       "        vertical-align: top;\n",
       "    }\n",
       "\n",
       "    .dataframe thead th {\n",
       "        text-align: right;\n",
       "    }\n",
       "</style>\n",
       "<table border=\"1\" class=\"dataframe\">\n",
       "  <thead>\n",
       "    <tr style=\"text-align: right;\">\n",
       "      <th></th>\n",
       "      <th>year</th>\n",
       "      <th>wave</th>\n",
       "      <th>region</th>\n",
       "      <th>income</th>\n",
       "      <th>family_member</th>\n",
       "      <th>gender</th>\n",
       "      <th>year_born</th>\n",
       "      <th>education_level</th>\n",
       "      <th>marriage</th>\n",
       "      <th>religion</th>\n",
       "      <th>occupation</th>\n",
       "      <th>company_size</th>\n",
       "      <th>reason_none_worker</th>\n",
       "    </tr>\n",
       "    <tr>\n",
       "      <th>id</th>\n",
       "      <th></th>\n",
       "      <th></th>\n",
       "      <th></th>\n",
       "      <th></th>\n",
       "      <th></th>\n",
       "      <th></th>\n",
       "      <th></th>\n",
       "      <th></th>\n",
       "      <th></th>\n",
       "      <th></th>\n",
       "      <th></th>\n",
       "      <th></th>\n",
       "      <th></th>\n",
       "    </tr>\n",
       "  </thead>\n",
       "  <tbody>\n",
       "    <tr>\n",
       "      <th>10101</th>\n",
       "      <td>2005</td>\n",
       "      <td>1</td>\n",
       "      <td>Seoul</td>\n",
       "      <td>614.0</td>\n",
       "      <td>1</td>\n",
       "      <td>female</td>\n",
       "      <td>1936</td>\n",
       "      <td>no_education</td>\n",
       "      <td>married</td>\n",
       "      <td>non-religious</td>\n",
       "      <td></td>\n",
       "      <td></td>\n",
       "      <td>nursing</td>\n",
       "    </tr>\n",
       "    <tr>\n",
       "      <th>10101</th>\n",
       "      <td>2011</td>\n",
       "      <td>7</td>\n",
       "      <td>Seoul</td>\n",
       "      <td>896.0</td>\n",
       "      <td>1</td>\n",
       "      <td>female</td>\n",
       "      <td>1936</td>\n",
       "      <td>no_education</td>\n",
       "      <td>married</td>\n",
       "      <td>non-religious</td>\n",
       "      <td></td>\n",
       "      <td></td>\n",
       "      <td>no_intention_to_work</td>\n",
       "    </tr>\n",
       "    <tr>\n",
       "      <th>10101</th>\n",
       "      <td>2012</td>\n",
       "      <td>8</td>\n",
       "      <td>Seoul</td>\n",
       "      <td>1310.0</td>\n",
       "      <td>1</td>\n",
       "      <td>female</td>\n",
       "      <td>1936</td>\n",
       "      <td>no_education</td>\n",
       "      <td>married</td>\n",
       "      <td>non-religious</td>\n",
       "      <td></td>\n",
       "      <td></td>\n",
       "      <td>no_intention_to_work</td>\n",
       "    </tr>\n",
       "    <tr>\n",
       "      <th>10101</th>\n",
       "      <td>2013</td>\n",
       "      <td>9</td>\n",
       "      <td>Seoul</td>\n",
       "      <td>2208.0</td>\n",
       "      <td>1</td>\n",
       "      <td>female</td>\n",
       "      <td>1936</td>\n",
       "      <td>no_education</td>\n",
       "      <td>married</td>\n",
       "      <td>non-religious</td>\n",
       "      <td></td>\n",
       "      <td></td>\n",
       "      <td>not_capable</td>\n",
       "    </tr>\n",
       "    <tr>\n",
       "      <th>10101</th>\n",
       "      <td>2014</td>\n",
       "      <td>10</td>\n",
       "      <td>Seoul</td>\n",
       "      <td>864.0</td>\n",
       "      <td>1</td>\n",
       "      <td>female</td>\n",
       "      <td>1936</td>\n",
       "      <td>no_education</td>\n",
       "      <td>married</td>\n",
       "      <td>non-religious</td>\n",
       "      <td></td>\n",
       "      <td></td>\n",
       "      <td>no_intention_to_work</td>\n",
       "    </tr>\n",
       "    <tr>\n",
       "      <th>...</th>\n",
       "      <td>...</td>\n",
       "      <td>...</td>\n",
       "      <td>...</td>\n",
       "      <td>...</td>\n",
       "      <td>...</td>\n",
       "      <td>...</td>\n",
       "      <td>...</td>\n",
       "      <td>...</td>\n",
       "      <td>...</td>\n",
       "      <td>...</td>\n",
       "      <td>...</td>\n",
       "      <td>...</td>\n",
       "      <td>...</td>\n",
       "    </tr>\n",
       "    <tr>\n",
       "      <th>98000701</th>\n",
       "      <td>2014</td>\n",
       "      <td>10</td>\n",
       "      <td>Chong-nam</td>\n",
       "      <td>11600.0</td>\n",
       "      <td>6</td>\n",
       "      <td>male</td>\n",
       "      <td>1967</td>\n",
       "      <td>high_school</td>\n",
       "      <td>NA(Under_18)</td>\n",
       "      <td>religious</td>\n",
       "      <td>874</td>\n",
       "      <td>1</td>\n",
       "      <td>employed</td>\n",
       "    </tr>\n",
       "    <tr>\n",
       "      <th>98000701</th>\n",
       "      <td>2015</td>\n",
       "      <td>11</td>\n",
       "      <td>Chong-nam</td>\n",
       "      <td>8327.0</td>\n",
       "      <td>6</td>\n",
       "      <td>male</td>\n",
       "      <td>1967</td>\n",
       "      <td>high_school</td>\n",
       "      <td>NA(Under_18)</td>\n",
       "      <td>religious</td>\n",
       "      <td>874</td>\n",
       "      <td>1</td>\n",
       "      <td>employed</td>\n",
       "    </tr>\n",
       "    <tr>\n",
       "      <th>98000701</th>\n",
       "      <td>2016</td>\n",
       "      <td>12</td>\n",
       "      <td>Chong-nam</td>\n",
       "      <td>7931.0</td>\n",
       "      <td>6</td>\n",
       "      <td>male</td>\n",
       "      <td>1967</td>\n",
       "      <td>high_school</td>\n",
       "      <td>NA(Under_18)</td>\n",
       "      <td>religious</td>\n",
       "      <td>874</td>\n",
       "      <td>1</td>\n",
       "      <td>employed</td>\n",
       "    </tr>\n",
       "    <tr>\n",
       "      <th>98000701</th>\n",
       "      <td>2017</td>\n",
       "      <td>13</td>\n",
       "      <td>Chong-nam</td>\n",
       "      <td>8802.0</td>\n",
       "      <td>5</td>\n",
       "      <td>male</td>\n",
       "      <td>1967</td>\n",
       "      <td>high_school</td>\n",
       "      <td>NA(Under_18)</td>\n",
       "      <td>religious</td>\n",
       "      <td>874</td>\n",
       "      <td>1</td>\n",
       "      <td>employed</td>\n",
       "    </tr>\n",
       "    <tr>\n",
       "      <th>98000701</th>\n",
       "      <td>2018</td>\n",
       "      <td>14</td>\n",
       "      <td>Chong-nam</td>\n",
       "      <td>6747.0</td>\n",
       "      <td>6</td>\n",
       "      <td>male</td>\n",
       "      <td>1967</td>\n",
       "      <td>high_school</td>\n",
       "      <td>NA(Under_18)</td>\n",
       "      <td>religious</td>\n",
       "      <td>874</td>\n",
       "      <td>1</td>\n",
       "      <td>employed</td>\n",
       "    </tr>\n",
       "  </tbody>\n",
       "</table>\n",
       "<p>81046 rows × 13 columns</p>\n",
       "</div>"
      ],
      "text/plain": [
       "          year  wave     region   income  family_member  gender  year_born  \\\n",
       "id                                                                           \n",
       "10101     2005     1      Seoul    614.0              1  female       1936   \n",
       "10101     2011     7      Seoul    896.0              1  female       1936   \n",
       "10101     2012     8      Seoul   1310.0              1  female       1936   \n",
       "10101     2013     9      Seoul   2208.0              1  female       1936   \n",
       "10101     2014    10      Seoul    864.0              1  female       1936   \n",
       "...        ...   ...        ...      ...            ...     ...        ...   \n",
       "98000701  2014    10  Chong-nam  11600.0              6    male       1967   \n",
       "98000701  2015    11  Chong-nam   8327.0              6    male       1967   \n",
       "98000701  2016    12  Chong-nam   7931.0              6    male       1967   \n",
       "98000701  2017    13  Chong-nam   8802.0              5    male       1967   \n",
       "98000701  2018    14  Chong-nam   6747.0              6    male       1967   \n",
       "\n",
       "         education_level      marriage       religion occupation company_size  \\\n",
       "id                                                                              \n",
       "10101       no_education       married  non-religious                           \n",
       "10101       no_education       married  non-religious                           \n",
       "10101       no_education       married  non-religious                           \n",
       "10101       no_education       married  non-religious                           \n",
       "10101       no_education       married  non-religious                           \n",
       "...                  ...           ...            ...        ...          ...   \n",
       "98000701     high_school  NA(Under_18)      religious        874            1   \n",
       "98000701     high_school  NA(Under_18)      religious        874            1   \n",
       "98000701     high_school  NA(Under_18)      religious        874            1   \n",
       "98000701     high_school  NA(Under_18)      religious        874            1   \n",
       "98000701     high_school  NA(Under_18)      religious        874            1   \n",
       "\n",
       "            reason_none_worker  \n",
       "id                              \n",
       "10101                  nursing  \n",
       "10101     no_intention_to_work  \n",
       "10101     no_intention_to_work  \n",
       "10101              not_capable  \n",
       "10101     no_intention_to_work  \n",
       "...                        ...  \n",
       "98000701              employed  \n",
       "98000701              employed  \n",
       "98000701              employed  \n",
       "98000701              employed  \n",
       "98000701              employed  \n",
       "\n",
       "[81046 rows x 13 columns]"
      ]
     },
     "execution_count": 35,
     "metadata": {},
     "output_type": "execute_result"
    }
   ],
   "source": [
    "print(wf.shape)\n",
    "wf"
   ]
  },
  {
   "cell_type": "code",
   "execution_count": 28,
   "metadata": {},
   "outputs": [],
   "source": [
    "wf.loc[wf['occupation'] == ' ', 'occupation'] = 20000\n",
    "\n",
    "wf = wf.astype({'occupation': 'int64'})"
   ]
  },
  {
   "cell_type": "code",
   "execution_count": 29,
   "metadata": {},
   "outputs": [],
   "source": [
    "wf = wf.merge(job_check, on='occupation', how='left')"
   ]
  },
  {
   "cell_type": "markdown",
   "metadata": {},
   "source": [
    "data 가시화\n",
    "\n",
    "우리가 볼 첫 번째 변수는 교육수준별 소득입니다. 데이터의 대부분은 0 전후에 집중되어 있으며 대졸자 중 높은 소득을 받는 사람이 많이 보이는 것을 볼 수 있습니다. 또한 수입이 0미만 이거나 25,000 이상인 행은 있을 수 없거니와 극단적인 이상치일 거라 판단하여 삭제하였습니다."
   ]
  },
  {
   "cell_type": "code",
   "execution_count": 108,
   "metadata": {},
   "outputs": [
    {
     "data": {
      "image/png": "[encoded data removed]",
      "text/plain": [
       "<Figure size 432x288 with 1 Axes>"
      ]
     },
     "metadata": {
      "needs_background": "light"
     },
     "output_type": "display_data"
    }
   ],
   "source": [
    "plt.figure()\n",
    "sns.boxplot(data=wf, x='education_level', y='income')\n",
    "plt.title('Education to Income Comparison')\n",
    "plt.xticks(rotation=45)\n",
    "plt.show()"
   ]
  },
  {
   "cell_type": "code",
   "execution_count": 109,
   "metadata": {},
   "outputs": [
    {
     "data": {
      "text/plain": [
       "0.002      -47.00\n",
       "0.998    25293.83\n",
       "Name: income, dtype: float64"
      ]
     },
     "execution_count": 109,
     "metadata": {},
     "output_type": "execute_result"
    }
   ],
   "source": [
    "wf.income.quantile([.002, .998])"
   ]
  },
  {
   "cell_type": "code",
   "execution_count": 110,
   "metadata": {},
   "outputs": [],
   "source": [
    "wf = wf[(wf['income'] <= 25000) & (wf['income'] >= 0)]"
   ]
  },
  {
   "cell_type": "markdown",
   "metadata": {},
   "source": [
    "이 데이터는 데이터 중 남성의 비율이 훨씬 높다. 또, 증감폭 또한 더 확연히 나타나는 걸 볼 수 있다."
   ]
  },
  {
   "cell_type": "code",
   "execution_count": 111,
   "metadata": {},
   "outputs": [
    {
     "data": {
      "image/png": "[encoded data removed]",
      "text/plain": [
       "<Figure size 1080x576 with 1 Axes>"
      ]
     },
     "metadata": {
      "needs_background": "light"
     },
     "output_type": "display_data"
    }
   ],
   "source": [
    "plt.figure(figsize = (15,8))\n",
    "sns.countplot(data = wf, x='year', hue='gender')\n",
    "plt.title('Total Individuals Per Year by Gender')\n",
    "plt.xticks(rotation=45)\n",
    "plt.show()"
   ]
  },
  {
   "cell_type": "markdown",
   "metadata": {},
   "source": [
    "다음으로 2011년 복지조사에서 증가하는 원인이 되는 구체적인 집단이 있는지를 판단하기 위해 결혼에 따른 내역이 있는지를 확인하고 싶었습니다. 시각화에서는 증가의 대부분은 주로 18세 미만의 개인에 의해 일어난 것을 알 수 있습니다. 2011년에 출산율이 크게 높아졌을 수도 있지만 확인결과  이 때, 한국에서는 출산율이 감소했기 때문에 이런 추론은 불가능하다고 봅니다."
   ]
  },
  {
   "cell_type": "code",
   "execution_count": 112,
   "metadata": {},
   "outputs": [
    {
     "data": {
      "image/png": "[encoded data removed]",
      "text/plain": [
       "<Figure size 1080x576 with 1 Axes>"
      ]
     },
     "metadata": {
      "needs_background": "light"
     },
     "output_type": "display_data"
    }
   ],
   "source": [
    "plt.figure(figsize = (15,8))\n",
    "sns.countplot(data = wf, x='year', hue='marriage')\n",
    "plt.title('Marriage by Year')\n",
    "plt.xticks(rotation=45)\n",
    "plt.show()"
   ]
  },
  {
   "cell_type": "markdown",
   "metadata": {},
   "source": [
    "다음의 가시화에서는, 각 직종(Top 10)에 포함되는 개인의 수를 확인합니다. 조사에 따르면 청소부와 자동차 운전사는 대부분의 사람이 일하고 있는 카테고리입니다. 이들 카테고리의 평균 수입을 나타내는 시각화에서는 청소업자는 다른 모든 상위 직종 중 단연 최저의 보수를 받고 있음을 알 수 있습니다."
   ]
  },
  {
   "cell_type": "code",
   "execution_count": 113,
   "metadata": {},
   "outputs": [
    {
     "data": {
      "image/png": "[encoded data removed]",
      "text/plain": [
       "<Figure size 576x432 with 1 Axes>"
      ]
     },
     "metadata": {
      "needs_background": "light"
     },
     "output_type": "display_data"
    }
   ],
   "source": [
    "plt.figure(figsize = (8,6))\n",
    "sns.countplot(data = wf, y='job_title', order=wf.job_title.value_counts().iloc[1:11].index)\n",
    "plt.xticks(rotation=90)\n",
    "plt.title('Workers by Job Category (Top 10)')\n",
    "plt.show()"
   ]
  },
  {
   "cell_type": "code",
   "execution_count": 114,
   "metadata": {},
   "outputs": [
    {
     "data": {
      "image/png": "[encoded data removed]",
      "text/plain": [
       "<Figure size 864x360 with 1 Axes>"
      ]
     },
     "metadata": {
      "needs_background": "light"
     },
     "output_type": "display_data"
    }
   ],
   "source": [
    "plt.figure(figsize=(12,5))\n",
    "sns.barplot(data=wf, x='job_title', y='income', order=wf.job_title.value_counts().iloc[1:11].index)\n",
    "plt.title('Job Category to Income Comparison (Top 10)')\n",
    "plt.xticks(rotation=90)\n",
    "plt.show()"
   ]
  },
  {
   "cell_type": "markdown",
   "metadata": {},
   "source": [
    "여기서 잠깐! 우리 웹사이트의 주제는 it분야 취업사이트입니다. 따라서 다른 분야와 비교해서 it분야의 income을 시각화로 구현해보고 싶었습니다.\n",
    "상위 income 직군에서 보이는 it 관련분야는 'Information system operator'와 'Computer Hardware and Communication Engineering'가 있군요.\n",
    "각각 4위와 8위에 위치하는 걸 보실 수 있습니다."
   ]
  },
  {
   "cell_type": "code",
   "execution_count": 115,
   "metadata": {},
   "outputs": [
    {
     "data": {
      "text/html": [
       "<div>\n",
       "<style scoped>\n",
       "    .dataframe tbody tr th:only-of-type {\n",
       "        vertical-align: middle;\n",
       "    }\n",
       "\n",
       "    .dataframe tbody tr th {\n",
       "        vertical-align: top;\n",
       "    }\n",
       "\n",
       "    .dataframe thead th {\n",
       "        text-align: right;\n",
       "    }\n",
       "</style>\n",
       "<table border=\"1\" class=\"dataframe\">\n",
       "  <thead>\n",
       "    <tr style=\"text-align: right;\">\n",
       "      <th></th>\n",
       "      <th>job_title</th>\n",
       "      <th>income</th>\n",
       "    </tr>\n",
       "  </thead>\n",
       "  <tbody>\n",
       "    <tr>\n",
       "      <th>0</th>\n",
       "      <td>NaN</td>\n",
       "      <td>614.0</td>\n",
       "    </tr>\n",
       "    <tr>\n",
       "      <th>1</th>\n",
       "      <td>NaN</td>\n",
       "      <td>896.0</td>\n",
       "    </tr>\n",
       "    <tr>\n",
       "      <th>2</th>\n",
       "      <td>NaN</td>\n",
       "      <td>1310.0</td>\n",
       "    </tr>\n",
       "    <tr>\n",
       "      <th>3</th>\n",
       "      <td>NaN</td>\n",
       "      <td>2208.0</td>\n",
       "    </tr>\n",
       "    <tr>\n",
       "      <th>4</th>\n",
       "      <td>NaN</td>\n",
       "      <td>864.0</td>\n",
       "    </tr>\n",
       "    <tr>\n",
       "      <th>...</th>\n",
       "      <td>...</td>\n",
       "      <td>...</td>\n",
       "    </tr>\n",
       "    <tr>\n",
       "      <th>81041</th>\n",
       "      <td>Goods movement equipment operator</td>\n",
       "      <td>11600.0</td>\n",
       "    </tr>\n",
       "    <tr>\n",
       "      <th>81042</th>\n",
       "      <td>Goods movement equipment operator</td>\n",
       "      <td>8327.0</td>\n",
       "    </tr>\n",
       "    <tr>\n",
       "      <th>81043</th>\n",
       "      <td>Goods movement equipment operator</td>\n",
       "      <td>7931.0</td>\n",
       "    </tr>\n",
       "    <tr>\n",
       "      <th>81044</th>\n",
       "      <td>Goods movement equipment operator</td>\n",
       "      <td>8802.0</td>\n",
       "    </tr>\n",
       "    <tr>\n",
       "      <th>81045</th>\n",
       "      <td>Goods movement equipment operator</td>\n",
       "      <td>6747.0</td>\n",
       "    </tr>\n",
       "  </tbody>\n",
       "</table>\n",
       "<p>80707 rows × 2 columns</p>\n",
       "</div>"
      ],
      "text/plain": [
       "                               job_title   income\n",
       "0                                    NaN    614.0\n",
       "1                                    NaN    896.0\n",
       "2                                    NaN   1310.0\n",
       "3                                    NaN   2208.0\n",
       "4                                    NaN    864.0\n",
       "...                                  ...      ...\n",
       "81041  Goods movement equipment operator  11600.0\n",
       "81042  Goods movement equipment operator   8327.0\n",
       "81043  Goods movement equipment operator   7931.0\n",
       "81044  Goods movement equipment operator   8802.0\n",
       "81045  Goods movement equipment operator   6747.0\n",
       "\n",
       "[80707 rows x 2 columns]"
      ]
     },
     "execution_count": 115,
     "metadata": {},
     "output_type": "execute_result"
    }
   ],
   "source": [
    "wf[['job_title','income']]"
   ]
  },
  {
   "cell_type": "code",
   "execution_count": 116,
   "metadata": {},
   "outputs": [
    {
     "data": {
      "text/html": [
       "<div>\n",
       "<style scoped>\n",
       "    .dataframe tbody tr th:only-of-type {\n",
       "        vertical-align: middle;\n",
       "    }\n",
       "\n",
       "    .dataframe tbody tr th {\n",
       "        vertical-align: top;\n",
       "    }\n",
       "\n",
       "    .dataframe thead th {\n",
       "        text-align: right;\n",
       "    }\n",
       "</style>\n",
       "<table border=\"1\" class=\"dataframe\">\n",
       "  <thead>\n",
       "    <tr style=\"text-align: right;\">\n",
       "      <th></th>\n",
       "      <th>job_title</th>\n",
       "      <th>income</th>\n",
       "    </tr>\n",
       "  </thead>\n",
       "  <tbody>\n",
       "    <tr>\n",
       "      <th>148</th>\n",
       "      <td>senior corporate executive</td>\n",
       "      <td>11562.730769</td>\n",
       "    </tr>\n",
       "    <tr>\n",
       "      <th>55</th>\n",
       "      <td>Insurance and Finance Manager</td>\n",
       "      <td>9868.437956</td>\n",
       "    </tr>\n",
       "    <tr>\n",
       "      <th>73</th>\n",
       "      <td>Medical professional</td>\n",
       "      <td>9800.221154</td>\n",
       "    </tr>\n",
       "    <tr>\n",
       "      <th>53</th>\n",
       "      <td>Information system operator</td>\n",
       "      <td>9169.439394</td>\n",
       "    </tr>\n",
       "    <tr>\n",
       "      <th>102</th>\n",
       "      <td>Power generation and distribution equipment op...</td>\n",
       "      <td>9021.187500</td>\n",
       "    </tr>\n",
       "    <tr>\n",
       "      <th>86</th>\n",
       "      <td>Other construction, electricity and production...</td>\n",
       "      <td>8925.156571</td>\n",
       "    </tr>\n",
       "    <tr>\n",
       "      <th>144</th>\n",
       "      <td>jurist</td>\n",
       "      <td>8681.725490</td>\n",
       "    </tr>\n",
       "    <tr>\n",
       "      <th>19</th>\n",
       "      <td>Computer Hardware and Communication Engineerin...</td>\n",
       "      <td>8655.270588</td>\n",
       "    </tr>\n",
       "    <tr>\n",
       "      <th>31</th>\n",
       "      <td>Electrical, electronic and mechanical engineer...</td>\n",
       "      <td>8594.538235</td>\n",
       "    </tr>\n",
       "    <tr>\n",
       "      <th>21</th>\n",
       "      <td>Construction, electricity and production managers</td>\n",
       "      <td>8491.709238</td>\n",
       "    </tr>\n",
       "    <tr>\n",
       "      <th>36</th>\n",
       "      <td>Finance and insurance experts</td>\n",
       "      <td>8359.422144</td>\n",
       "    </tr>\n",
       "  </tbody>\n",
       "</table>\n",
       "</div>"
      ],
      "text/plain": [
       "                                             job_title        income\n",
       "148                         senior corporate executive  11562.730769\n",
       "55                       Insurance and Finance Manager   9868.437956\n",
       "73                                Medical professional   9800.221154\n",
       "53                         Information system operator   9169.439394\n",
       "102  Power generation and distribution equipment op...   9021.187500\n",
       "86   Other construction, electricity and production...   8925.156571\n",
       "144                                             jurist   8681.725490\n",
       "19   Computer Hardware and Communication Engineerin...   8655.270588\n",
       "31   Electrical, electronic and mechanical engineer...   8594.538235\n",
       "21   Construction, electricity and production managers   8491.709238\n",
       "36                       Finance and insurance experts   8359.422144"
      ]
     },
     "execution_count": 116,
     "metadata": {},
     "output_type": "execute_result"
    }
   ],
   "source": [
    "wf2 = wf.groupby('job_title').mean()[['income']]\n",
    "wf2.reset_index(inplace=True)\n",
    "wf2.sort_values(by='income',ascending=False,inplace=True)\n",
    "wf2.iloc[:11,:]"
   ]
  },
  {
   "cell_type": "code",
   "execution_count": 117,
   "metadata": {},
   "outputs": [
    {
     "ename": "PermissionError",
     "evalue": "[Errno 13] Permission denied: 'Job_Category_to_Income_Comparison_(Top_10).csv'",
     "output_type": "error",
     "traceback": [
      "\u001b[1;31m---------------------------------------------------------------------------\u001b[0m",
      "\u001b[1;31mPermissionError\u001b[0m                           Traceback (most recent call last)",
      "\u001b[1;32m~\\AppData\\Local\\Temp/ipykernel_15180/2324077118.py\u001b[0m in \u001b[0;36m<module>\u001b[1;34m\u001b[0m\n\u001b[0;32m      1\u001b[0m \u001b[1;31m#위 데이터프레임 csv로 뽑자!\u001b[0m\u001b[1;33m\u001b[0m\u001b[1;33m\u001b[0m\u001b[1;33m\u001b[0m\u001b[0m\n\u001b[1;32m----> 2\u001b[1;33m \u001b[0mwf2\u001b[0m\u001b[1;33m.\u001b[0m\u001b[0mto_csv\u001b[0m\u001b[1;33m(\u001b[0m\u001b[1;34m'Job_Category_to_Income_Comparison_(Top_10).csv'\u001b[0m\u001b[1;33m)\u001b[0m\u001b[1;33m\u001b[0m\u001b[1;33m\u001b[0m\u001b[0m\n\u001b[0m",
      "\u001b[1;32m~\\anaconda3\\envs\\jorldy\\lib\\site-packages\\pandas\\core\\generic.py\u001b[0m in \u001b[0;36mto_csv\u001b[1;34m(self, path_or_buf, sep, na_rep, float_format, columns, header, index, index_label, mode, encoding, compression, quoting, quotechar, line_terminator, chunksize, date_format, doublequote, escapechar, decimal, errors, storage_options)\u001b[0m\n\u001b[0;32m   3464\u001b[0m         )\n\u001b[0;32m   3465\u001b[0m \u001b[1;33m\u001b[0m\u001b[0m\n\u001b[1;32m-> 3466\u001b[1;33m         return DataFrameRenderer(formatter).to_csv(\n\u001b[0m\u001b[0;32m   3467\u001b[0m             \u001b[0mpath_or_buf\u001b[0m\u001b[1;33m,\u001b[0m\u001b[1;33m\u001b[0m\u001b[1;33m\u001b[0m\u001b[0m\n\u001b[0;32m   3468\u001b[0m             \u001b[0mline_terminator\u001b[0m\u001b[1;33m=\u001b[0m\u001b[0mline_terminator\u001b[0m\u001b[1;33m,\u001b[0m\u001b[1;33m\u001b[0m\u001b[1;33m\u001b[0m\u001b[0m\n",
      "\u001b[1;32m~\\anaconda3\\envs\\jorldy\\lib\\site-packages\\pandas\\io\\formats\\format.py\u001b[0m in \u001b[0;36mto_csv\u001b[1;34m(self, path_or_buf, encoding, sep, columns, index_label, mode, compression, quoting, quotechar, line_terminator, chunksize, date_format, doublequote, escapechar, errors, storage_options)\u001b[0m\n\u001b[0;32m   1103\u001b[0m             \u001b[0mformatter\u001b[0m\u001b[1;33m=\u001b[0m\u001b[0mself\u001b[0m\u001b[1;33m.\u001b[0m\u001b[0mfmt\u001b[0m\u001b[1;33m,\u001b[0m\u001b[1;33m\u001b[0m\u001b[1;33m\u001b[0m\u001b[0m\n\u001b[0;32m   1104\u001b[0m         )\n\u001b[1;32m-> 1105\u001b[1;33m         \u001b[0mcsv_formatter\u001b[0m\u001b[1;33m.\u001b[0m\u001b[0msave\u001b[0m\u001b[1;33m(\u001b[0m\u001b[1;33m)\u001b[0m\u001b[1;33m\u001b[0m\u001b[1;33m\u001b[0m\u001b[0m\n\u001b[0m\u001b[0;32m   1106\u001b[0m \u001b[1;33m\u001b[0m\u001b[0m\n\u001b[0;32m   1107\u001b[0m         \u001b[1;32mif\u001b[0m \u001b[0mcreated_buffer\u001b[0m\u001b[1;33m:\u001b[0m\u001b[1;33m\u001b[0m\u001b[1;33m\u001b[0m\u001b[0m\n",
      "\u001b[1;32m~\\anaconda3\\envs\\jorldy\\lib\\site-packages\\pandas\\io\\formats\\csvs.py\u001b[0m in \u001b[0;36msave\u001b[1;34m(self)\u001b[0m\n\u001b[0;32m    235\u001b[0m         \"\"\"\n\u001b[0;32m    236\u001b[0m         \u001b[1;31m# apply compression and byte/text conversion\u001b[0m\u001b[1;33m\u001b[0m\u001b[1;33m\u001b[0m\u001b[1;33m\u001b[0m\u001b[0m\n\u001b[1;32m--> 237\u001b[1;33m         with get_handle(\n\u001b[0m\u001b[0;32m    238\u001b[0m             \u001b[0mself\u001b[0m\u001b[1;33m.\u001b[0m\u001b[0mfilepath_or_buffer\u001b[0m\u001b[1;33m,\u001b[0m\u001b[1;33m\u001b[0m\u001b[1;33m\u001b[0m\u001b[0m\n\u001b[0;32m    239\u001b[0m             \u001b[0mself\u001b[0m\u001b[1;33m.\u001b[0m\u001b[0mmode\u001b[0m\u001b[1;33m,\u001b[0m\u001b[1;33m\u001b[0m\u001b[1;33m\u001b[0m\u001b[0m\n",
      "\u001b[1;32m~\\anaconda3\\envs\\jorldy\\lib\\site-packages\\pandas\\io\\common.py\u001b[0m in \u001b[0;36mget_handle\u001b[1;34m(path_or_buf, mode, encoding, compression, memory_map, is_text, errors, storage_options)\u001b[0m\n\u001b[0;32m    700\u001b[0m         \u001b[1;32mif\u001b[0m \u001b[0mioargs\u001b[0m\u001b[1;33m.\u001b[0m\u001b[0mencoding\u001b[0m \u001b[1;32mand\u001b[0m \u001b[1;34m\"b\"\u001b[0m \u001b[1;32mnot\u001b[0m \u001b[1;32min\u001b[0m \u001b[0mioargs\u001b[0m\u001b[1;33m.\u001b[0m\u001b[0mmode\u001b[0m\u001b[1;33m:\u001b[0m\u001b[1;33m\u001b[0m\u001b[1;33m\u001b[0m\u001b[0m\n\u001b[0;32m    701\u001b[0m             \u001b[1;31m# Encoding\u001b[0m\u001b[1;33m\u001b[0m\u001b[1;33m\u001b[0m\u001b[1;33m\u001b[0m\u001b[0m\n\u001b[1;32m--> 702\u001b[1;33m             handle = open(\n\u001b[0m\u001b[0;32m    703\u001b[0m                 \u001b[0mhandle\u001b[0m\u001b[1;33m,\u001b[0m\u001b[1;33m\u001b[0m\u001b[1;33m\u001b[0m\u001b[0m\n\u001b[0;32m    704\u001b[0m                 \u001b[0mioargs\u001b[0m\u001b[1;33m.\u001b[0m\u001b[0mmode\u001b[0m\u001b[1;33m,\u001b[0m\u001b[1;33m\u001b[0m\u001b[1;33m\u001b[0m\u001b[0m\n",
      "\u001b[1;31mPermissionError\u001b[0m: [Errno 13] Permission denied: 'Job_Category_to_Income_Comparison_(Top_10).csv'"
     ]
    }
   ],
   "source": [
    "#위 데이터프레임 csv로 뽑자!\n",
    "#wf2.to_csv('Job_Category_to_Income_Comparison_(Top_10).csv')"
   ]
  },
  {
   "cell_type": "code",
   "execution_count": 118,
   "metadata": {},
   "outputs": [
    {
     "data": {
      "image/png": "[encoded data removed]",
      "text/plain": [
       "<Figure size 864x360 with 1 Axes>"
      ]
     },
     "metadata": {
      "needs_background": "light"
     },
     "output_type": "display_data"
    }
   ],
   "source": [
    "plt.figure(figsize=(12,5))\n",
    "sns.barplot(data=wf2.iloc[:11,:], x='job_title', y='income')\n",
    "plt.title('Job Category to Income Comparison (Top 10)')\n",
    "plt.xticks(rotation=90)\n",
    "\n",
    "#plt.axvspan(3.5,4.5, facecolor='gray')\n",
    "plt.show()"
   ]
  },
  {
   "cell_type": "markdown",
   "metadata": {},
   "source": [
    "자 그럼 계속해서!!\n",
    "태어난 해를 쓰는 것보다 개인 나이를 보는 게 더 쉬울 것 같았어요. 다음은 컬럼을 추가하고 year_born을 삭제하는 코드를 보여드리겠습니다."
   ]
  },
  {
   "cell_type": "code",
   "execution_count": 119,
   "metadata": {},
   "outputs": [],
   "source": [
    "wf['age'] = [y-z for y, z in zip(wf['year'], wf['year_born'])]"
   ]
  },
  {
   "cell_type": "code",
   "execution_count": 120,
   "metadata": {},
   "outputs": [],
   "source": [
    "wf=wf.drop('year_born', axis=1)"
   ]
  },
  {
   "cell_type": "code",
   "execution_count": 121,
   "metadata": {},
   "outputs": [
    {
     "name": "stderr",
     "output_type": "stream",
     "text": [
      "C:\\Users\\user\\anaconda3\\envs\\jorldy\\lib\\site-packages\\seaborn\\distributions.py:2619: FutureWarning: `distplot` is a deprecated function and will be removed in a future version. Please adapt your code to use either `displot` (a figure-level function with similar flexibility) or `histplot` (an axes-level function for histograms).\n",
      "  warnings.warn(msg, FutureWarning)\n"
     ]
    },
    {
     "data": {
      "image/png": "[encoded data removed]",
      "text/plain": [
       "<Figure size 432x288 with 1 Axes>"
      ]
     },
     "metadata": {
      "needs_background": "light"
     },
     "output_type": "display_data"
    }
   ],
   "source": [
    "target_0 = wf.loc[wf['gender'] == 'male']\n",
    "target_1 = wf.loc[wf['gender'] == 'female']\n",
    "\n",
    "sns.distplot(target_0[\"age\"], kde=False, bins = 20)\n",
    "sns.distplot(target_1[\"age\"], kde=False, bins = 20)\n",
    "plt.show()"
   ]
  },
  {
   "cell_type": "markdown",
   "metadata": {},
   "source": [
    "이번에는 직종 시각화와 마찬가지로 한국의 지역별 총소득과 평균소득을 보고 싶었습니다. 경기도는 개인이 가장 많은 반면 서울은 평균소득이 가장 높네요. 나는 그 데이터가 그 개인의 지역을 예측하는 데 도움이 되는지 조사하기로 결정했습니다."
   ]
  },
  {
   "cell_type": "code",
   "execution_count": 122,
   "metadata": {},
   "outputs": [
    {
     "data": {
      "image/png": "[encoded data removed]",
      "text/plain": [
       "<Figure size 1080x576 with 1 Axes>"
      ]
     },
     "metadata": {
      "needs_background": "light"
     },
     "output_type": "display_data"
    }
   ],
   "source": [
    "plt.figure(figsize = (15,8))\n",
    "sns.countplot(data = wf, y='region', hue='gender')\n",
    "plt.xticks(rotation=45)\n",
    "plt.show()"
   ]
  },
  {
   "cell_type": "code",
   "execution_count": 123,
   "metadata": {},
   "outputs": [
    {
     "data": {
      "image/png": "[encoded data removed]",
      "text/plain": [
       "<Figure size 432x288 with 1 Axes>"
      ]
     },
     "metadata": {
      "needs_background": "light"
     },
     "output_type": "display_data"
    }
   ],
   "source": [
    "plt.figure()\n",
    "sns.barplot(data=wf, x='region', y='income')\n",
    "plt.xticks(rotation=90)\n",
    "plt.show()"
   ]
  },
  {
   "cell_type": "markdown",
   "metadata": {},
   "source": [
    "분류 모델을 통과하기 전에 0과 1보다 넓은 범위의 열 데이터를 정규화해야 합니다. 정규화가 필요한 컬럼은 연령, 수입, 회사규모 및 가족입니다."
   ]
  },
  {
   "cell_type": "code",
   "execution_count": 124,
   "metadata": {},
   "outputs": [],
   "source": [
    "from sklearn import preprocessing\n",
    "\n",
    "x = np.array(wf['age']) #returns a numpy array\n",
    "x = np.reshape(x,(-1,1))\n",
    "min_max_scaler = preprocessing.MinMaxScaler()\n",
    "x_scaled = min_max_scaler.fit_transform(x)\n",
    "wf['age'] = x_scaled"
   ]
  },
  {
   "cell_type": "code",
   "execution_count": 125,
   "metadata": {},
   "outputs": [],
   "source": [
    "x = np.array(wf['income']) #returns a numpy array\n",
    "x = np.reshape(x,(-1,1))\n",
    "min_max_scaler = preprocessing.MinMaxScaler()\n",
    "x_scaled = min_max_scaler.fit_transform(x)\n",
    "wf['income'] = x_scaled"
   ]
  },
  {
   "cell_type": "code",
   "execution_count": 126,
   "metadata": {},
   "outputs": [],
   "source": [
    "wf.loc[wf['company_size'] == ' ', 'company_size'] = None"
   ]
  },
  {
   "cell_type": "code",
   "execution_count": 127,
   "metadata": {},
   "outputs": [],
   "source": [
    "x = np.array(wf['company_size']) \n",
    "x = np.reshape(x,(-1,1))\n",
    "min_max_scaler = preprocessing.MinMaxScaler()\n",
    "x_scaled = min_max_scaler.fit_transform(x)\n",
    "wf['company_size'] = x_scaled"
   ]
  },
  {
   "cell_type": "code",
   "execution_count": 128,
   "metadata": {},
   "outputs": [],
   "source": [
    "x = np.array(wf['family_member']) \n",
    "x = np.reshape(x,(-1,1))\n",
    "min_max_scaler = preprocessing.MinMaxScaler()\n",
    "x_scaled = min_max_scaler.fit_transform(x)\n",
    "wf['family_member'] = x_scaled"
   ]
  },
  {
   "cell_type": "code",
   "execution_count": 129,
   "metadata": {},
   "outputs": [],
   "source": [
    "x = np.array(wf['year']) \n",
    "x = np.reshape(x,(-1,1))\n",
    "min_max_scaler = preprocessing.MinMaxScaler()\n",
    "x_scaled = min_max_scaler.fit_transform(x)\n",
    "wf['year'] = x_scaled"
   ]
  },
  {
   "cell_type": "markdown",
   "metadata": {},
   "source": [
    "여기서 id와 wave는 식별자이고 wave는 나이와 동일한 정보를 제공할 뿐이므로 더 이상 도움이 되지 않기 때문에 id와 wave를 드롭하는 것을 선택했습니다. 또한 더미변수로 분해해보면 데이터셋에 컬럼이 너무 많기 때문에 회사사이즈가 직업변수와 결부되어 있기 때문에 회사 사이즈와 직업을 드롭하기로 했습니다."
   ]
  },
  {
   "cell_type": "code",
   "execution_count": 130,
   "metadata": {},
   "outputs": [],
   "source": [
    "df=wf[['region', 'income', 'age', 'year','family_member', 'gender', 'education_level', 'marriage', 'religion', 'reason_none_worker']]"
   ]
  },
  {
   "cell_type": "markdown",
   "metadata": {},
   "source": [
    "문자열 형식의 변수를 포함하려면 더미 변수를 사용하여 변수를 분해해야 합니다."
   ]
  },
  {
   "cell_type": "code",
   "execution_count": 131,
   "metadata": {},
   "outputs": [],
   "source": [
    "for col in df.columns[5:]:\n",
    "    df = pd.get_dummies(df, columns=[col], prefix = [col])"
   ]
  },
  {
   "cell_type": "markdown",
   "metadata": {},
   "source": [
    "다음으로 데이터 셋을 열차와 테스트 변수로 분해했습니다. 간단히 하기 위해서, 저는 8:2 비율의 스플릿을 사용했습니다."
   ]
  },
  {
   "cell_type": "code",
   "execution_count": 132,
   "metadata": {},
   "outputs": [],
   "source": [
    "from sklearn.model_selection import train_test_split\n",
    "target = df.iloc[:, 0:1].values.ravel()\n",
    "data = df.iloc[:,1:len(df.columns)]\n",
    "\n",
    "x_train, x_test, y_train, y_test = train_test_split(data, target, test_size=.2, random_state=5)"
   ]
  },
  {
   "cell_type": "markdown",
   "metadata": {},
   "source": [
    "사용할 분류 모델은 Logistic Regression, Decision Tree Classifier 및 KNeighbors Classifier입니다."
   ]
  },
  {
   "cell_type": "code",
   "execution_count": 133,
   "metadata": {},
   "outputs": [],
   "source": [
    "from sklearn.linear_model import LogisticRegression\n",
    "from sklearn.tree import DecisionTreeClassifier\n",
    "from sklearn.neighbors import KNeighborsClassifier"
   ]
  },
  {
   "cell_type": "code",
   "execution_count": 134,
   "metadata": {},
   "outputs": [],
   "source": [
    "model = LogisticRegression(multi_class=\"multinomial\", max_iter=500)\n",
    "model.fit(x_train, y_train)\n",
    "pre = model.predict(x_test)"
   ]
  },
  {
   "cell_type": "code",
   "execution_count": 135,
   "metadata": {},
   "outputs": [],
   "source": [
    "model = DecisionTreeClassifier()\n",
    "model_dec = model.fit(x_train, y_train)\n",
    "pre_dec = model.predict(x_test)"
   ]
  },
  {
   "cell_type": "code",
   "execution_count": 136,
   "metadata": {},
   "outputs": [],
   "source": [
    "neigh = KNeighborsClassifier(n_neighbors = 7).fit(x_train,y_train)\n",
    "pre_kn = neigh.predict(x_test)"
   ]
  },
  {
   "cell_type": "markdown",
   "metadata": {},
   "source": [
    "이하에서는 어느 모델이 최적으로 동작하고 있는지를 판단하기 위해 분류 보고서를 실행했습니다. 이하에서는 KNeighbors가 가장 높은 정밀도의 F1 점수를 가지고 있는 것을 알 수 있습니다(다른 모델보다 약간 높을 뿐입니다)."
   ]
  },
  {
   "cell_type": "code",
   "execution_count": 137,
   "metadata": {},
   "outputs": [
    {
     "name": "stdout",
     "output_type": "stream",
     "text": [
      "Logistic Regression\n"
     ]
    },
    {
     "name": "stderr",
     "output_type": "stream",
     "text": [
      "C:\\Users\\user\\anaconda3\\envs\\jorldy\\lib\\site-packages\\sklearn\\metrics\\_classification.py:1308: UndefinedMetricWarning: Precision and F-score are ill-defined and being set to 0.0 in labels with no predicted samples. Use `zero_division` parameter to control this behavior.\n",
      "  _warn_prf(average, modifier, msg_start, len(result))\n",
      "C:\\Users\\user\\anaconda3\\envs\\jorldy\\lib\\site-packages\\sklearn\\metrics\\_classification.py:1308: UndefinedMetricWarning: Precision and F-score are ill-defined and being set to 0.0 in labels with no predicted samples. Use `zero_division` parameter to control this behavior.\n",
      "  _warn_prf(average, modifier, msg_start, len(result))\n",
      "C:\\Users\\user\\anaconda3\\envs\\jorldy\\lib\\site-packages\\sklearn\\metrics\\_classification.py:1308: UndefinedMetricWarning: Precision and F-score are ill-defined and being set to 0.0 in labels with no predicted samples. Use `zero_division` parameter to control this behavior.\n",
      "  _warn_prf(average, modifier, msg_start, len(result))\n"
     ]
    },
    {
     "name": "stdout",
     "output_type": "stream",
     "text": [
      "                      precision    recall  f1-score   support\n",
      "\n",
      "           Chong-nam       0.00      0.00      0.00      1285\n",
      "Gang-won & Chung-buk       0.55      0.00      0.01      1228\n",
      "                Jeju       0.27      0.36      0.30      2947\n",
      "           Kyeong-gi       0.26      0.49      0.34      3357\n",
      "           Kyong-buk       0.19      0.04      0.06      2113\n",
      "          Kyoung-nam       0.24      0.32      0.27      2819\n",
      "               Seoul       0.30      0.22      0.25      2393\n",
      "\n",
      "            accuracy                           0.26     16142\n",
      "           macro avg       0.26      0.20      0.18     16142\n",
      "        weighted avg       0.26      0.26      0.22     16142\n",
      "\n",
      "Decision Tree\n",
      "                      precision    recall  f1-score   support\n",
      "\n",
      "           Chong-nam       0.15      0.16      0.16      1285\n",
      "Gang-won & Chung-buk       0.17      0.16      0.16      1228\n",
      "                Jeju       0.29      0.29      0.29      2947\n",
      "           Kyeong-gi       0.31      0.30      0.30      3357\n",
      "           Kyong-buk       0.21      0.23      0.22      2113\n",
      "          Kyoung-nam       0.26      0.26      0.26      2819\n",
      "               Seoul       0.28      0.27      0.27      2393\n",
      "\n",
      "            accuracy                           0.26     16142\n",
      "           macro avg       0.24      0.24      0.24     16142\n",
      "        weighted avg       0.26      0.26      0.26     16142\n",
      "\n",
      "KN Neighbors\n",
      "                      precision    recall  f1-score   support\n",
      "\n",
      "           Chong-nam       0.16      0.18      0.17      1285\n",
      "Gang-won & Chung-buk       0.17      0.16      0.17      1228\n",
      "                Jeju       0.27      0.35      0.30      2947\n",
      "           Kyeong-gi       0.29      0.35      0.32      3357\n",
      "           Kyong-buk       0.22      0.18      0.20      2113\n",
      "          Kyoung-nam       0.27      0.23      0.25      2819\n",
      "               Seoul       0.30      0.20      0.24      2393\n",
      "\n",
      "            accuracy                           0.26     16142\n",
      "           macro avg       0.24      0.24      0.23     16142\n",
      "        weighted avg       0.26      0.26      0.25     16142\n",
      "\n"
     ]
    }
   ],
   "source": [
    "from sklearn.metrics import classification_report\n",
    "print('Logistic Regression')\n",
    "print(classification_report(y_test, pre))\n",
    "print('Decision Tree')\n",
    "print(classification_report(y_test, pre_dec))\n",
    "print('KN Neighbors')\n",
    "print(classification_report(y_test, pre_kn))"
   ]
  },
  {
   "cell_type": "markdown",
   "metadata": {},
   "source": [
    "이전 모델에서 neighbor 수는 7로 선택되었습니다. 그 다음 모델의 neighbor 수를 늘려서 정확도 점수를 올릴 수 있는지 여부를 확인합니다. 19명의 이웃이 있으면 정확도를 높일 수 있는데 1.5% 정도밖에 안 됩니다."
   ]
  },
  {
   "cell_type": "code",
   "execution_count": 69,
   "metadata": {},
   "outputs": [],
   "source": [
    "from sklearn import metrics\n",
    "acc = {}\n",
    "for i in range(1,20):\n",
    "    neigh = KNeighborsClassifier(n_neighbors = i).fit(x_train,y_train)\n",
    "    pre_kn = neigh.predict(x_test)\n",
    "    acc[i] = metrics.accuracy_score(y_test, pre_kn)"
   ]
  },
  {
   "cell_type": "code",
   "execution_count": 70,
   "metadata": {},
   "outputs": [
    {
     "name": "stdout",
     "output_type": "stream",
     "text": [
      "{1: 0.2418535497460042, 2: 0.2341717259323504, 3: 0.2393135918721348, 4: 0.24742906703010778, 5: 0.2548630900755792, 6: 0.2574030479494486, 7: 0.25591624334035434, 8: 0.25839425102217817, 9: 0.26390781811423614, 10: 0.2642795192665097, 11: 0.2684301821335646, 12: 0.268987733861975, 13: 0.2697311361665221, 14: 0.271279890967662, 15: 0.2732003469210755, 16: 0.2755544542188081, 17: 0.2752447032585801, 18: 0.2746252013381241, 19: 0.2727047453847107}\n"
     ]
    }
   ],
   "source": [
    "print(acc)"
   ]
  },
  {
   "cell_type": "code",
   "execution_count": 71,
   "metadata": {},
   "outputs": [
    {
     "data": {
      "text/plain": [
       "16"
      ]
     },
     "execution_count": 71,
     "metadata": {},
     "output_type": "execute_result"
    }
   ],
   "source": [
    "import operator\n",
    "\n",
    "max(acc, key=lambda key: acc[key])"
   ]
  },
  {
   "cell_type": "markdown",
   "metadata": {},
   "source": [
    "예측값을 혼동 행렬의 실제 값과 비교하여 예측값이 불충분함을 알 수 있다."
   ]
  },
  {
   "cell_type": "code",
   "execution_count": 72,
   "metadata": {},
   "outputs": [
    {
     "data": {
      "image/png": "[encoded data removed]",
      "text/plain": [
       "<Figure size 720x504 with 2 Axes>"
      ]
     },
     "metadata": {
      "needs_background": "light"
     },
     "output_type": "display_data"
    }
   ],
   "source": [
    "from sklearn.metrics import confusion_matrix \n",
    "\n",
    "final_cm = confusion_matrix(y_test, pre_kn)\n",
    "knn_labels = neigh.classes_\n",
    "\n",
    "plt.figure(figsize=(10,7))\n",
    "\n",
    "ax= plt.subplot()\n",
    "sns.heatmap(final_cm, annot=True, ax = ax, fmt=\"d\");\n",
    "\n",
    "# labels, title and ticks\n",
    "ax.set_xlabel('Predicted labels');\n",
    "ax.set_ylabel('True labels'); \n",
    "ax.set_title('Confusion Matrix');\n",
    "ax.yaxis.set_tick_params(rotation=360)\n",
    "ax.xaxis.set_tick_params(rotation=90)\n",
    "\n",
    "ax.xaxis.set_ticklabels(knn_labels); \n",
    "ax.yaxis.set_ticklabels(knn_labels);"
   ]
  },
  {
   "cell_type": "markdown",
   "metadata": {},
   "source": [
    "결론\n",
    "\n",
    "위 모델을 토대로 제가 선택한 정보는 사람의 출신지를 명확하게 예측하는 것이 아니었습니다. 직업이나 회사의 규모를 줄이지 않으면 모델이 개선되었을 수도 있지만, 지역에 관한 데이터가 비교적 균등하게 분포되어 있기 때문에 이것은 큰 도움이 되지 않았을 수도 있다고 생각합니다. 또한 분류를 위해서 향후 검토할 수 있는 다른 많은 영역 변수도 있습니다."
   ]
  },
  {
   "cell_type": "code",
   "execution_count": null,
   "metadata": {},
   "outputs": [],
   "source": []
  }
 ],
 "metadata": {
  "interpreter": {
   "hash": "f6e67806171a5be3656620128948aeff776c8b6b53eaa3df95311ab8788c7cd3"
  },
  "kernelspec": {
   "display_name": "Python 3.8.12 64-bit ('jorldy': conda)",
   "language": "python",
   "name": "python3"
  },
  "language_info": {
   "codemirror_mode": {
    "name": "ipython",
    "version": 3
   },
   "file_extension": ".py",
   "mimetype": "text/x-python",
   "name": "python",
   "nbconvert_exporter": "python",
   "pygments_lexer": "ipython3",
   "version": "3.8.12"
  },
  "orig_nbformat": 4
 },
 "nbformat": 4,
 "nbformat_minor": 2
}
