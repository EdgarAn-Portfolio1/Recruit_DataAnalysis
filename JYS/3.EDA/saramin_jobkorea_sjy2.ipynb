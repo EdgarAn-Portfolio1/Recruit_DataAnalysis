{
 "cells": [
  {
   "cell_type": "code",
   "execution_count": 1,
   "metadata": {},
   "outputs": [],
   "source": [
    "import pandas as pd\n",
    "import matplotlib as mpl\n",
    "import matplotlib.pyplot as plt\n",
    "import seaborn as sns\n",
    "import numpy as np\n",
    "from collections import Counter\n",
    "from nltk import WhitespaceTokenizer\n",
    "import urllib\n",
    "from wordcloud import WordCloud"
   ]
  },
  {
   "cell_type": "code",
   "execution_count": 2,
   "metadata": {},
   "outputs": [
    {
     "name": "stdout",
     "output_type": "stream",
     "text": [
      "(47645, 10)\n"
     ]
    },
    {
     "data": {
      "text/html": [
       "<div>\n",
       "<style scoped>\n",
       "    .dataframe tbody tr th:only-of-type {\n",
       "        vertical-align: middle;\n",
       "    }\n",
       "\n",
       "    .dataframe tbody tr th {\n",
       "        vertical-align: top;\n",
       "    }\n",
       "\n",
       "    .dataframe thead th {\n",
       "        text-align: right;\n",
       "    }\n",
       "</style>\n",
       "<table border=\"1\" class=\"dataframe\">\n",
       "  <thead>\n",
       "    <tr style=\"text-align: right;\">\n",
       "      <th></th>\n",
       "      <th>resource</th>\n",
       "      <th>company</th>\n",
       "      <th>duty</th>\n",
       "      <th>career</th>\n",
       "      <th>degree</th>\n",
       "      <th>work_place</th>\n",
       "      <th>work_type</th>\n",
       "      <th>category</th>\n",
       "      <th>link</th>\n",
       "      <th>info</th>\n",
       "    </tr>\n",
       "  </thead>\n",
       "  <tbody>\n",
       "    <tr>\n",
       "      <th>0</th>\n",
       "      <td>jobkorea</td>\n",
       "      <td>디휴브(DEHUV)</td>\n",
       "      <td>[디휴브] 개발자 부문채용</td>\n",
       "      <td>신입·경력</td>\n",
       "      <td>학력무관</td>\n",
       "      <td>경기 고양시</td>\n",
       "      <td>정규직</td>\n",
       "      <td>['반응형 웹, 백엔드, 풀스택, 하이브리드 앱, 소프트웨어개발, BigData, ...</td>\n",
       "      <td>https://www.jobkorea.co.kr/Recruit/GI_Read/366...</td>\n",
       "      <td>https://www.jobkorea.co.kr/Recruit/Co_Read/C/d...</td>\n",
       "    </tr>\n",
       "    <tr>\n",
       "      <th>1</th>\n",
       "      <td>jobkorea</td>\n",
       "      <td>㈜레미유코스메틱</td>\n",
       "      <td>브랜드 디자이너 / MD / (카페)쇼룸 매니저 채용</td>\n",
       "      <td>경력</td>\n",
       "      <td>학력무관</td>\n",
       "      <td>서울 성동구</td>\n",
       "      <td>정규직                 외\\r\\n</td>\n",
       "      <td>['화장품, 마케팅, 마케팅기획, 브랜딩, 프로모션, 상품기획, 신상품개발, 온라인...</td>\n",
       "      <td>https://www.jobkorea.co.kr/Recruit/GI_Read/366...</td>\n",
       "      <td>https://www.jobkorea.co.kr/Recruit/Co_Read/C/l...</td>\n",
       "    </tr>\n",
       "    <tr>\n",
       "      <th>2</th>\n",
       "      <td>jobkorea</td>\n",
       "      <td>㈜순진</td>\n",
       "      <td>마케팅 담당자 및 상품기획/MD 경력직 채용</td>\n",
       "      <td>경력2년↑</td>\n",
       "      <td>고졸↑</td>\n",
       "      <td>서울 광진구</td>\n",
       "      <td>정규직</td>\n",
       "      <td>['영상편집, 포토샵, 제품기획, 광고기획, 마케팅, 마케팅기획, 바이럴마케팅, 브...</td>\n",
       "      <td>https://www.jobkorea.co.kr/Recruit/GI_Read/366...</td>\n",
       "      <td>https://www.jobkorea.co.kr/Recruit/Co_Read/C/s...</td>\n",
       "    </tr>\n",
       "  </tbody>\n",
       "</table>\n",
       "</div>"
      ],
      "text/plain": [
       "   resource     company                           duty career degree  \\\n",
       "0  jobkorea  디휴브(DEHUV)                 [디휴브] 개발자 부문채용  신입·경력   학력무관   \n",
       "1  jobkorea    ㈜레미유코스메틱  브랜드 디자이너 / MD / (카페)쇼룸 매니저 채용     경력   학력무관   \n",
       "2  jobkorea         ㈜순진       마케팅 담당자 및 상품기획/MD 경력직 채용  경력2년↑    고졸↑   \n",
       "\n",
       "  work_place                  work_type  \\\n",
       "0     경기 고양시                        정규직   \n",
       "1     서울 성동구  정규직                 외\\r\\n   \n",
       "2     서울 광진구                        정규직   \n",
       "\n",
       "                                            category  \\\n",
       "0  ['반응형 웹, 백엔드, 풀스택, 하이브리드 앱, 소프트웨어개발, BigData, ...   \n",
       "1  ['화장품, 마케팅, 마케팅기획, 브랜딩, 프로모션, 상품기획, 신상품개발, 온라인...   \n",
       "2  ['영상편집, 포토샵, 제품기획, 광고기획, 마케팅, 마케팅기획, 바이럴마케팅, 브...   \n",
       "\n",
       "                                                link  \\\n",
       "0  https://www.jobkorea.co.kr/Recruit/GI_Read/366...   \n",
       "1  https://www.jobkorea.co.kr/Recruit/GI_Read/366...   \n",
       "2  https://www.jobkorea.co.kr/Recruit/GI_Read/366...   \n",
       "\n",
       "                                                info  \n",
       "0  https://www.jobkorea.co.kr/Recruit/Co_Read/C/d...  \n",
       "1  https://www.jobkorea.co.kr/Recruit/Co_Read/C/l...  \n",
       "2  https://www.jobkorea.co.kr/Recruit/Co_Read/C/s...  "
      ]
     },
     "execution_count": 2,
     "metadata": {},
     "output_type": "execute_result"
    }
   ],
   "source": [
    "# 데이터 읽기\n",
    "df = pd.read_csv(r'\\Users\\dataAnalysis-project\\JYS\\3.EDA\\jobkorea_saramin_recruit.csv', index_col=0, encoding='cp949')\n",
    "print(df.shape)\n",
    "df.head(3)"
   ]
  },
  {
   "cell_type": "markdown",
   "metadata": {},
   "source": [
    "## 서울 시군구별 채용공고 올린 갯수 비교"
   ]
  },
  {
   "cell_type": "code",
   "execution_count": 3,
   "metadata": {},
   "outputs": [],
   "source": [
    "place = df[df['work_place'].str.contains('서울') ]\n",
    "place = place['work_place']"
   ]
  },
  {
   "cell_type": "code",
   "execution_count": 4,
   "metadata": {},
   "outputs": [],
   "source": [
    "place2 = pd.DataFrame(place)"
   ]
  },
  {
   "cell_type": "code",
   "execution_count": 5,
   "metadata": {},
   "outputs": [
    {
     "data": {
      "text/plain": [
       "30126"
      ]
     },
     "execution_count": 5,
     "metadata": {},
     "output_type": "execute_result"
    }
   ],
   "source": [
    "place2.replace(['서울', '외', '전체', '전지역'], '', regex=True, inplace=True)\n",
    "place3 = place2['work_place']\n",
    "len(place3)"
   ]
  },
  {
   "cell_type": "code",
   "execution_count": 6,
   "metadata": {},
   "outputs": [],
   "source": [
    "tokenizer = WhitespaceTokenizer()"
   ]
  },
  {
   "cell_type": "code",
   "execution_count": 7,
   "metadata": {},
   "outputs": [
    {
     "data": {
      "text/plain": [
       "[('강남구', 7868),\n",
       " ('서초구', 3001),\n",
       " ('금천구', 2957),\n",
       " ('영등포구', 2110),\n",
       " ('구로구', 1912),\n",
       " ('마포구', 1805),\n",
       " ('송파구', 1439),\n",
       " ('성동구', 1409),\n",
       " ('중구', 1348),\n",
       " ('강서구', 1041),\n",
       " ('종로구', 730),\n",
       " ('용산구', 637),\n",
       " ('광진구', 270),\n",
       " ('동작구', 237),\n",
       " ('동대문구', 235),\n",
       " ('관악구', 227),\n",
       " ('양천구', 191),\n",
       " ('서대문구', 190),\n",
       " ('강동구', 190),\n",
       " ('중랑구', 188),\n",
       " ('성북구', 170),\n",
       " ('노원구', 102),\n",
       " ('은평구', 96),\n",
       " ('도봉구', 61),\n",
       " ('강북구', 54)]"
      ]
     },
     "execution_count": 7,
     "metadata": {},
     "output_type": "execute_result"
    }
   ],
   "source": [
    "tokens4 = tokenizer.tokenize(' '.join(place3))\n",
    "counter4 = Counter(tokens4)\n",
    "counter4.most_common()"
   ]
  },
  {
   "cell_type": "code",
   "execution_count": 8,
   "metadata": {},
   "outputs": [
    {
     "data": {
      "text/plain": [
       "collections.Counter"
      ]
     },
     "execution_count": 8,
     "metadata": {},
     "output_type": "execute_result"
    }
   ],
   "source": [
    "type(counter4)"
   ]
  },
  {
   "cell_type": "code",
   "execution_count": 9,
   "metadata": {},
   "outputs": [],
   "source": [
    "df_work_place = pd.DataFrame.from_dict(counter4, orient='index').reset_index()\n",
    "df_work_place.rename(columns={'index':'district', 0:'count'}, inplace=True)\n",
    "df_work_place = df_work_place.sort_values(by='count' ,ascending=False)"
   ]
  },
  {
   "cell_type": "code",
   "execution_count": 10,
   "metadata": {},
   "outputs": [
    {
     "data": {
      "text/html": [
       "<div>\n",
       "<style scoped>\n",
       "    .dataframe tbody tr th:only-of-type {\n",
       "        vertical-align: middle;\n",
       "    }\n",
       "\n",
       "    .dataframe tbody tr th {\n",
       "        vertical-align: top;\n",
       "    }\n",
       "\n",
       "    .dataframe thead th {\n",
       "        text-align: right;\n",
       "    }\n",
       "</style>\n",
       "<table border=\"1\" class=\"dataframe\">\n",
       "  <thead>\n",
       "    <tr style=\"text-align: right;\">\n",
       "      <th></th>\n",
       "      <th>count</th>\n",
       "    </tr>\n",
       "    <tr>\n",
       "      <th>district</th>\n",
       "      <th></th>\n",
       "    </tr>\n",
       "  </thead>\n",
       "  <tbody>\n",
       "    <tr>\n",
       "      <th>강남구</th>\n",
       "      <td>7868</td>\n",
       "    </tr>\n",
       "    <tr>\n",
       "      <th>서초구</th>\n",
       "      <td>3001</td>\n",
       "    </tr>\n",
       "    <tr>\n",
       "      <th>금천구</th>\n",
       "      <td>2957</td>\n",
       "    </tr>\n",
       "    <tr>\n",
       "      <th>영등포구</th>\n",
       "      <td>2110</td>\n",
       "    </tr>\n",
       "    <tr>\n",
       "      <th>구로구</th>\n",
       "      <td>1912</td>\n",
       "    </tr>\n",
       "  </tbody>\n",
       "</table>\n",
       "</div>"
      ],
      "text/plain": [
       "          count\n",
       "district       \n",
       "강남구        7868\n",
       "서초구        3001\n",
       "금천구        2957\n",
       "영등포구       2110\n",
       "구로구        1912"
      ]
     },
     "execution_count": 10,
     "metadata": {},
     "output_type": "execute_result"
    }
   ],
   "source": [
    "df_work_place.set_index(\"district\", inplace=True)\n",
    "df_work_place.head()"
   ]
  },
  {
   "cell_type": "code",
   "execution_count": 11,
   "metadata": {},
   "outputs": [
    {
     "data": {
      "text/html": [
       "<div>\n",
       "<style scoped>\n",
       "    .dataframe tbody tr th:only-of-type {\n",
       "        vertical-align: middle;\n",
       "    }\n",
       "\n",
       "    .dataframe tbody tr th {\n",
       "        vertical-align: top;\n",
       "    }\n",
       "\n",
       "    .dataframe thead th {\n",
       "        text-align: right;\n",
       "    }\n",
       "</style>\n",
       "<table border=\"1\" class=\"dataframe\">\n",
       "  <thead>\n",
       "    <tr style=\"text-align: right;\">\n",
       "      <th></th>\n",
       "      <th>count</th>\n",
       "    </tr>\n",
       "  </thead>\n",
       "  <tbody>\n",
       "    <tr>\n",
       "      <th>count</th>\n",
       "      <td>25.000000</td>\n",
       "    </tr>\n",
       "    <tr>\n",
       "      <th>mean</th>\n",
       "      <td>1138.720000</td>\n",
       "    </tr>\n",
       "    <tr>\n",
       "      <th>std</th>\n",
       "      <td>1670.011515</td>\n",
       "    </tr>\n",
       "    <tr>\n",
       "      <th>min</th>\n",
       "      <td>54.000000</td>\n",
       "    </tr>\n",
       "    <tr>\n",
       "      <th>25%</th>\n",
       "      <td>190.000000</td>\n",
       "    </tr>\n",
       "    <tr>\n",
       "      <th>50%</th>\n",
       "      <td>270.000000</td>\n",
       "    </tr>\n",
       "    <tr>\n",
       "      <th>75%</th>\n",
       "      <td>1439.000000</td>\n",
       "    </tr>\n",
       "    <tr>\n",
       "      <th>max</th>\n",
       "      <td>7868.000000</td>\n",
       "    </tr>\n",
       "  </tbody>\n",
       "</table>\n",
       "</div>"
      ],
      "text/plain": [
       "             count\n",
       "count    25.000000\n",
       "mean   1138.720000\n",
       "std    1670.011515\n",
       "min      54.000000\n",
       "25%     190.000000\n",
       "50%     270.000000\n",
       "75%    1439.000000\n",
       "max    7868.000000"
      ]
     },
     "execution_count": 11,
     "metadata": {},
     "output_type": "execute_result"
    }
   ],
   "source": [
    "df_work_place.describe()"
   ]
  },
  {
   "cell_type": "markdown",
   "metadata": {},
   "source": [
    "## 서울 구별 채용건수 시각화 표현"
   ]
  },
  {
   "cell_type": "code",
   "execution_count": 12,
   "metadata": {},
   "outputs": [],
   "source": [
    "#matplotlib 패키지 한글 깨짐 처리 시작\n",
    "import matplotlib as mpl\n",
    "mpl.rc('font', family='Malgun Gothic') #윈도우, 구글 콜랩\n",
    "#mpl.rc('font', family='AppleGothic') #맥\n",
    "mpl.rcParams['axes.unicode_minus'] = False"
   ]
  },
  {
   "cell_type": "code",
   "execution_count": 13,
   "metadata": {},
   "outputs": [
    {
     "data": {
      "image/png": "[encoded data removed]",
      "text/plain": [
       "<Figure size 1080x720 with 1 Axes>"
      ]
     },
     "metadata": {
      "needs_background": "light"
     },
     "output_type": "display_data"
    }
   ],
   "source": [
    "plt.figure(figsize=(15, 10))\n",
    "df_work_place['count'].plot(kind=\"bar\")\n",
    "plt.xlabel('district')\n",
    "plt.ylabel('count')\n",
    "plt.xticks(rotation = 45)\n",
    "\n",
    "plt.show()"
   ]
  },
  {
   "cell_type": "markdown",
   "metadata": {},
   "source": [
    "## 채용공고 요구 학력 분포 시각화 표현"
   ]
  },
  {
   "cell_type": "code",
   "execution_count": 14,
   "metadata": {},
   "outputs": [
    {
     "data": {
      "text/plain": [
       "학력무관         24015\n",
       "초대졸↑          6945\n",
       "대학교(4년)↑      4853\n",
       "대학(2,3년)↑     4659\n",
       "대졸↑           3879\n",
       "고졸↑           2888\n",
       "석사↑            308\n",
       "-               65\n",
       "박사↑             23\n",
       "박사              10\n",
       "Name: degree, dtype: int64"
      ]
     },
     "execution_count": 14,
     "metadata": {},
     "output_type": "execute_result"
    }
   ],
   "source": [
    "# degree 컬럼\n",
    "df['degree'].value_counts()"
   ]
  },
  {
   "cell_type": "code",
   "execution_count": 15,
   "metadata": {},
   "outputs": [],
   "source": [
    "# df.drop(df.loc[df['degree']=='서울 마포구'].index,inplace=True)\n",
    "df['degree'] = df['degree'].str.replace('초대졸↑','대학(2,3년)↑')\n",
    "df['degree'] = df['degree'].str.replace('대졸↑','대학교(4년)↑')\n",
    "df['degree'] = df['degree'].str.replace('박사','박사↑')"
   ]
  },
  {
   "cell_type": "code",
   "execution_count": 16,
   "metadata": {},
   "outputs": [],
   "source": [
    "df['degree'] = df['degree'].str.replace('박사↑↑','박사↑')"
   ]
  },
  {
   "cell_type": "code",
   "execution_count": 17,
   "metadata": {},
   "outputs": [
    {
     "data": {
      "text/plain": [
       "학력무관         24015\n",
       "대학(2,3년)↑    11604\n",
       "대학교(4년)↑      8732\n",
       "고졸↑           2888\n",
       "석사↑            308\n",
       "-               65\n",
       "박사↑             33\n",
       "Name: degree, dtype: int64"
      ]
     },
     "execution_count": 17,
     "metadata": {},
     "output_type": "execute_result"
    }
   ],
   "source": [
    "df['degree'].value_counts()"
   ]
  },
  {
   "cell_type": "code",
   "execution_count": 18,
   "metadata": {},
   "outputs": [
    {
     "data": {
      "image/png": "[encoded data removed]",
      "text/plain": [
       "<Figure size 1080x720 with 1 Axes>"
      ]
     },
     "metadata": {
      "needs_background": "light"
     },
     "output_type": "display_data"
    }
   ],
   "source": [
    "plt.figure(figsize=(15, 10))\n",
    "df['degree'].value_counts().plot(kind=\"bar\")\n",
    "plt.xlabel('Education')\n",
    "plt.ylabel('count')\n",
    "plt.xticks(rotation = 45)\n",
    "plt.show()"
   ]
  },
  {
   "cell_type": "code",
   "execution_count": null,
   "metadata": {},
   "outputs": [],
   "source": []
  }
 ],
 "metadata": {
  "interpreter": {
   "hash": "6d46af94c2bbce495f1e668725902fa517c90b1782bcfe2fce0dd9868df553d3"
  },
  "kernelspec": {
   "display_name": "Python 3.9.7 64-bit ('base': conda)",
   "language": "python",
   "name": "python3"
  },
  "language_info": {
   "codemirror_mode": {
    "name": "ipython",
    "version": 3
   },
   "file_extension": ".py",
   "mimetype": "text/x-python",
   "name": "python",
   "nbconvert_exporter": "python",
   "pygments_lexer": "ipython3",
   "version": "3.8.12"
  },
  "orig_nbformat": 4
 },
 "nbformat": 4,
 "nbformat_minor": 2
}
