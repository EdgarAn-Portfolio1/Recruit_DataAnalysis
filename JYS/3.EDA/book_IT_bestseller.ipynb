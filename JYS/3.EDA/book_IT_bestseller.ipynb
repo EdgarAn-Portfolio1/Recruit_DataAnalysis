{
 "cells": [
  {
   "cell_type": "code",
   "execution_count": 3,
   "metadata": {},
   "outputs": [],
   "source": [
    "import pandas as pd\n",
    "import numpy as np\n"
   ]
  },
  {
   "cell_type": "code",
   "execution_count": 6,
   "metadata": {},
   "outputs": [
    {
     "name": "stdout",
     "output_type": "stream",
     "text": [
      "(20, 7)\n"
     ]
    },
    {
     "data": {
      "text/html": [
       "<div>\n",
       "<style scoped>\n",
       "    .dataframe tbody tr th:only-of-type {\n",
       "        vertical-align: middle;\n",
       "    }\n",
       "\n",
       "    .dataframe tbody tr th {\n",
       "        vertical-align: top;\n",
       "    }\n",
       "\n",
       "    .dataframe thead th {\n",
       "        text-align: right;\n",
       "    }\n",
       "</style>\n",
       "<table border=\"1\" class=\"dataframe\">\n",
       "  <thead>\n",
       "    <tr style=\"text-align: right;\">\n",
       "      <th></th>\n",
       "      <th>책이름</th>\n",
       "      <th>저자</th>\n",
       "      <th>출판사</th>\n",
       "      <th>초판일</th>\n",
       "      <th>가격</th>\n",
       "      <th>할인율</th>\n",
       "      <th>평점</th>\n",
       "    </tr>\n",
       "  </thead>\n",
       "  <tbody>\n",
       "    <tr>\n",
       "      <th>0</th>\n",
       "      <td>혼자 공부하는 파이썬</td>\n",
       "      <td>윤인성</td>\n",
       "      <td>한빛미디어</td>\n",
       "      <td>\\n                                            ...</td>\n",
       "      <td>16,200원</td>\n",
       "      <td>[10%할인]</td>\n",
       "      <td>9.6</td>\n",
       "    </tr>\n",
       "    <tr>\n",
       "      <th>1</th>\n",
       "      <td>비전공자를 위한 이해할 수 있는 IT 지식</td>\n",
       "      <td>최원영</td>\n",
       "      <td>티더블유아이지</td>\n",
       "      <td>\\n                                            ...</td>\n",
       "      <td>15,120원</td>\n",
       "      <td>[10%할인]</td>\n",
       "      <td>8.5</td>\n",
       "    </tr>\n",
       "    <tr>\n",
       "      <th>2</th>\n",
       "      <td>대규모 서비스를 지탱하는 기술(웹 개발자를 위한)</td>\n",
       "      <td>이토 나오야</td>\n",
       "      <td>제이펍</td>\n",
       "      <td>\\n                                            ...</td>\n",
       "      <td>22,500원</td>\n",
       "      <td>[10%할인]</td>\n",
       "      <td>10.0</td>\n",
       "    </tr>\n",
       "  </tbody>\n",
       "</table>\n",
       "</div>"
      ],
      "text/plain": [
       "                           책이름      저자      출판사  \\\n",
       "0                  혼자 공부하는 파이썬     윤인성    한빛미디어   \n",
       "1      비전공자를 위한 이해할 수 있는 IT 지식     최원영  티더블유아이지   \n",
       "2  대규모 서비스를 지탱하는 기술(웹 개발자를 위한)  이토 나오야      제이펍   \n",
       "\n",
       "                                                 초판일       가격      할인율    평점  \n",
       "0  \\n                                            ...  16,200원  [10%할인]   9.6  \n",
       "1  \\n                                            ...  15,120원  [10%할인]   8.5  \n",
       "2  \\n                                            ...  22,500원  [10%할인]  10.0  "
      ]
     },
     "execution_count": 6,
     "metadata": {},
     "output_type": "execute_result"
    }
   ],
   "source": [
    "# 데이터 읽기\n",
    "df = pd.read_csv('book_IT_bestseller.csv', index_col=0)\n",
    "print(df.shape)\n",
    "df.head(3)"
   ]
  },
  {
   "cell_type": "code",
   "execution_count": 7,
   "metadata": {},
   "outputs": [
    {
     "data": {
      "text/plain": [
       "0     \\n                                            ...\n",
       "1     \\n                                            ...\n",
       "2     \\n                                            ...\n",
       "3     \\n                                            ...\n",
       "4     \\n                                            ...\n",
       "5     \\n                                            ...\n",
       "6     \\n                                            ...\n",
       "7     \\n                                            ...\n",
       "8     \\n                                            ...\n",
       "9     \\n                                            ...\n",
       "10    \\n                                            ...\n",
       "11    \\n                                            ...\n",
       "12    \\n                                            ...\n",
       "13    \\n                                            ...\n",
       "14    \\n                                            ...\n",
       "15    \\n                                            ...\n",
       "16    \\n                                            ...\n",
       "17    \\n                                            ...\n",
       "18    \\n                                            ...\n",
       "19    \\n                                            ...\n",
       "Name: 초판일, dtype: object"
      ]
     },
     "execution_count": 7,
     "metadata": {},
     "output_type": "execute_result"
    }
   ],
   "source": [
    "df['초판일']"
   ]
  },
  {
   "cell_type": "code",
   "execution_count": 10,
   "metadata": {},
   "outputs": [
    {
     "data": {
      "text/plain": [
       "0     2019.06.10\n",
       "1     2020.07.14\n",
       "2     2011.02.28\n",
       "3     2021.08.02\n",
       "4     2021.11.26\n",
       "5     2020.04.10\n",
       "6     2021.10.04\n",
       "7     2019.06.20\n",
       "8     2020.12.21\n",
       "9     2021.04.02\n",
       "10    2021.01.18\n",
       "11    2018.11.30\n",
       "12    2021.10.04\n",
       "13    2021.10.25\n",
       "14    2021.11.19\n",
       "15    2013.12.24\n",
       "16    2021.01.22\n",
       "17    2021.08.02\n",
       "18    2020.08.05\n",
       "19    2021.12.01\n",
       "Name: 초판일, dtype: object"
      ]
     },
     "execution_count": 10,
     "metadata": {},
     "output_type": "execute_result"
    }
   ],
   "source": [
    "df['초판일'] = df['초판일'].str.replace('\\n','')\n",
    "df['초판일'] = df['초판일'].str.replace(' ','')\n",
    "df['초판일'] = df['초판일'].str.replace('\\t','')\n",
    "df['초판일']"
   ]
  },
  {
   "cell_type": "code",
   "execution_count": 13,
   "metadata": {},
   "outputs": [],
   "source": [
    "df.rename(columns={'평점':\"평점(10점 만점)\"},inplace=True)"
   ]
  },
  {
   "cell_type": "code",
   "execution_count": 14,
   "metadata": {},
   "outputs": [
    {
     "data": {
      "text/html": [
       "<div>\n",
       "<style scoped>\n",
       "    .dataframe tbody tr th:only-of-type {\n",
       "        vertical-align: middle;\n",
       "    }\n",
       "\n",
       "    .dataframe tbody tr th {\n",
       "        vertical-align: top;\n",
       "    }\n",
       "\n",
       "    .dataframe thead th {\n",
       "        text-align: right;\n",
       "    }\n",
       "</style>\n",
       "<table border=\"1\" class=\"dataframe\">\n",
       "  <thead>\n",
       "    <tr style=\"text-align: right;\">\n",
       "      <th></th>\n",
       "      <th>책이름</th>\n",
       "      <th>저자</th>\n",
       "      <th>출판사</th>\n",
       "      <th>초판일</th>\n",
       "      <th>가격</th>\n",
       "      <th>할인율</th>\n",
       "      <th>평점(10점 만점)</th>\n",
       "    </tr>\n",
       "  </thead>\n",
       "  <tbody>\n",
       "    <tr>\n",
       "      <th>0</th>\n",
       "      <td>혼자 공부하는 파이썬</td>\n",
       "      <td>윤인성</td>\n",
       "      <td>한빛미디어</td>\n",
       "      <td>2019.06.10</td>\n",
       "      <td>16,200원</td>\n",
       "      <td>[10%할인]</td>\n",
       "      <td>9.6</td>\n",
       "    </tr>\n",
       "    <tr>\n",
       "      <th>1</th>\n",
       "      <td>비전공자를 위한 이해할 수 있는 IT 지식</td>\n",
       "      <td>최원영</td>\n",
       "      <td>티더블유아이지</td>\n",
       "      <td>2020.07.14</td>\n",
       "      <td>15,120원</td>\n",
       "      <td>[10%할인]</td>\n",
       "      <td>8.5</td>\n",
       "    </tr>\n",
       "    <tr>\n",
       "      <th>2</th>\n",
       "      <td>대규모 서비스를 지탱하는 기술(웹 개발자를 위한)</td>\n",
       "      <td>이토 나오야</td>\n",
       "      <td>제이펍</td>\n",
       "      <td>2011.02.28</td>\n",
       "      <td>22,500원</td>\n",
       "      <td>[10%할인]</td>\n",
       "      <td>10.0</td>\n",
       "    </tr>\n",
       "    <tr>\n",
       "      <th>3</th>\n",
       "      <td>2022 시나공 총정리 컴퓨터활용능력 1급 필기</td>\n",
       "      <td>길벗R&amp;D</td>\n",
       "      <td>길벗</td>\n",
       "      <td>2021.08.02</td>\n",
       "      <td>18,000원</td>\n",
       "      <td>[10%할인]</td>\n",
       "      <td>8.3</td>\n",
       "    </tr>\n",
       "    <tr>\n",
       "      <th>4</th>\n",
       "      <td>클린 아키텍처(만들면서 배우는)(위키북스 IT Leaders 시리즈 34)</td>\n",
       "      <td>톰 홈버그</td>\n",
       "      <td>위키북스</td>\n",
       "      <td>2021.11.26</td>\n",
       "      <td>16,200원</td>\n",
       "      <td>[10%할인]</td>\n",
       "      <td>0.0</td>\n",
       "    </tr>\n",
       "  </tbody>\n",
       "</table>\n",
       "</div>"
      ],
      "text/plain": [
       "                                         책이름      저자      출판사         초판일  \\\n",
       "0                                혼자 공부하는 파이썬     윤인성    한빛미디어  2019.06.10   \n",
       "1                    비전공자를 위한 이해할 수 있는 IT 지식     최원영  티더블유아이지  2020.07.14   \n",
       "2                대규모 서비스를 지탱하는 기술(웹 개발자를 위한)  이토 나오야      제이펍  2011.02.28   \n",
       "3                 2022 시나공 총정리 컴퓨터활용능력 1급 필기   길벗R&D       길벗  2021.08.02   \n",
       "4  클린 아키텍처(만들면서 배우는)(위키북스 IT Leaders 시리즈 34)   톰 홈버그     위키북스  2021.11.26   \n",
       "\n",
       "        가격      할인율  평점(10점 만점)  \n",
       "0  16,200원  [10%할인]         9.6  \n",
       "1  15,120원  [10%할인]         8.5  \n",
       "2  22,500원  [10%할인]        10.0  \n",
       "3  18,000원  [10%할인]         8.3  \n",
       "4  16,200원  [10%할인]         0.0  "
      ]
     },
     "execution_count": 14,
     "metadata": {},
     "output_type": "execute_result"
    }
   ],
   "source": [
    "df.head()"
   ]
  },
  {
   "cell_type": "code",
   "execution_count": 15,
   "metadata": {},
   "outputs": [],
   "source": [
    "df.to_csv('book_IT_bestseller.csv')"
   ]
  }
 ],
 "metadata": {
  "interpreter": {
   "hash": "7f8a298e880cf99c9c7a0b66a05672eb9bf2d8825a9da8d2e07c7170541f5baf"
  },
  "kernelspec": {
   "display_name": "Python 3.8.10 64-bit ('base': conda)",
   "language": "python",
   "name": "python3"
  },
  "language_info": {
   "codemirror_mode": {
    "name": "ipython",
    "version": 3
   },
   "file_extension": ".py",
   "mimetype": "text/x-python",
   "name": "python",
   "nbconvert_exporter": "python",
   "pygments_lexer": "ipython3",
   "version": "3.9.7"
  },
  "orig_nbformat": 4
 },
 "nbformat": 4,
 "nbformat_minor": 2
}
