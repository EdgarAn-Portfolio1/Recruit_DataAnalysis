{
 "cells": [
  {
   "cell_type": "code",
   "execution_count": 1,
   "metadata": {},
   "outputs": [],
   "source": [
    "# Collaborative Filtering\n",
    "# 그냥 다양한 모델 사용할 줄 알면 됨. ㅇㅅㅇ "
   ]
  },
  {
   "cell_type": "code",
   "execution_count": 1,
   "metadata": {},
   "outputs": [],
   "source": [
    "from surprise import KNNBasic, SVD, SVDpp, NMF\n",
    "from surprise import Dataset\n",
    "from surprise.model_selection import cross_validate"
   ]
  },
  {
   "cell_type": "code",
   "execution_count": 2,
   "metadata": {},
   "outputs": [],
   "source": [
    "data = Dataset.load_builtin('ml-100k', prompt=False)"
   ]
  },
  {
   "cell_type": "code",
   "execution_count": 3,
   "metadata": {},
   "outputs": [
    {
     "name": "stdout",
     "output_type": "stream",
     "text": [
      "Evaluating RMSE, MAE of algorithm KNNBasic on 5 split(s).\n",
      "\n",
      "                  Fold 1  Fold 2  Fold 3  Fold 4  Fold 5  Mean    Std     \n",
      "RMSE (testset)    0.9769  0.9804  0.9726  0.9831  0.9818  0.9789  0.0038  \n",
      "MAE (testset)     0.7715  0.7741  0.7690  0.7778  0.7733  0.7731  0.0029  \n",
      "Fit time          0.92    0.96    0.97    0.98    0.73    0.91    0.09    \n",
      "Test time         5.24    5.18    5.21    5.23    3.63    4.90    0.64    \n"
     ]
    },
    {
     "data": {
      "text/plain": [
       "{'test_rmse': array([0.97691153, 0.98040165, 0.97255674, 0.98307453, 0.98175412]),\n",
       " 'test_mae': array([0.77147497, 0.77411714, 0.76896581, 0.77777408, 0.77333149]),\n",
       " 'fit_time': (0.9231131076812744,\n",
       "  0.9588112831115723,\n",
       "  0.966005802154541,\n",
       "  0.9819705486297607,\n",
       "  0.7313868999481201),\n",
       " 'test_time': (5.243407726287842,\n",
       "  5.184443235397339,\n",
       "  5.211901426315308,\n",
       "  5.234527826309204,\n",
       "  3.6307809352874756)}"
      ]
     },
     "execution_count": 3,
     "metadata": {},
     "output_type": "execute_result"
    }
   ],
   "source": [
    "#KNN\n",
    "model = KNNBasic()\n",
    "cross_validate(model, data, measures=['rmse', 'mae'], cv=5, n_jobs=4, verbose=True)"
   ]
  },
  {
   "cell_type": "code",
   "execution_count": 4,
   "metadata": {},
   "outputs": [
    {
     "name": "stdout",
     "output_type": "stream",
     "text": [
      "Evaluating RMSE, MAE of algorithm SVD on 5 split(s).\n",
      "\n",
      "                  Fold 1  Fold 2  Fold 3  Fold 4  Fold 5  Mean    Std     \n",
      "RMSE (testset)    0.9407  0.9350  0.9321  0.9303  0.9359  0.9348  0.0036  \n",
      "MAE (testset)     0.7387  0.7361  0.7362  0.7340  0.7362  0.7362  0.0015  \n",
      "Fit time          7.25    7.45    7.42    7.23    4.74    6.82    1.04    \n",
      "Test time         0.23    0.22    0.21    0.20    0.18    0.21    0.02    \n"
     ]
    },
    {
     "data": {
      "text/plain": [
       "{'test_rmse': array([0.94073535, 0.93502388, 0.9320959 , 0.93025207, 0.93588927]),\n",
       " 'test_mae': array([0.73871997, 0.73611618, 0.73621013, 0.73399004, 0.73618727]),\n",
       " 'fit_time': (7.252501010894775,\n",
       "  7.44963264465332,\n",
       "  7.4190833568573,\n",
       "  7.229587554931641,\n",
       "  4.736588001251221),\n",
       " 'test_time': (0.23021316528320312,\n",
       "  0.21843576431274414,\n",
       "  0.21349763870239258,\n",
       "  0.20383095741271973,\n",
       "  0.18009042739868164)}"
      ]
     },
     "execution_count": 4,
     "metadata": {},
     "output_type": "execute_result"
    }
   ],
   "source": [
    "#SVD\n",
    "model = SVD()\n",
    "cross_validate(model, data, measures=['rmse', 'mae'], cv=5, n_jobs=4, verbose=True)"
   ]
  },
  {
   "cell_type": "code",
   "execution_count": 5,
   "metadata": {},
   "outputs": [
    {
     "name": "stdout",
     "output_type": "stream",
     "text": [
      "Evaluating RMSE, MAE of algorithm NMF on 5 split(s).\n",
      "\n",
      "                  Fold 1  Fold 2  Fold 3  Fold 4  Fold 5  Mean    Std     \n",
      "RMSE (testset)    0.9642  0.9623  0.9654  0.9585  0.9688  0.9639  0.0034  \n",
      "MAE (testset)     0.7573  0.7568  0.7611  0.7546  0.7624  0.7584  0.0029  \n",
      "Fit time          8.27    8.43    8.37    8.47    6.66    8.04    0.69    \n",
      "Test time         0.25    0.25    0.19    0.19    0.19    0.21    0.03    \n"
     ]
    },
    {
     "data": {
      "text/plain": [
       "{'test_rmse': array([0.96424966, 0.96233612, 0.96541879, 0.9584586 , 0.96883995]),\n",
       " 'test_mae': array([0.75731733, 0.75675795, 0.76110871, 0.75458235, 0.76235853]),\n",
       " 'fit_time': (8.273199319839478,\n",
       "  8.431807518005371,\n",
       "  8.37096881866455,\n",
       "  8.470701694488525,\n",
       "  6.657318115234375),\n",
       " 'test_time': (0.25333499908447266,\n",
       "  0.24733638763427734,\n",
       "  0.19148731231689453,\n",
       "  0.1930241584777832,\n",
       "  0.18650078773498535)}"
      ]
     },
     "execution_count": 5,
     "metadata": {},
     "output_type": "execute_result"
    }
   ],
   "source": [
    "#NMF\n",
    "model = NMF()\n",
    "cross_validate(model, data, measures=['rmse', 'mae'], cv=5, n_jobs=4, verbose=True)"
   ]
  },
  {
   "cell_type": "code",
   "execution_count": null,
   "metadata": {},
   "outputs": [],
   "source": [
    "# SVD++는 너무 오래걸려서 실용적이지 않음."
   ]
  },
  {
   "cell_type": "markdown",
   "metadata": {},
   "source": [
    "# http://machinelearningkorea.com/2019/05/18/surprise-라이브러리를-이용한-협업필터링collaborative-filtering-파이썬-치/"
   ]
  },
  {
   "cell_type": "code",
   "execution_count": 2,
   "metadata": {},
   "outputs": [],
   "source": [
    "import pandas as pd\n",
    "import os\n",
    "# 맥os의 경우 시도때도없이 다운되서 아래와 같이 넣어준다.\n",
    "os.environ['KMP_DUPLICATE_LIB_OK']='True'"
   ]
  },
  {
   "cell_type": "code",
   "execution_count": null,
   "metadata": {},
   "outputs": [],
   "source": [
    "ratings = pd.read('즐거찾기한 데이타')\n",
    "ratings.head(3)"
   ]
  },
  {
   "cell_type": "code",
   "execution_count": 3,
   "metadata": {},
   "outputs": [],
   "source": [
    "# scale 지정하는 코드 , 즐겨찾기인데 스케일이 있으려나\n",
    "reader = Reader(rating_scale=(,))\n",
    "data = Dataset.load_from_df(ratings[['userId', 'companyIndex', 'rating']], reader)"
   ]
  },
  {
   "cell_type": "code",
   "execution_count": null,
   "metadata": {},
   "outputs": [],
   "source": [
    "#SVD\n",
    "model = SVD()\n",
    "cross_validate(model, data, measures=['rmse', 'mae'], cv=5, n_jobs=4, verbose=True)\n",
    "# n_jobs=4, verbose=True -> 병렬로 4번, 자세하게"
   ]
  }
 ],
 "metadata": {
  "interpreter": {
   "hash": "7f8a298e880cf99c9c7a0b66a05672eb9bf2d8825a9da8d2e07c7170541f5baf"
  },
  "kernelspec": {
   "display_name": "Python 3.8.10 64-bit ('base': conda)",
   "language": "python",
   "name": "python3"
  },
  "language_info": {
   "codemirror_mode": {
    "name": "ipython",
    "version": 3
   },
   "file_extension": ".py",
   "mimetype": "text/x-python",
   "name": "python",
   "nbconvert_exporter": "python",
   "pygments_lexer": "ipython3",
   "version": "3.8.12"
  },
  "orig_nbformat": 4
 },
 "nbformat": 4,
 "nbformat_minor": 2
}
