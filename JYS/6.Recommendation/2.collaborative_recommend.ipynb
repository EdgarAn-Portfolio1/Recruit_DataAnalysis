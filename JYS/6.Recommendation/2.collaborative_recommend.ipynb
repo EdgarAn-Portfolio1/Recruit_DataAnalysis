{
 "cells": [
  {
   "cell_type": "code",
   "execution_count": 1,
   "metadata": {},
   "outputs": [],
   "source": [
    "# Collaborative Filtering\n",
    "# 그냥 다양한 모델 사용할 줄 알면 됨. ㅇㅅㅇ "
   ]
  },
  {
   "cell_type": "code",
   "execution_count": 3,
   "metadata": {},
   "outputs": [],
   "source": [
    "from surprise import KNNBasic, SVD, SVDpp, NMF\n",
    "from surprise import Dataset\n",
    "from surprise.model_selection import cross_validate"
   ]
  },
  {
   "cell_type": "code",
   "execution_count": 4,
   "metadata": {},
   "outputs": [],
   "source": [
    "data = Dataset.load_builtin('ml-100k', prompt=False)"
   ]
  },
  {
   "cell_type": "code",
   "execution_count": 5,
   "metadata": {},
   "outputs": [
    {
     "name": "stdout",
     "output_type": "stream",
     "text": [
      "Computing the msd similarity matrix...\n",
      "Computing the msd similarity matrix...\n",
      "Computing the msd similarity matrix...\n",
      "Computing the msd similarity matrix...\n",
      "Done computing similarity matrix.\n",
      "Done computing similarity matrix.\n",
      "Done computing similarity matrix.\n",
      "Done computing similarity matrix.\n",
      "Computing the msd similarity matrix...\n",
      "Done computing similarity matrix.\n",
      "Evaluating RMSE, MAE of algorithm KNNBasic on 5 split(s).\n",
      "\n",
      "                  Fold 1  Fold 2  Fold 3  Fold 4  Fold 5  Mean    Std     \n",
      "RMSE (testset)    0.9788  0.9852  0.9737  0.9806  0.9774  0.9791  0.0038  \n",
      "MAE (testset)     0.7716  0.7798  0.7652  0.7746  0.7737  0.7730  0.0047  \n",
      "Fit time          0.34    0.33    0.33    0.30    0.13    0.29    0.08    \n",
      "Test time         1.89    1.89    1.88    1.89    1.70    1.85    0.07    \n"
     ]
    },
    {
     "data": {
      "text/plain": [
       "{'test_rmse': array([0.97884314, 0.9851804 , 0.97372009, 0.98055613, 0.97739215]),\n",
       " 'test_mae': array([0.77162   , 0.77978535, 0.76518994, 0.7745577 , 0.77371097]),\n",
       " 'fit_time': (0.34395527839660645,\n",
       "  0.3336620330810547,\n",
       "  0.33402395248413086,\n",
       "  0.2981407642364502,\n",
       "  0.1342461109161377),\n",
       " 'test_time': (1.8932340145111084,\n",
       "  1.8906850814819336,\n",
       "  1.8825619220733643,\n",
       "  1.8884270191192627,\n",
       "  1.7042717933654785)}"
      ]
     },
     "execution_count": 5,
     "metadata": {},
     "output_type": "execute_result"
    }
   ],
   "source": [
    "#KNN\n",
    "model = KNNBasic()\n",
    "cross_validate(model, data, measures=['rmse', 'mae'], cv=5, n_jobs=4, verbose=True)"
   ]
  },
  {
   "cell_type": "code",
   "execution_count": 6,
   "metadata": {},
   "outputs": [
    {
     "name": "stdout",
     "output_type": "stream",
     "text": [
      "Evaluating RMSE, MAE of algorithm SVD on 5 split(s).\n",
      "\n",
      "                  Fold 1  Fold 2  Fold 3  Fold 4  Fold 5  Mean    Std     \n",
      "RMSE (testset)    0.9350  0.9294  0.9347  0.9423  0.9392  0.9361  0.0044  \n",
      "MAE (testset)     0.7349  0.7338  0.7343  0.7447  0.7386  0.7373  0.0041  \n",
      "Fit time          4.53    4.53    4.19    4.20    3.59    4.21    0.34    \n",
      "Test time         0.11    0.11    0.11    0.12    0.09    0.11    0.01    \n"
     ]
    },
    {
     "data": {
      "text/plain": [
       "{'test_rmse': array([0.93503556, 0.92943284, 0.93466569, 0.94229616, 0.93916493]),\n",
       " 'test_mae': array([0.73487103, 0.7338436 , 0.73427977, 0.74469122, 0.73857121]),\n",
       " 'fit_time': (4.530519008636475,\n",
       "  4.534479141235352,\n",
       "  4.18601393699646,\n",
       "  4.201440095901489,\n",
       "  3.592824935913086),\n",
       " 'test_time': (0.11404705047607422,\n",
       "  0.10937380790710449,\n",
       "  0.1121988296508789,\n",
       "  0.12063217163085938,\n",
       "  0.08910083770751953)}"
      ]
     },
     "execution_count": 6,
     "metadata": {},
     "output_type": "execute_result"
    }
   ],
   "source": [
    "#SVD\n",
    "model = SVD()\n",
    "cross_validate(model, data, measures=['rmse', 'mae'], cv=5, n_jobs=4, verbose=True)"
   ]
  },
  {
   "cell_type": "code",
   "execution_count": 7,
   "metadata": {},
   "outputs": [
    {
     "name": "stdout",
     "output_type": "stream",
     "text": [
      "Evaluating RMSE, MAE of algorithm NMF on 5 split(s).\n",
      "\n",
      "                  Fold 1  Fold 2  Fold 3  Fold 4  Fold 5  Mean    Std     \n",
      "RMSE (testset)    0.9656  0.9635  0.9668  0.9634  0.9676  0.9654  0.0017  \n",
      "MAE (testset)     0.7581  0.7595  0.7600  0.7544  0.7601  0.7585  0.0021  \n",
      "Fit time          3.62    3.63    3.69    3.64    3.09    3.53    0.22    \n",
      "Test time         0.10    0.11    0.09    0.09    0.08    0.09    0.01    \n"
     ]
    },
    {
     "data": {
      "text/plain": [
       "{'test_rmse': array([0.96564984, 0.96354041, 0.96679891, 0.96335701, 0.96760537]),\n",
       " 'test_mae': array([0.75813996, 0.75952186, 0.7600456 , 0.75442798, 0.76012488]),\n",
       " 'fit_time': (3.6152868270874023,\n",
       "  3.6270320415496826,\n",
       "  3.6889710426330566,\n",
       "  3.6376919746398926,\n",
       "  3.093350887298584),\n",
       " 'test_time': (0.09564614295959473,\n",
       "  0.10567092895507812,\n",
       "  0.09100794792175293,\n",
       "  0.09234213829040527,\n",
       "  0.07530617713928223)}"
      ]
     },
     "execution_count": 7,
     "metadata": {},
     "output_type": "execute_result"
    }
   ],
   "source": [
    "#NMF\n",
    "model = NMF()\n",
    "cross_validate(model, data, measures=['rmse', 'mae'], cv=5, n_jobs=4, verbose=True)"
   ]
  },
  {
   "cell_type": "code",
   "execution_count": null,
   "metadata": {},
   "outputs": [],
   "source": [
    "# SVD++는 너무 오래걸려서 실용적이지 않음."
   ]
  },
  {
   "cell_type": "markdown",
   "metadata": {},
   "source": [
    "# http://machinelearningkorea.com/2019/05/18/surprise-라이브러리를-이용한-협업필터링collaborative-filtering-파이썬-치/"
   ]
  },
  {
   "cell_type": "code",
   "execution_count": 2,
   "metadata": {},
   "outputs": [],
   "source": [
    "import pandas as pd\n",
    "import os\n",
    "# 맥os의 경우 시도때도없이 다운되서 아래와 같이 넣어준다.\n",
    "os.environ['KMP_DUPLICATE_LIB_OK']='True'"
   ]
  },
  {
   "cell_type": "code",
   "execution_count": null,
   "metadata": {},
   "outputs": [],
   "source": [
    "ratings = pd.read('즐거찾기한 데이타')\n",
    "ratings.head(3)"
   ]
  },
  {
   "cell_type": "code",
   "execution_count": 3,
   "metadata": {},
   "outputs": [],
   "source": [
    "# scale 지정하는 코드 , 즐겨찾기인데 스케일이 있으려나\n",
    "reader = Reader(rating_scale=(,))\n",
    "data = Dataset.load_from_df(ratings[['userId', 'companyIndex', 'rating']], reader)"
   ]
  },
  {
   "cell_type": "code",
   "execution_count": null,
   "metadata": {},
   "outputs": [],
   "source": [
    "#SVD\n",
    "model = SVD()\n",
    "cross_validate(model, data, measures=['rmse', 'mae'], cv=5, n_jobs=4, verbose=True)\n",
    "# n_jobs=4, verbose=True -> 병렬로 4번, 자세하게"
   ]
  }
 ],
 "metadata": {
  "interpreter": {
   "hash": "7f8a298e880cf99c9c7a0b66a05672eb9bf2d8825a9da8d2e07c7170541f5baf"
  },
  "kernelspec": {
   "display_name": "Python 3.8.10 64-bit ('base': conda)",
   "language": "python",
   "name": "python3"
  },
  "language_info": {
   "codemirror_mode": {
    "name": "ipython",
    "version": 3
   },
   "file_extension": ".py",
   "mimetype": "text/x-python",
   "name": "python",
   "nbconvert_exporter": "python",
   "pygments_lexer": "ipython3",
   "version": "3.8.10"
  },
  "orig_nbformat": 4
 },
 "nbformat": 4,
 "nbformat_minor": 2
}
