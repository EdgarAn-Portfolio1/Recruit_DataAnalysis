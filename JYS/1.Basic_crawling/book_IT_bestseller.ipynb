{
 "cells": [
  {
   "cell_type": "code",
   "execution_count": 1,
   "metadata": {},
   "outputs": [],
   "source": [
    "from selenium import webdriver\n",
    "from selenium.webdriver.common.by import By\n",
    "from bs4 import BeautifulSoup\n",
    "from urllib.parse import urljoin\n",
    "import re\n",
    "import time"
   ]
  },
  {
   "cell_type": "code",
   "execution_count": 2,
   "metadata": {},
   "outputs": [],
   "source": [
    "main_url = 'http://www.kyobobook.co.kr'\n"
   ]
  },
  {
   "cell_type": "code",
   "execution_count": 5,
   "metadata": {},
   "outputs": [
    {
     "name": "stderr",
     "output_type": "stream",
     "text": [
      "C:\\Users\\user\\AppData\\Local\\Temp/ipykernel_9436/1419483228.py:1: DeprecationWarning: executable_path has been deprecated, please pass in a Service object\n",
      "  browser = webdriver.Chrome(r'\\Users\\user\\Downloads\\chromedriver')\n"
     ]
    }
   ],
   "source": [
    "browser = webdriver.Chrome(r'\\Users\\user\\Downloads\\chromedriver')"
   ]
  },
  {
   "cell_type": "code",
   "execution_count": 106,
   "metadata": {},
   "outputs": [],
   "source": [
    "url = 'http://www.kyobobook.co.kr/categoryRenewal/categoryMain.laf?perPage=20&mallGb=KOR&linkClass=33&menuCode=002'\n",
    "browser.get(url)\n",
    "soup = BeautifulSoup(browser.page_source)"
   ]
  },
  {
   "cell_type": "code",
   "execution_count": 127,
   "metadata": {},
   "outputs": [],
   "source": [
    "book = {}\n",
    "\n",
    "lis= soup.select('#frmList > ul > li > div > div > .detail > div > a')"
   ]
  },
  {
   "cell_type": "code",
   "execution_count": 128,
   "metadata": {},
   "outputs": [
    {
     "data": {
      "text/plain": [
       "[<a href=\"javascript:makeDetailUrl('KOR','33','9791162241882','0 ', 'N' )\" onclick=\"javascript:ecommerceClickListGA('9791162241882', 'KOR', '혼자 공부하는 파이썬                                                                                ', '한빛미디어', '33', '윤인성', '컴퓨터/IT', '카테고리_KOR_33');\"><strong>혼자 공부하는 파이썬</strong></a>,\n",
       " <a href=\"javascript:makeDetailUrl('KOR','33','9791196918033','0 ', 'N' )\" onclick=\"javascript:ecommerceClickListGA('9791196918033', 'KOR', '비전공자를 위한 이해할 수 있는 IT 지식                                                              ', '티더블유아이지', '33', '최원영', '컴퓨터/IT', '카테고리_KOR_33');\"><strong>비전공자를 위한 이해할 수 있는 IT 지식</strong></a>,\n",
       " <a href=\"javascript:makeDetailUrl('KOR','33','9788994506128','0 ', 'N' )\" onclick=\"javascript:ecommerceClickListGA('9788994506128', 'KOR', '대규모 서비스를 지탱하는 기술                                                                       ', '제이펍', '33', '이토 나오야', '컴퓨터/IT', '카테고리_KOR_33');\"><strong>대규모 서비스를 지탱하는 기술(웹 개발자를 위한)</strong></a>,\n",
       " <a href=\"javascript:makeDetailUrl('KOR','33','9791165216351','0 ', 'N' )\" onclick=\"javascript:ecommerceClickListGA('9791165216351', 'KOR', '2022 시나공 총정리 컴퓨터활용능력 1급 필기                                                          ', '길벗', '33', '길벗R&amp;D', '컴퓨터/IT', '카테고리_KOR_33');\"><strong>2022 시나공 총정리 컴퓨터활용능력 1급 필기</strong></a>,\n",
       " <a href=\"javascript:makeDetailUrl('KOR','33','9791158392758','0 ', 'N' )\" onclick=\"javascript:ecommerceClickListGA('9791158392758', 'KOR', '클린 아키텍처                                                                                       ', '위키북스', '33', '톰 홈버그', '컴퓨터/IT', '카테고리_KOR_33');\"><strong>클린 아키텍처(만들면서 배우는)(위키북스 IT Leaders 시리즈 34)</strong></a>,\n",
       " <a href=\"javascript:makeDetailUrl('KOR','33','9791162243008','0 ', 'N' )\" onclick=\"javascript:ecommerceClickListGA('9791162243008', 'KOR', '회사에서 바로 통하는 실무 엑셀+파워포인트+워드&amp;한글                                                 ', '한빛미디어', '33', '전미진', '컴퓨터/IT', '카테고리_KOR_33');\"><strong>회사에서 바로 통하는 실무 엑셀+파워포인트+워드&amp;한글</strong></a>,\n",
       " <a href=\"javascript:makeDetailUrl('KOR','33','9791165217044','0 ', 'N' )\" onclick=\"javascript:ecommerceClickListGA('9791165217044', 'KOR', '2022 시나공 컴퓨터활용능력 1급 실기 엑셀, 엑세스 2016                                               ', '길벗', '33', '길벗R&amp;D', '컴퓨터/IT', '카테고리_KOR_33');\"><strong>2022 시나공 컴퓨터활용능력 1급 실기 엑셀, 엑세스 2016</strong></a>,\n",
       " <a href=\"javascript:makeDetailUrl('KOR','33','9791163030911','0 ', 'N' )\" onclick=\"javascript:ecommerceClickListGA('9791163030911', 'KOR', 'Do it! 점프 투 파이썬                                                                               ', '이지스퍼블리싱', '33', '박응용', '컴퓨터/IT', '카테고리_KOR_33');\"><strong>Do it! 점프 투 파이썬</strong></a>,\n",
       " <a href=\"javascript:makeDetailUrl('KOR','33','9791162243664','0 ', 'N' )\" onclick=\"javascript:ecommerceClickListGA('9791162243664', 'KOR', '혼자 공부하는 머신러닝+딥러닝                                                                       ', '한빛미디어', '33', '박해선', '컴퓨터/IT', '카테고리_KOR_33');\"><strong>혼자 공부하는 머신러닝+딥러닝</strong></a>,\n",
       " <a href=\"javascript:makeDetailUrl('KOR','33','9791166622212','0 ', 'N' )\" onclick=\"javascript:ecommerceClickListGA('9791166622212', 'KOR', '전산세무 2급 이론+실기+최신기출(2021)                                                               ', '해커스금융', '33', '이남호', '컴퓨터/IT', '카테고리_KOR_33');\"><strong>전산세무 2급 이론+실기+최신기출(2021)(해커스)(개정판)</strong></a>,\n",
       " <a href=\"javascript:makeDetailUrl('KOR','33','9791166620492','0 ', 'N' )\" onclick=\"javascript:ecommerceClickListGA('9791166620492', 'KOR', '전산회계 1급 이론+실기+기출문제(2021)                                                               ', '해커스금융', '33', '이남호', '컴퓨터/IT', '카테고리_KOR_33');\"><strong>전산회계 1급 이론+실기+기출문제(2021)(해커스)(개정판)</strong></a>,\n",
       " <a href=\"javascript:makeDetailUrl('KOR','33','9788966262335','0 ', 'N' )\" onclick=\"javascript:ecommerceClickListGA('9788966262335', 'KOR', '함께 자라기                                                                                         ', '인사이트', '33', '김창준', '컴퓨터/IT', '카테고리_KOR_33');\"><strong>함께 자라기</strong></a>,\n",
       " <a href=\"javascript:makeDetailUrl('KOR','33','9791165217051','0 ', 'N' )\" onclick=\"javascript:ecommerceClickListGA('9791165217051', 'KOR', '2022 시나공 컴퓨터활용능력 2급 실기 엑셀2016                                                        ', '길벗', '33', '길벗R&amp;D', '컴퓨터/IT', '카테고리_KOR_33');\"><strong>2022 시나공 컴퓨터활용능력 2급 실기 엑셀2016</strong></a>,\n",
       " <a href=\"javascript:makeDetailUrl('KOR','33','9791165217303','0 ', 'N' )\" onclick=\"javascript:ecommerceClickListGA('9791165217303', 'KOR', '2022 시나공 정보처리기사 필기                                                                       ', '길벗', '33', '길벗R&amp;D', '컴퓨터/IT', '카테고리_KOR_33');\"><strong>2022 시나공 정보처리기사 필기(전2권)</strong></a>,\n",
       " <a href=\"javascript:makeDetailUrl('KOR','33','9788965403197','0 ', 'N' )\" onclick=\"javascript:ecommerceClickListGA('9788965403197', 'KOR', '2022 빅데이터 분석 기사 실기 필답형+작업형                                                          ', '프리렉', '33', '양지언', '컴퓨터/IT', '카테고리_KOR_33');\"><strong>2022 빅데이터 분석 기사 실기 필답형+작업형</strong></a>,\n",
       " <a href=\"javascript:makeDetailUrl('KOR','33','9788966260959','0 ', 'N' )\" onclick=\"javascript:ecommerceClickListGA('9788966260959', 'KOR', 'Clean Code(클린 코드)                                                                               ', '인사이트', '33', '로버트 C. 마틴', '컴퓨터/IT', '카테고리_KOR_33');\"><strong>Clean Code(클린 코드)</strong></a>,\n",
       " <a href=\"javascript:makeDetailUrl('KOR','33','9791163032212','0 ', 'N' )\" onclick=\"javascript:ecommerceClickListGA('9791163032212', 'KOR', 'Do it! HTML+CSS+자바스크립트 웹 표준의 정석                                                         ', '이지스퍼블리싱', '33', '고경희', '컴퓨터/IT', '카테고리_KOR_33');\"><strong>Do it! HTML+CSS+자바스크립트 웹 표준의 정석</strong></a>,\n",
       " <a href=\"javascript:makeDetailUrl('KOR','33','9791165216368','0 ', 'N' )\" onclick=\"javascript:ecommerceClickListGA('9791165216368', 'KOR', '2022 시나공 총정리 컴퓨터활용능력 2급 필기                                                          ', '길벗', '33', '길벗R&amp;D', '컴퓨터/IT', '카테고리_KOR_33');\"><strong>2022 시나공 총정리 컴퓨터활용능력 2급 필기</strong></a>,\n",
       " <a href=\"javascript:makeDetailUrl('KOR','33','9791162243077','0 ', 'N' )\" onclick=\"javascript:ecommerceClickListGA('9791162243077', 'KOR', '이것이 취업을 위한 코딩 테스트다 with 파이썬                                                        ', '한빛미디어', '33', '나동빈', '컴퓨터/IT', '카테고리_KOR_33');\"><strong>이것이 취업을 위한 코딩 테스트다 with 파이썬</strong></a>,\n",
       " <a href=\"javascript:makeDetailUrl('KOR','33','9791163033165','0 ', 'N' )\" onclick=\"javascript:ecommerceClickListGA('9791163033165', 'KOR', 'Do it! BERT와 GPT로 배우는 자연어 처리                                                              ', '이지스퍼블리싱', '33', '이기창', '컴퓨터/IT', '카테고리_KOR_33');\"><strong>Do it! BERT와 GPT로 배우는 자연어 처리</strong></a>]"
      ]
     },
     "execution_count": 128,
     "metadata": {},
     "output_type": "execute_result"
    }
   ],
   "source": [
    "lis"
   ]
  },
  {
   "cell_type": "code",
   "execution_count": 44,
   "metadata": {},
   "outputs": [],
   "source": [
    "link = {}\n",
    "\n",
    "link['title1'] = soup.select_one('.book_best_type > .book_con > ul > li > div > .detail > div > a').attrs['href']\n",
    "#link['title2'] = soup.select_one('.book_best_type > .book_con > ul > li > div > .detail > div > a').attrs['href']\n",
    "# link['title3'] = soup.select_one('.book_best_type > .book_con > ul > li > div > a')[0].attrs['href']\n",
    "# link['title4'] = soup.select_one('.book_best_type > .book_con > ul > li > div > a')[1].attrs['href']\n",
    "# link['title5'] = soup.select_one('.book_best_type > .book_con > ul > li > div > a')[2].attrs['href']\n",
    "# link['title6'] = soup.select_one('.book_best_type > .book_con > ul > li > div > a')[3].attrs['href']\n",
    "# link['title7'] = soup.select_one('.book_best_type > .book_con > ul > li > div > a')[4].attrs['href']"
   ]
  },
  {
   "cell_type": "code",
   "execution_count": 131,
   "metadata": {},
   "outputs": [],
   "source": [
    "book_ITbestseller =[]\n",
    "\n",
    "url = 'http://www.kyobobook.co.kr/categoryRenewal/categoryMain.laf?perPage=20&mallGb=KOR&linkClass=33&menuCode=002'\n",
    "browser.get(url)\n",
    "soup = BeautifulSoup(browser.page_source)\n",
    "\n",
    "for tag in soup.select('#frmList > ul > li > div > div > .detail'):\n",
    "\n",
    "    if soup.select('#frmList > ul > li > div > div > .detail') == []:\n",
    "        break\n",
    "    book = {}\n",
    "\n",
    "    book['책이름'] = tag.select('div > a')[0].text\n",
    "    book['저자'] = tag.select('.pub_info > span')[0].text\n",
    "    book['출판사'] = tag.select('.pub_info > span')[1].text\n",
    "    book['초판일'] = tag.select('.pub_info > span')[2].text\n",
    "    book['가격'] = tag.select('.price > strong')[0].text\n",
    "    book['할인율'] = tag.select('.price > span')[0].text\n",
    "    book['평점'] = tag.select('.review_score > span > strong')[0].text\n",
    "\n",
    "    book_ITbestseller.append(book)\n",
    "            \n",
    "    time.sleep(.5)\n"
   ]
  },
  {
   "cell_type": "code",
   "execution_count": 133,
   "metadata": {},
   "outputs": [
    {
     "data": {
      "text/plain": [
       "[{'책이름': '혼자 공부하는 파이썬',\n",
       "  '저자': '윤인성',\n",
       "  '출판사': '한빛미디어',\n",
       "  '초판일': '\\n                                                        \\n                                                        \\n                                                        \\t \\n                                                        \\t2019.06.10\\n                                                        \\t\\n\\t\\t\\t\\t\\t\\t\\t\\t\\t\\t\\t\\t\\t\\t\\t\\t\\n\\t\\t\\t\\t\\t\\t\\t\\t\\t\\t\\t\\t\\t\\t\\t\\t\\n',\n",
       "  '가격': '16,200원',\n",
       "  '할인율': '[10%할인]',\n",
       "  '평점': '\\n                                                        \\t\\t\\n                                                        \\t\\t\\n                                                        \\t\\t\\n                                                        \\t\\t9.6\\n                                                        \\t\\t\\n                                                        \\t\\t\\n                                                        \\t\\t\\n                                                        \\t'},\n",
       " {'책이름': '비전공자를 위한 이해할 수 있는 IT 지식',\n",
       "  '저자': '최원영',\n",
       "  '출판사': '티더블유아이지',\n",
       "  '초판일': '\\n                                                        \\n                                                        \\n                                                        \\t \\n                                                        \\t2020.07.14\\n                                                        \\t\\n\\t\\t\\t\\t\\t\\t\\t\\t\\t\\t\\t\\t\\t\\t\\t\\t\\n\\t\\t\\t\\t\\t\\t\\t\\t\\t\\t\\t\\t\\t\\t\\t\\t\\n',\n",
       "  '가격': '15,120원',\n",
       "  '할인율': '[10%할인]',\n",
       "  '평점': '\\n                                                        \\t\\t\\n                                                        \\t\\t\\n                                                        \\t\\t\\n                                                        \\t\\t8.5\\n                                                        \\t\\t\\n                                                        \\t\\t\\n                                                        \\t\\t\\n                                                        \\t'},\n",
       " {'책이름': '대규모 서비스를 지탱하는 기술(웹 개발자를 위한)',\n",
       "  '저자': '이토 나오야',\n",
       "  '출판사': '제이펍',\n",
       "  '초판일': '\\n                                                        \\n                                                        \\n                                                        \\t \\n                                                        \\t2011.02.28\\n                                                        \\t\\n\\t\\t\\t\\t\\t\\t\\t\\t\\t\\t\\t\\t\\t\\t\\t\\t\\n\\t\\t\\t\\t\\t\\t\\t\\t\\t\\t\\t\\t\\t\\t\\t\\t\\n',\n",
       "  '가격': '22,500원',\n",
       "  '할인율': '[10%할인]',\n",
       "  '평점': '\\n                                                        \\t\\t\\n                                                        \\t\\t\\n                                                        \\t\\t\\n                                                        \\t\\t10\\n                                                        \\t\\t\\n                                                        \\t\\t\\n                                                        \\t\\t\\n                                                        \\t'},\n",
       " {'책이름': '2022 시나공 총정리 컴퓨터활용능력 1급 필기',\n",
       "  '저자': '길벗R&D',\n",
       "  '출판사': '길벗',\n",
       "  '초판일': '\\n                                                        \\n                                                        \\n                                                        \\t \\n                                                        \\t2021.08.02\\n                                                        \\t\\n\\t\\t\\t\\t\\t\\t\\t\\t\\t\\t\\t\\t\\t\\t\\t\\t\\n\\t\\t\\t\\t\\t\\t\\t\\t\\t\\t\\t\\t\\t\\t\\t\\t\\n',\n",
       "  '가격': '18,000원',\n",
       "  '할인율': '[10%할인]',\n",
       "  '평점': '\\n                                                        \\t\\t\\n                                                        \\t\\t\\n                                                        \\t\\t\\n                                                        \\t\\t8.3\\n                                                        \\t\\t\\n                                                        \\t\\t\\n                                                        \\t\\t\\n                                                        \\t'},\n",
       " {'책이름': '클린 아키텍처(만들면서 배우는)(위키북스 IT Leaders 시리즈 34)',\n",
       "  '저자': '톰 홈버그',\n",
       "  '출판사': '위키북스',\n",
       "  '초판일': '\\n                                                        \\n                                                        \\n                                                        \\t \\n                                                        \\t2021.11.26\\n                                                        \\t\\n\\t\\t\\t\\t\\t\\t\\t\\t\\t\\t\\t\\t\\t\\t\\t\\t\\n\\t\\t\\t\\t\\t\\t\\t\\t\\t\\t\\t\\t\\t\\t\\t\\t\\n',\n",
       "  '가격': '16,200원',\n",
       "  '할인율': '[10%할인]',\n",
       "  '평점': '\\n                                                        \\t\\t\\n                                                        \\t\\t\\n                                                        \\t\\t0\\n                                                        \\t\\t\\n                                                        \\t'},\n",
       " {'책이름': '회사에서 바로 통하는 실무 엑셀+파워포인트+워드&한글',\n",
       "  '저자': '전미진',\n",
       "  '출판사': '한빛미디어',\n",
       "  '초판일': '\\n                                                        \\n                                                        \\n                                                        \\t \\n                                                        \\t2020.04.10\\n                                                        \\t\\n\\t\\t\\t\\t\\t\\t\\t\\t\\t\\t\\t\\t\\t\\t\\t\\t\\n\\t\\t\\t\\t\\t\\t\\t\\t\\t\\t\\t\\t\\t\\t\\t\\t\\n',\n",
       "  '가격': '19,800원',\n",
       "  '할인율': '[10%할인]',\n",
       "  '평점': '\\n                                                        \\t\\t\\n                                                        \\t\\t\\n                                                        \\t\\t\\n                                                        \\t\\t9.5\\n                                                        \\t\\t\\n                                                        \\t\\t\\n                                                        \\t\\t\\n                                                        \\t'},\n",
       " {'책이름': '2022 시나공 컴퓨터활용능력 1급 실기 엑셀, 엑세스 2016',\n",
       "  '저자': '길벗R&D',\n",
       "  '출판사': '길벗',\n",
       "  '초판일': '\\n                                                        \\n                                                        \\n                                                        \\t \\n                                                        \\t2021.10.04\\n                                                        \\t\\n\\t\\t\\t\\t\\t\\t\\t\\t\\t\\t\\t\\t\\t\\t\\t\\t\\n\\t\\t\\t\\t\\t\\t\\t\\t\\t\\t\\t\\t\\t\\t\\t\\t\\n',\n",
       "  '가격': '32,400원',\n",
       "  '할인율': '[10%할인]',\n",
       "  '평점': '\\n                                                        \\t\\t\\n                                                        \\t\\t\\n                                                        \\t\\t\\n                                                        \\t\\t10\\n                                                        \\t\\t\\n                                                        \\t\\t\\n                                                        \\t\\t\\n                                                        \\t'},\n",
       " {'책이름': 'Do it! 점프 투 파이썬',\n",
       "  '저자': '박응용',\n",
       "  '출판사': '이지스퍼블리싱',\n",
       "  '초판일': '\\n                                                        \\n                                                        \\n                                                        \\t \\n                                                        \\t2019.06.20\\n                                                        \\t\\n\\t\\t\\t\\t\\t\\t\\t\\t\\t\\t\\t\\t\\t\\t\\t\\t\\n\\t\\t\\t\\t\\t\\t\\t\\t\\t\\t\\t\\t\\t\\t\\t\\t\\n',\n",
       "  '가격': '16,920원',\n",
       "  '할인율': '[10%할인]',\n",
       "  '평점': '\\n                                                        \\t\\t\\n                                                        \\t\\t\\n                                                        \\t\\t\\n                                                        \\t\\t9.3\\n                                                        \\t\\t\\n                                                        \\t\\t\\n                                                        \\t\\t\\n                                                        \\t'},\n",
       " {'책이름': '혼자 공부하는 머신러닝+딥러닝',\n",
       "  '저자': '박해선',\n",
       "  '출판사': '한빛미디어',\n",
       "  '초판일': '\\n                                                        \\n                                                        \\n                                                        \\t \\n                                                        \\t2020.12.21\\n                                                        \\t\\n\\t\\t\\t\\t\\t\\t\\t\\t\\t\\t\\t\\t\\t\\t\\t\\t\\n\\t\\t\\t\\t\\t\\t\\t\\t\\t\\t\\t\\t\\t\\t\\t\\t\\n',\n",
       "  '가격': '23,400원',\n",
       "  '할인율': '[10%할인]',\n",
       "  '평점': '\\n                                                        \\t\\t\\n                                                        \\t\\t\\n                                                        \\t\\t\\n                                                        \\t\\t9.7\\n                                                        \\t\\t\\n                                                        \\t\\t\\n                                                        \\t\\t\\n                                                        \\t'},\n",
       " {'책이름': '전산세무 2급 이론+실기+최신기출(2021)(해커스)(개정판)',\n",
       "  '저자': '이남호',\n",
       "  '출판사': '해커스금융',\n",
       "  '초판일': '\\n                                                        \\n                                                        \\n                                                        \\t \\n                                                        \\t2021.04.02\\n                                                        \\t\\n\\t\\t\\t\\t\\t\\t\\t\\t\\t\\t\\t\\t\\t\\t\\t\\t\\n\\t\\t\\t\\t\\t\\t\\t\\t\\t\\t\\t\\t\\t\\t\\t\\t\\n',\n",
       "  '가격': '23,310원',\n",
       "  '할인율': '[10%할인]',\n",
       "  '평점': '\\n                                                        \\t\\t\\n                                                        \\t\\t\\n                                                        \\t\\t\\n                                                        \\t\\t8.5\\n                                                        \\t\\t\\n                                                        \\t\\t\\n                                                        \\t\\t\\n                                                        \\t'},\n",
       " {'책이름': '전산회계 1급 이론+실기+기출문제(2021)(해커스)(개정판)',\n",
       "  '저자': '이남호',\n",
       "  '출판사': '해커스금융',\n",
       "  '초판일': '\\n                                                        \\n                                                        \\n                                                        \\t \\n                                                        \\t2021.01.18\\n                                                        \\t\\n\\t\\t\\t\\t\\t\\t\\t\\t\\t\\t\\t\\t\\t\\t\\t\\t\\n\\t\\t\\t\\t\\t\\t\\t\\t\\t\\t\\t\\t\\t\\t\\t\\t\\n',\n",
       "  '가격': '23,310원',\n",
       "  '할인율': '[10%할인]',\n",
       "  '평점': '\\n                                                        \\t\\t\\n                                                        \\t\\t\\n                                                        \\t\\t\\n                                                        \\t\\t8.7\\n                                                        \\t\\t\\n                                                        \\t\\t\\n                                                        \\t\\t\\n                                                        \\t'},\n",
       " {'책이름': '함께 자라기',\n",
       "  '저자': '김창준',\n",
       "  '출판사': '인사이트',\n",
       "  '초판일': '\\n                                                        \\n                                                        \\n                                                        \\t \\n                                                        \\t2018.11.30\\n                                                        \\t\\n\\t\\t\\t\\t\\t\\t\\t\\t\\t\\t\\t\\t\\t\\t\\t\\t\\n\\t\\t\\t\\t\\t\\t\\t\\t\\t\\t\\t\\t\\t\\t\\t\\t\\n',\n",
       "  '가격': '11,700원',\n",
       "  '할인율': '[10%할인]',\n",
       "  '평점': '\\n                                                        \\t\\t\\n                                                        \\t\\t\\n                                                        \\t\\t\\n                                                        \\t\\t9.7\\n                                                        \\t\\t\\n                                                        \\t\\t\\n                                                        \\t\\t\\n                                                        \\t'},\n",
       " {'책이름': '2022 시나공 컴퓨터활용능력 2급 실기 엑셀2016',\n",
       "  '저자': '길벗R&D',\n",
       "  '출판사': '길벗',\n",
       "  '초판일': '\\n                                                        \\n                                                        \\n                                                        \\t \\n                                                        \\t2021.10.04\\n                                                        \\t\\n\\t\\t\\t\\t\\t\\t\\t\\t\\t\\t\\t\\t\\t\\t\\t\\t\\n\\t\\t\\t\\t\\t\\t\\t\\t\\t\\t\\t\\t\\t\\t\\t\\t\\n',\n",
       "  '가격': '19,800원',\n",
       "  '할인율': '[10%할인]',\n",
       "  '평점': '\\n                                                        \\t\\t\\n                                                        \\t\\t\\n                                                        \\t\\t\\n                                                        \\t\\t10\\n                                                        \\t\\t\\n                                                        \\t\\t\\n                                                        \\t\\t\\n                                                        \\t'},\n",
       " {'책이름': '2022 시나공 정보처리기사 필기(전2권)',\n",
       "  '저자': '길벗R&D',\n",
       "  '출판사': '길벗',\n",
       "  '초판일': '\\n                                                        \\n                                                        \\n                                                        \\t \\n                                                        \\t2021.10.25\\n                                                        \\t\\n\\t\\t\\t\\t\\t\\t\\t\\t\\t\\t\\t\\t\\t\\t\\t\\t\\n\\t\\t\\t\\t\\t\\t\\t\\t\\t\\t\\t\\t\\t\\t\\t\\t\\n',\n",
       "  '가격': '29,700원',\n",
       "  '할인율': '[10%할인]',\n",
       "  '평점': '\\n                                                        \\t\\t\\n                                                        \\t\\t\\n                                                        \\t\\t\\n                                                        \\t\\t10\\n                                                        \\t\\t\\n                                                        \\t\\t\\n                                                        \\t\\t\\n                                                        \\t'},\n",
       " {'책이름': '2022 빅데이터 분석 기사 실기 필답형+작업형',\n",
       "  '저자': '양지언',\n",
       "  '출판사': '프리렉',\n",
       "  '초판일': '\\n                                                        \\n                                                        \\n                                                        \\t \\n                                                        \\t2021.11.19\\n                                                        \\t\\n\\t\\t\\t\\t\\t\\t\\t\\t\\t\\t\\t\\t\\t\\t\\t\\t\\n\\t\\t\\t\\t\\t\\t\\t\\t\\t\\t\\t\\t\\t\\t\\t\\t\\n',\n",
       "  '가격': '25,200원',\n",
       "  '할인율': '[10%할인]',\n",
       "  '평점': '\\n                                                        \\t\\t\\n                                                        \\t\\t\\n                                                        \\t\\t\\n                                                        \\t\\t9.2\\n                                                        \\t\\t\\n                                                        \\t\\t\\n                                                        \\t\\t\\n                                                        \\t'},\n",
       " {'책이름': 'Clean Code(클린 코드)',\n",
       "  '저자': '로버트 C. 마틴',\n",
       "  '출판사': '인사이트',\n",
       "  '초판일': '\\n                                                        \\n                                                        \\n                                                        \\t \\n                                                        \\t2013.12.24\\n                                                        \\t\\n\\t\\t\\t\\t\\t\\t\\t\\t\\t\\t\\t\\t\\t\\t\\t\\t\\n\\t\\t\\t\\t\\t\\t\\t\\t\\t\\t\\t\\t\\t\\t\\t\\t\\n',\n",
       "  '가격': '29,700원',\n",
       "  '할인율': '[10%할인]',\n",
       "  '평점': '\\n                                                        \\t\\t\\n                                                        \\t\\t\\n                                                        \\t\\t\\n                                                        \\t\\t9.8\\n                                                        \\t\\t\\n                                                        \\t\\t\\n                                                        \\t\\t\\n                                                        \\t'},\n",
       " {'책이름': 'Do it! HTML+CSS+자바스크립트 웹 표준의 정석',\n",
       "  '저자': '고경희',\n",
       "  '출판사': '이지스퍼블리싱',\n",
       "  '초판일': '\\n                                                        \\n                                                        \\n                                                        \\t \\n                                                        \\t2021.01.22\\n                                                        \\t\\n\\t\\t\\t\\t\\t\\t\\t\\t\\t\\t\\t\\t\\t\\t\\t\\t\\n\\t\\t\\t\\t\\t\\t\\t\\t\\t\\t\\t\\t\\t\\t\\t\\t\\n',\n",
       "  '가격': '27,000원',\n",
       "  '할인율': '[10%할인]',\n",
       "  '평점': '\\n                                                        \\t\\t\\n                                                        \\t\\t\\n                                                        \\t\\t\\n                                                        \\t\\t9.9\\n                                                        \\t\\t\\n                                                        \\t\\t\\n                                                        \\t\\t\\n                                                        \\t'},\n",
       " {'책이름': '2022 시나공 총정리 컴퓨터활용능력 2급 필기',\n",
       "  '저자': '길벗R&D',\n",
       "  '출판사': '길벗',\n",
       "  '초판일': '\\n                                                        \\n                                                        \\n                                                        \\t \\n                                                        \\t2021.08.02\\n                                                        \\t\\n\\t\\t\\t\\t\\t\\t\\t\\t\\t\\t\\t\\t\\t\\t\\t\\t\\n\\t\\t\\t\\t\\t\\t\\t\\t\\t\\t\\t\\t\\t\\t\\t\\t\\n',\n",
       "  '가격': '12,600원',\n",
       "  '할인율': '[10%할인]',\n",
       "  '평점': '\\n                                                        \\t\\t\\n                                                        \\t\\t\\n                                                        \\t\\t\\n                                                        \\t\\t5.8\\n                                                        \\t\\t\\n                                                        \\t\\t\\n                                                        \\t\\t\\n                                                        \\t'},\n",
       " {'책이름': '이것이 취업을 위한 코딩 테스트다 with 파이썬',\n",
       "  '저자': '나동빈',\n",
       "  '출판사': '한빛미디어',\n",
       "  '초판일': '\\n                                                        \\n                                                        \\n                                                        \\t \\n                                                        \\t2020.08.05\\n                                                        \\t\\n\\t\\t\\t\\t\\t\\t\\t\\t\\t\\t\\t\\t\\t\\t\\t\\t\\n\\t\\t\\t\\t\\t\\t\\t\\t\\t\\t\\t\\t\\t\\t\\t\\t\\n',\n",
       "  '가격': '30,600원',\n",
       "  '할인율': '[10%할인]',\n",
       "  '평점': '\\n                                                        \\t\\t\\n                                                        \\t\\t\\n                                                        \\t\\t\\n                                                        \\t\\t9.7\\n                                                        \\t\\t\\n                                                        \\t\\t\\n                                                        \\t\\t\\n                                                        \\t'},\n",
       " {'책이름': 'Do it! BERT와 GPT로 배우는 자연어 처리',\n",
       "  '저자': '이기창',\n",
       "  '출판사': '이지스퍼블리싱',\n",
       "  '초판일': '\\n                                                        \\n                                                        \\n                                                        \\t \\n                                                        \\t2021.12.01\\n                                                        \\t\\n\\t\\t\\t\\t\\t\\t\\t\\t\\t\\t\\t\\t\\t\\t\\t\\t\\n\\t\\t\\t\\t\\t\\t\\t\\t\\t\\t\\t\\t\\t\\t\\t\\t\\n',\n",
       "  '가격': '18,000원',\n",
       "  '할인율': '[10%할인]',\n",
       "  '평점': '\\n                                                        \\t\\t\\n                                                        \\t\\t\\n                                                        \\t\\t0\\n                                                        \\t\\t\\n                                                        \\t'}]"
      ]
     },
     "execution_count": 133,
     "metadata": {},
     "output_type": "execute_result"
    }
   ],
   "source": [
    "book_ITbestseller"
   ]
  },
  {
   "cell_type": "code",
   "execution_count": 134,
   "metadata": {},
   "outputs": [
    {
     "data": {
      "text/plain": [
       "list"
      ]
     },
     "execution_count": 134,
     "metadata": {},
     "output_type": "execute_result"
    }
   ],
   "source": [
    "type(book_ITbestseller)"
   ]
  },
  {
   "cell_type": "code",
   "execution_count": 135,
   "metadata": {},
   "outputs": [],
   "source": [
    "import pandas as pd"
   ]
  },
  {
   "cell_type": "code",
   "execution_count": 136,
   "metadata": {},
   "outputs": [],
   "source": [
    "book_IT_bestseller = pd.DataFrame(book_ITbestseller)"
   ]
  },
  {
   "cell_type": "code",
   "execution_count": 137,
   "metadata": {},
   "outputs": [
    {
     "data": {
      "text/html": [
       "<div>\n",
       "<style scoped>\n",
       "    .dataframe tbody tr th:only-of-type {\n",
       "        vertical-align: middle;\n",
       "    }\n",
       "\n",
       "    .dataframe tbody tr th {\n",
       "        vertical-align: top;\n",
       "    }\n",
       "\n",
       "    .dataframe thead th {\n",
       "        text-align: right;\n",
       "    }\n",
       "</style>\n",
       "<table border=\"1\" class=\"dataframe\">\n",
       "  <thead>\n",
       "    <tr style=\"text-align: right;\">\n",
       "      <th></th>\n",
       "      <th>책이름</th>\n",
       "      <th>저자</th>\n",
       "      <th>출판사</th>\n",
       "      <th>초판일</th>\n",
       "      <th>가격</th>\n",
       "      <th>할인율</th>\n",
       "      <th>평점</th>\n",
       "    </tr>\n",
       "  </thead>\n",
       "  <tbody>\n",
       "    <tr>\n",
       "      <th>0</th>\n",
       "      <td>혼자 공부하는 파이썬</td>\n",
       "      <td>윤인성</td>\n",
       "      <td>한빛미디어</td>\n",
       "      <td>\\n                                            ...</td>\n",
       "      <td>16,200원</td>\n",
       "      <td>[10%할인]</td>\n",
       "      <td>\\n                                            ...</td>\n",
       "    </tr>\n",
       "    <tr>\n",
       "      <th>1</th>\n",
       "      <td>비전공자를 위한 이해할 수 있는 IT 지식</td>\n",
       "      <td>최원영</td>\n",
       "      <td>티더블유아이지</td>\n",
       "      <td>\\n                                            ...</td>\n",
       "      <td>15,120원</td>\n",
       "      <td>[10%할인]</td>\n",
       "      <td>\\n                                            ...</td>\n",
       "    </tr>\n",
       "    <tr>\n",
       "      <th>2</th>\n",
       "      <td>대규모 서비스를 지탱하는 기술(웹 개발자를 위한)</td>\n",
       "      <td>이토 나오야</td>\n",
       "      <td>제이펍</td>\n",
       "      <td>\\n                                            ...</td>\n",
       "      <td>22,500원</td>\n",
       "      <td>[10%할인]</td>\n",
       "      <td>\\n                                            ...</td>\n",
       "    </tr>\n",
       "  </tbody>\n",
       "</table>\n",
       "</div>"
      ],
      "text/plain": [
       "                           책이름      저자      출판사  \\\n",
       "0                  혼자 공부하는 파이썬     윤인성    한빛미디어   \n",
       "1      비전공자를 위한 이해할 수 있는 IT 지식     최원영  티더블유아이지   \n",
       "2  대규모 서비스를 지탱하는 기술(웹 개발자를 위한)  이토 나오야      제이펍   \n",
       "\n",
       "                                                 초판일       가격      할인율  \\\n",
       "0  \\n                                            ...  16,200원  [10%할인]   \n",
       "1  \\n                                            ...  15,120원  [10%할인]   \n",
       "2  \\n                                            ...  22,500원  [10%할인]   \n",
       "\n",
       "                                                  평점  \n",
       "0  \\n                                            ...  \n",
       "1  \\n                                            ...  \n",
       "2  \\n                                            ...  "
      ]
     },
     "execution_count": 137,
     "metadata": {},
     "output_type": "execute_result"
    }
   ],
   "source": [
    "book_IT_bestseller.head(3)"
   ]
  },
  {
   "cell_type": "code",
   "execution_count": 138,
   "metadata": {},
   "outputs": [],
   "source": [
    "book_IT_bestseller.to_csv('book_IT_bestseller.csv')"
   ]
  },
  {
   "cell_type": "code",
   "execution_count": null,
   "metadata": {},
   "outputs": [],
   "source": []
  }
 ],
 "metadata": {
  "interpreter": {
   "hash": "7f8a298e880cf99c9c7a0b66a05672eb9bf2d8825a9da8d2e07c7170541f5baf"
  },
  "kernelspec": {
   "display_name": "Python 3.8.10 64-bit ('base': conda)",
   "language": "python",
   "name": "python3"
  },
  "language_info": {
   "codemirror_mode": {
    "name": "ipython",
    "version": 3
   },
   "file_extension": ".py",
   "mimetype": "text/x-python",
   "name": "python",
   "nbconvert_exporter": "python",
   "pygments_lexer": "ipython3",
   "version": "3.9.7"
  },
  "orig_nbformat": 4
 },
 "nbformat": 4,
 "nbformat_minor": 2
}
