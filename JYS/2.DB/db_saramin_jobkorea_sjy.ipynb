{
 "cells": [
  {
   "cell_type": "code",
   "execution_count": 2,
   "metadata": {},
   "outputs": [
    {
     "name": "stdout",
     "output_type": "stream",
     "text": [
      "Collecting pymysql\n",
      "  Downloading PyMySQL-1.0.2-py3-none-any.whl (43 kB)\n",
      "Installing collected packages: pymysql\n",
      "Successfully installed pymysql-1.0.2\n"
     ]
    }
   ],
   "source": [
    "#!pip install pymysql"
   ]
  },
  {
   "cell_type": "code",
   "execution_count": 1,
   "metadata": {},
   "outputs": [],
   "source": [
    "import pymysql\n",
    "import pandas as pd"
   ]
  },
  {
   "cell_type": "code",
   "execution_count": 5,
   "metadata": {},
   "outputs": [
    {
     "data": {
      "text/html": [
       "<div>\n",
       "<style scoped>\n",
       "    .dataframe tbody tr th:only-of-type {\n",
       "        vertical-align: middle;\n",
       "    }\n",
       "\n",
       "    .dataframe tbody tr th {\n",
       "        vertical-align: top;\n",
       "    }\n",
       "\n",
       "    .dataframe thead th {\n",
       "        text-align: right;\n",
       "    }\n",
       "</style>\n",
       "<table border=\"1\" class=\"dataframe\">\n",
       "  <thead>\n",
       "    <tr style=\"text-align: right;\">\n",
       "      <th></th>\n",
       "      <th>resource</th>\n",
       "      <th>company</th>\n",
       "      <th>duty</th>\n",
       "      <th>career</th>\n",
       "      <th>degree</th>\n",
       "      <th>work_place</th>\n",
       "      <th>work_type</th>\n",
       "      <th>category</th>\n",
       "      <th>link</th>\n",
       "      <th>info</th>\n",
       "    </tr>\n",
       "  </thead>\n",
       "  <tbody>\n",
       "    <tr>\n",
       "      <th>0</th>\n",
       "      <td>jobkorea</td>\n",
       "      <td>디휴브(DEHUV)</td>\n",
       "      <td>[디휴브] 개발자 부문채용</td>\n",
       "      <td>신입·경력</td>\n",
       "      <td>학력무관</td>\n",
       "      <td>경기 고양시</td>\n",
       "      <td>정규직</td>\n",
       "      <td>['반응형 웹, 백엔드, 풀스택, 하이브리드 앱, 소프트웨어개발, BigData, ...</td>\n",
       "      <td>https://www.jobkorea.co.kr/Recruit/GI_Read/366...</td>\n",
       "      <td>https://www.jobkorea.co.kr/Recruit/Co_Read/C/d...</td>\n",
       "    </tr>\n",
       "    <tr>\n",
       "      <th>1</th>\n",
       "      <td>jobkorea</td>\n",
       "      <td>㈜레미유코스메틱</td>\n",
       "      <td>브랜드 디자이너 / MD / (카페)쇼룸 매니저 채용</td>\n",
       "      <td>경력</td>\n",
       "      <td>학력무관</td>\n",
       "      <td>서울 성동구</td>\n",
       "      <td>정규직                 외\\r\\n</td>\n",
       "      <td>['화장품, 마케팅, 마케팅기획, 브랜딩, 프로모션, 상품기획, 신상품개발, 온라인...</td>\n",
       "      <td>https://www.jobkorea.co.kr/Recruit/GI_Read/366...</td>\n",
       "      <td>https://www.jobkorea.co.kr/Recruit/Co_Read/C/l...</td>\n",
       "    </tr>\n",
       "    <tr>\n",
       "      <th>2</th>\n",
       "      <td>jobkorea</td>\n",
       "      <td>㈜순진</td>\n",
       "      <td>마케팅 담당자 및 상품기획/MD 경력직 채용</td>\n",
       "      <td>경력2년↑</td>\n",
       "      <td>고졸↑</td>\n",
       "      <td>서울 광진구</td>\n",
       "      <td>정규직</td>\n",
       "      <td>['영상편집, 포토샵, 제품기획, 광고기획, 마케팅, 마케팅기획, 바이럴마케팅, 브...</td>\n",
       "      <td>https://www.jobkorea.co.kr/Recruit/GI_Read/366...</td>\n",
       "      <td>https://www.jobkorea.co.kr/Recruit/Co_Read/C/s...</td>\n",
       "    </tr>\n",
       "    <tr>\n",
       "      <th>3</th>\n",
       "      <td>jobkorea</td>\n",
       "      <td>효성에프엠에스㈜</td>\n",
       "      <td>2021년 효성에프엠에스 신입사원 및 경력사원 공개채용</td>\n",
       "      <td>신입·경력</td>\n",
       "      <td>대졸↑</td>\n",
       "      <td>서울 강남구</td>\n",
       "      <td>정규직</td>\n",
       "      <td>['Jira, Spring Framework, 모바일앱개발, 소프트웨어개발, 솔루션...</td>\n",
       "      <td>https://www.jobkorea.co.kr/Recruit/GI_Read/366...</td>\n",
       "      <td>https://www.jobkorea.co.kr/Recruit/Co_Read/C/h...</td>\n",
       "    </tr>\n",
       "    <tr>\n",
       "      <th>4</th>\n",
       "      <td>jobkorea</td>\n",
       "      <td>㈜빗썸코리아</td>\n",
       "      <td>빗썸코리아 부문별 경력사원 채용</td>\n",
       "      <td>경력</td>\n",
       "      <td>학력무관</td>\n",
       "      <td>서울 강남구</td>\n",
       "      <td>정규직</td>\n",
       "      <td>['기획, 기획조사, 사업기획, 사업제휴, 서비스기획, 전략, 법무, 송무, 인허가...</td>\n",
       "      <td>https://www.jobkorea.co.kr/Recruit/GI_Read/366...</td>\n",
       "      <td>https://www.jobkorea.co.kr/Recruit/Co_Read/C/b...</td>\n",
       "    </tr>\n",
       "  </tbody>\n",
       "</table>\n",
       "</div>"
      ],
      "text/plain": [
       "   resource     company                            duty career degree  \\\n",
       "0  jobkorea  디휴브(DEHUV)                  [디휴브] 개발자 부문채용  신입·경력   학력무관   \n",
       "1  jobkorea    ㈜레미유코스메틱   브랜드 디자이너 / MD / (카페)쇼룸 매니저 채용     경력   학력무관   \n",
       "2  jobkorea         ㈜순진        마케팅 담당자 및 상품기획/MD 경력직 채용  경력2년↑    고졸↑   \n",
       "3  jobkorea    효성에프엠에스㈜  2021년 효성에프엠에스 신입사원 및 경력사원 공개채용  신입·경력    대졸↑   \n",
       "4  jobkorea      ㈜빗썸코리아               빗썸코리아 부문별 경력사원 채용     경력   학력무관   \n",
       "\n",
       "  work_place                  work_type  \\\n",
       "0     경기 고양시                        정규직   \n",
       "1     서울 성동구  정규직                 외\\r\\n   \n",
       "2     서울 광진구                        정규직   \n",
       "3     서울 강남구                        정규직   \n",
       "4     서울 강남구                        정규직   \n",
       "\n",
       "                                            category  \\\n",
       "0  ['반응형 웹, 백엔드, 풀스택, 하이브리드 앱, 소프트웨어개발, BigData, ...   \n",
       "1  ['화장품, 마케팅, 마케팅기획, 브랜딩, 프로모션, 상품기획, 신상품개발, 온라인...   \n",
       "2  ['영상편집, 포토샵, 제품기획, 광고기획, 마케팅, 마케팅기획, 바이럴마케팅, 브...   \n",
       "3  ['Jira, Spring Framework, 모바일앱개발, 소프트웨어개발, 솔루션...   \n",
       "4  ['기획, 기획조사, 사업기획, 사업제휴, 서비스기획, 전략, 법무, 송무, 인허가...   \n",
       "\n",
       "                                                link  \\\n",
       "0  https://www.jobkorea.co.kr/Recruit/GI_Read/366...   \n",
       "1  https://www.jobkorea.co.kr/Recruit/GI_Read/366...   \n",
       "2  https://www.jobkorea.co.kr/Recruit/GI_Read/366...   \n",
       "3  https://www.jobkorea.co.kr/Recruit/GI_Read/366...   \n",
       "4  https://www.jobkorea.co.kr/Recruit/GI_Read/366...   \n",
       "\n",
       "                                                info  \n",
       "0  https://www.jobkorea.co.kr/Recruit/Co_Read/C/d...  \n",
       "1  https://www.jobkorea.co.kr/Recruit/Co_Read/C/l...  \n",
       "2  https://www.jobkorea.co.kr/Recruit/Co_Read/C/s...  \n",
       "3  https://www.jobkorea.co.kr/Recruit/Co_Read/C/h...  \n",
       "4  https://www.jobkorea.co.kr/Recruit/Co_Read/C/b...  "
      ]
     },
     "execution_count": 5,
     "metadata": {},
     "output_type": "execute_result"
    }
   ],
   "source": [
    "recruit_info = pd.read_csv(r'C:\\Users\\project\\dataAnalysis-project\\JYS\\2.DB\\jobkorea_saramin_recruit.csv', index_col=0, encoding='utf8')\n",
    "recruit_info.head()"
   ]
  },
  {
   "cell_type": "code",
   "execution_count": 2,
   "metadata": {},
   "outputs": [],
   "source": [
    "# DB연동\n",
    "conn = pymysql.connect(host='localhost',\n",
    "                       database='shakeit', # 자기 데이터 베이스에 맞게 접속\n",
    "                       user='root',\n",
    "                       passwd='mysql', #자기 비밀번호\n",
    "                       charset='utf8',\n",
    "                       local_infile=1) #혹시나 안되면 이거 켜서 접속\n",
    "\n",
    "cursor = conn.cursor()"
   ]
  },
  {
   "cell_type": "code",
   "execution_count": 6,
   "metadata": {},
   "outputs": [],
   "source": [
    "value_list = []\n",
    "for index, row in recruit_info.iterrows():\n",
    "    tu = ( row.company, row.duty, row.career, row.degree,  row.work_place,\n",
    "          row.work_type, row.category, row.link, row.info, row.resource) \n",
    "    value_list.append(tu)\n",
    "    \n",
    "cursor.executemany('''\n",
    "                  INSERT INTO job (company_name, duty, career, degree, work_place, work_type, category, recruit_link, enterprises_link, resource) \n",
    "                  values ( %s, %s, %s, %s, %s, %s, %s, %s, %s,%s)\n",
    "                  ''', value_list)\n",
    "\n",
    "conn.commit()\n",
    "conn.close()"
   ]
  },
  {
   "cell_type": "code",
   "execution_count": null,
   "metadata": {},
   "outputs": [],
   "source": []
  },
  {
   "cell_type": "code",
   "execution_count": null,
   "metadata": {},
   "outputs": [],
   "source": []
  }
 ],
 "metadata": {
  "interpreter": {
   "hash": "f6e67806171a5be3656620128948aeff776c8b6b53eaa3df95311ab8788c7cd3"
  },
  "kernelspec": {
   "display_name": "Python 3.8.12 64-bit ('jorldy': conda)",
   "language": "python",
   "name": "python3"
  },
  "language_info": {
   "codemirror_mode": {
    "name": "ipython",
    "version": 3
   },
   "file_extension": ".py",
   "mimetype": "text/x-python",
   "name": "python",
   "nbconvert_exporter": "python",
   "pygments_lexer": "ipython3",
   "version": "3.8.12"
  },
  "orig_nbformat": 4
 },
 "nbformat": 4,
 "nbformat_minor": 2
}
