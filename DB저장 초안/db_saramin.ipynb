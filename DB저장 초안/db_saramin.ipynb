{
 "cells": [
  {
   "cell_type": "code",
   "execution_count": 1,
   "metadata": {},
   "outputs": [],
   "source": [
    "import pymysql\n",
    "import pandas as pd"
   ]
  },
  {
   "cell_type": "code",
   "execution_count": 3,
   "metadata": {},
   "outputs": [],
   "source": [
    "# DB연동\n",
    "conn = pymysql.connect(host='localhost',\n",
    "                       database='DB', # 자기 데이터 베이스에 맞게 접속\n",
    "                       user='root',\n",
    "                       passwd='', #자기 비밀번호\n",
    "                       charset='utf8',\n",
    "                       local_infile=1) #혹시나 안되면 이거 켜서 접속\n",
    "\n",
    "cursor = conn.cursor()"
   ]
  },
  {
   "cell_type": "code",
   "execution_count": 3,
   "metadata": {},
   "outputs": [],
   "source": [
    "#DB생성\n",
    "#cursor.execute('create database jobkorea')"
   ]
  },
  {
   "cell_type": "code",
   "execution_count": 4,
   "metadata": {},
   "outputs": [],
   "source": [
    "#TABLE 생성\n",
    "sql = '''\n",
    "    CREATE TABLE saraminDB(\n",
    "        company varchar(255),\n",
    "        duty varchar(255),\n",
    "        career varchar(255),\n",
    "        degree varchar(255),\n",
    "        work_place varchar(255),\n",
    "        work_type varchar(255),\n",
    "        category longtext,\n",
    "        link varchar(255)\n",
    "        \n",
    "    )\n",
    "      '''\n",
    "cursor.execute(sql)\n",
    "# 커밋필수\n",
    "conn.commit()"
   ]
  },
  {
   "cell_type": "code",
   "execution_count": 34,
   "metadata": {},
   "outputs": [],
   "source": [
    "# #TABLE 삭제 문제 있을 때만 사용\n",
    "\n",
    "sql_drop = '''\n",
    "            DROP TABLE jobkoreaDB\n",
    "'''\n",
    "cursor.execute(sql_drop)\n",
    "conn.commit()\n"
   ]
  },
  {
   "cell_type": "code",
   "execution_count": 7,
   "metadata": {},
   "outputs": [
    {
     "data": {
      "text/html": [
       "<div>\n",
       "<style scoped>\n",
       "    .dataframe tbody tr th:only-of-type {\n",
       "        vertical-align: middle;\n",
       "    }\n",
       "\n",
       "    .dataframe tbody tr th {\n",
       "        vertical-align: top;\n",
       "    }\n",
       "\n",
       "    .dataframe thead th {\n",
       "        text-align: right;\n",
       "    }\n",
       "</style>\n",
       "<table border=\"1\" class=\"dataframe\">\n",
       "  <thead>\n",
       "    <tr style=\"text-align: right;\">\n",
       "      <th></th>\n",
       "      <th>company</th>\n",
       "      <th>duty</th>\n",
       "      <th>career</th>\n",
       "      <th>degree</th>\n",
       "      <th>work_place</th>\n",
       "      <th>work_type</th>\n",
       "      <th>category</th>\n",
       "      <th>link</th>\n",
       "    </tr>\n",
       "  </thead>\n",
       "  <tbody>\n",
       "    <tr>\n",
       "      <th>0</th>\n",
       "      <td>(주)알에스솔루션즈</td>\n",
       "      <td>[RS Solutions] 정규직 및 인턴 채용</td>\n",
       "      <td>경력무관</td>\n",
       "      <td>학력무관</td>\n",
       "      <td>서울 강남구</td>\n",
       "      <td>정규직</td>\n",
       "      <td>['웹개발', '퍼블리셔', '프론트엔드', '웹표준·웹접근성', 'HTML']</td>\n",
       "      <td>http://www.saramin.co.kr/zf_user/jobs/relay/vi...</td>\n",
       "    </tr>\n",
       "    <tr>\n",
       "      <th>1</th>\n",
       "      <td>(주)아이필로</td>\n",
       "      <td>화장품 스킨케어 브랜드 웹디자이너 경력 모집</td>\n",
       "      <td>1 ~ 2년</td>\n",
       "      <td>학력무관</td>\n",
       "      <td>서울 강남구</td>\n",
       "      <td>정규직</td>\n",
       "      <td>['CSS', 'Javascript', '화장품', '모바일디자인', '배너디자인']</td>\n",
       "      <td>http://www.saramin.co.kr/zf_user/jobs/relay/vi...</td>\n",
       "    </tr>\n",
       "    <tr>\n",
       "      <th>2</th>\n",
       "      <td>유일에너테크(주)</td>\n",
       "      <td>2021 하반기 신입 및 경력 모집(제어,재무회계,특허,영업 등)</td>\n",
       "      <td>신입 · 경력</td>\n",
       "      <td>고졸↑</td>\n",
       "      <td>경기 평택시</td>\n",
       "      <td>정규직</td>\n",
       "      <td>['C#', '경리', '경리사무원', '전산회계', '관리회계']</td>\n",
       "      <td>http://www.saramin.co.kr/zf_user/jobs/relay/vi...</td>\n",
       "    </tr>\n",
       "    <tr>\n",
       "      <th>3</th>\n",
       "      <td>월드패밀리잉글리쉬코리아(주)</td>\n",
       "      <td>월팸코리아 전부문 신입/경력 채용</td>\n",
       "      <td>신입 · 경력</td>\n",
       "      <td>학력무관</td>\n",
       "      <td>서울 강남구</td>\n",
       "      <td>정규직</td>\n",
       "      <td>['백엔드/서버개발', '네트워크', '전산회계', '회계사', '더존']</td>\n",
       "      <td>http://www.saramin.co.kr/zf_user/jobs/relay/vi...</td>\n",
       "    </tr>\n",
       "    <tr>\n",
       "      <th>4</th>\n",
       "      <td>(주)이프정보시스템</td>\n",
       "      <td>[금융SI][금융패키지] 은행 및 금융 IT 신입, 경력</td>\n",
       "      <td>신입 · 경력</td>\n",
       "      <td>대학교(4년)↑</td>\n",
       "      <td>서울 강서구</td>\n",
       "      <td>정규직 · 계약직</td>\n",
       "      <td>['웹개발', 'SI개발', '.NET', 'C#', 'C++']</td>\n",
       "      <td>http://www.saramin.co.kr/zf_user/jobs/relay/vi...</td>\n",
       "    </tr>\n",
       "  </tbody>\n",
       "</table>\n",
       "</div>"
      ],
      "text/plain": [
       "           company                                  duty   career    degree  \\\n",
       "0       (주)알에스솔루션즈            [RS Solutions] 정규직 및 인턴 채용     경력무관      학력무관   \n",
       "1          (주)아이필로              화장품 스킨케어 브랜드 웹디자이너 경력 모집   1 ~ 2년      학력무관   \n",
       "2        유일에너테크(주)  2021 하반기 신입 및 경력 모집(제어,재무회계,특허,영업 등)  신입 · 경력       고졸↑   \n",
       "3  월드패밀리잉글리쉬코리아(주)                    월팸코리아 전부문 신입/경력 채용  신입 · 경력      학력무관   \n",
       "4       (주)이프정보시스템       [금융SI][금융패키지] 은행 및 금융 IT 신입, 경력  신입 · 경력  대학교(4년)↑   \n",
       "\n",
       "  work_place  work_type                                         category  \\\n",
       "0     서울 강남구        정규직     ['웹개발', '퍼블리셔', '프론트엔드', '웹표준·웹접근성', 'HTML']   \n",
       "1     서울 강남구        정규직  ['CSS', 'Javascript', '화장품', '모바일디자인', '배너디자인']   \n",
       "2     경기 평택시        정규직            ['C#', '경리', '경리사무원', '전산회계', '관리회계']   \n",
       "3     서울 강남구        정규직        ['백엔드/서버개발', '네트워크', '전산회계', '회계사', '더존']   \n",
       "4     서울 강서구  정규직 · 계약직             ['웹개발', 'SI개발', '.NET', 'C#', 'C++']   \n",
       "\n",
       "                                                link  \n",
       "0  http://www.saramin.co.kr/zf_user/jobs/relay/vi...  \n",
       "1  http://www.saramin.co.kr/zf_user/jobs/relay/vi...  \n",
       "2  http://www.saramin.co.kr/zf_user/jobs/relay/vi...  \n",
       "3  http://www.saramin.co.kr/zf_user/jobs/relay/vi...  \n",
       "4  http://www.saramin.co.kr/zf_user/jobs/relay/vi...  "
      ]
     },
     "execution_count": 7,
     "metadata": {},
     "output_type": "execute_result"
    }
   ],
   "source": [
    "# csv 파일 읽기\n",
    "\n",
    "saramin= pd.read_csv('/Users/sky/class_python/project_recruit/temp.csv', index_col=0, encoding='utf8')\n",
    "saramin.head()\n"
   ]
  },
  {
   "cell_type": "code",
   "execution_count": 8,
   "metadata": {},
   "outputs": [],
   "source": [
    "# 데이터 읽어서 DB에 저장\n",
    "\n",
    "for index, row in saramin.iterrows():\n",
    "    tu = ( row.company, row.duty, row.career, row.degree, row.work_place,\n",
    "          row.work_type, row.category, row.link) \n",
    "    cursor.execute('''\n",
    "                   INSERT INTO saraminDB values (%s, %s, %s, %s, %s, %s, %s, %s)\n",
    "                   ''', tu)"
   ]
  },
  {
   "cell_type": "code",
   "execution_count": 9,
   "metadata": {},
   "outputs": [],
   "source": [
    "conn.commit()\n",
    "conn.close()"
   ]
  },
  {
   "cell_type": "code",
   "execution_count": null,
   "metadata": {},
   "outputs": [],
   "source": []
  }
 ],
 "metadata": {
  "interpreter": {
   "hash": "b0fa6594d8f4cbf19f97940f81e996739fb7646882a419484c72d19e05852a7e"
  },
  "kernelspec": {
   "display_name": "Python 3.9.7 64-bit",
   "language": "python",
   "name": "python3"
  },
  "language_info": {
   "codemirror_mode": {
    "name": "ipython",
    "version": 3
   },
   "file_extension": ".py",
   "mimetype": "text/x-python",
   "name": "python",
   "nbconvert_exporter": "python",
   "pygments_lexer": "ipython3",
   "version": "3.8.10"
  },
  "orig_nbformat": 4
 },
 "nbformat": 4,
 "nbformat_minor": 2
}
