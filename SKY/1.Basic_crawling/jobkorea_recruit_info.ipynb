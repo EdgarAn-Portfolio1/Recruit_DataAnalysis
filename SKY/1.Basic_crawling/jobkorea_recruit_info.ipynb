{
 "cells": [
  {
   "cell_type": "code",
   "execution_count": 17,
   "metadata": {},
   "outputs": [],
   "source": [
    "from selenium import webdriver\n",
    "from selenium.webdriver.common.by import By\n",
    "from bs4 import BeautifulSoup\n",
    "from urllib.parse import urljoin\n",
    "import re\n",
    "import time"
   ]
  },
  {
   "cell_type": "code",
   "execution_count": 18,
   "metadata": {},
   "outputs": [],
   "source": [
    "main_url = 'https://www.jobkorea.co.kr'"
   ]
  },
  {
   "cell_type": "code",
   "execution_count": 19,
   "metadata": {},
   "outputs": [
    {
     "name": "stderr",
     "output_type": "stream",
     "text": [
      "/var/folders/mh/q1r71q296q7grz41z51vbp6w0000gq/T/ipykernel_26540/4081734133.py:1: DeprecationWarning: executable_path has been deprecated, please pass in a Service object\n",
      "  browser = webdriver.Chrome('/Users/sky/Downloads/chromedriver')\n"
     ]
    }
   ],
   "source": [
    "browser = webdriver.Chrome('/Users/sky/Downloads/chromedriver')"
   ]
  },
  {
   "cell_type": "code",
   "execution_count": 20,
   "metadata": {},
   "outputs": [
    {
     "name": "stderr",
     "output_type": "stream",
     "text": [
      "/Users/sky/opt/miniconda3/lib/python3.8/site-packages/bs4/__init__.py:177: UserWarning: No parser was explicitly specified, so I'm using the best available HTML parser for this system (\"lxml\"). This usually isn't a problem, but if you run this code on another system, or in a different virtual environment, it may use a different parser and behave differently.\n",
      "\n",
      "The code that caused this warning is on line 194 of the file /Users/sky/opt/miniconda3/lib/python3.8/runpy.py. To get rid of this warning, change code that looks like this:\n",
      "\n",
      " BeautifulSoup(YOUR_MARKUP})\n",
      "\n",
      "to this:\n",
      "\n",
      " BeautifulSoup(YOUR_MARKUP, \"lxml\")\n",
      "\n",
      "  warnings.warn(self.NO_PARSER_SPECIFIED_WARNING % dict(\n"
     ]
    }
   ],
   "source": [
    "job_list_jobkorea = []\n",
    "\n",
    "url = 'https://www.jobkorea.co.kr/recruit/joblist?menucode=duty&dutyCtgr=10016#anchorGICnt_{0}'\n",
    "\n",
    "\n",
    "for page_num in range(1,851):\n",
    "    \n",
    "    browser.get(url.format(page_num))\n",
    "\n",
    "    soup = BeautifulSoup(browser.page_source)\n",
    "    \n",
    "    \n",
    "    if soup.select('#dev-gi-list > div > div.tplList.tplJobList > table > tbody > tr') == []:\n",
    "        break\n",
    "    \n",
    "    for tag in soup.select('#dev-gi-list > div > div.tplList.tplJobList > table > tbody > tr'):\n",
    "        company = {}\n",
    "\n",
    "        company['기업명'] = tag.select('td.tplCo > a')[0].text\n",
    "        company['직무'] = tag.select('td > div > strong > a')[0].text\n",
    "        \n",
    "        company['경력'] = tag.select('td.tplTit > div > p.etc > span')[0].text\n",
    "        company['학력'] = tag.select('td.tplTit > div > p.etc > span')[1].text\n",
    "        company['근무지'] = tag.select('td.tplTit > div > p.etc > span')[2].text\n",
    "        company['근무형태'] = tag.select('td.tplTit > div > p.etc > span')[3].text\n",
    "    \n",
    "    \n",
    "        category = []\n",
    "        for item in tag.select('td.tplTit > div > p.dsc'):\n",
    "            category.append(item.text)\n",
    "        company['분류'] = str(category)\n",
    "        \n",
    "        detail_url = tag.select_one('td.tplTit > div > strong > a').attrs['href']\n",
    "        full_detail_url = urljoin(main_url, detail_url)\n",
    "        company['상세링크'] = full_detail_url\n",
    "        \n",
    "        corinfo_url = tag.select_one('td.tplCo > a').attrs['href']\n",
    "        full_detail_url = urljoin(main_url, detail_url)\n",
    "        company['기업정보'] = full_detail_url\n",
    "        \n",
    "        job_list_jobkorea.append(company)\n",
    "\n",
    "            \n",
    "        time.sleep(.5)\n",
    "            \n",
    "            \n",
    "browser.close()"
   ]
  },
  {
   "cell_type": "code",
   "execution_count": 7,
   "metadata": {},
   "outputs": [],
   "source": [
    "import pandas as pd"
   ]
  },
  {
   "cell_type": "code",
   "execution_count": 22,
   "metadata": {},
   "outputs": [],
   "source": [
    "jobkorea = pd.DataFrame(job_list_jobkorea)"
   ]
  },
  {
   "cell_type": "code",
   "execution_count": 24,
   "metadata": {},
   "outputs": [
    {
     "data": {
      "text/html": [
       "<div>\n",
       "<style scoped>\n",
       "    .dataframe tbody tr th:only-of-type {\n",
       "        vertical-align: middle;\n",
       "    }\n",
       "\n",
       "    .dataframe tbody tr th {\n",
       "        vertical-align: top;\n",
       "    }\n",
       "\n",
       "    .dataframe thead th {\n",
       "        text-align: right;\n",
       "    }\n",
       "</style>\n",
       "<table border=\"1\" class=\"dataframe\">\n",
       "  <thead>\n",
       "    <tr style=\"text-align: right;\">\n",
       "      <th></th>\n",
       "      <th>기업명</th>\n",
       "      <th>직무</th>\n",
       "      <th>경력</th>\n",
       "      <th>학력</th>\n",
       "      <th>근무지</th>\n",
       "      <th>근무형태</th>\n",
       "      <th>분류</th>\n",
       "      <th>상세링크</th>\n",
       "      <th>기업정보</th>\n",
       "    </tr>\n",
       "  </thead>\n",
       "  <tbody>\n",
       "    <tr>\n",
       "      <th>0</th>\n",
       "      <td>디휴브(DEHUV)</td>\n",
       "      <td>[디휴브] 개발자 부문채용</td>\n",
       "      <td>신입·경력</td>\n",
       "      <td>학력무관</td>\n",
       "      <td>경기 고양시</td>\n",
       "      <td>정규직</td>\n",
       "      <td>['반응형 웹, 백엔드, 풀스택, 하이브리드 앱, 소프트웨어개발, BigData, ...</td>\n",
       "      <td>https://www.jobkorea.co.kr/Recruit/GI_Read/366...</td>\n",
       "      <td>https://www.jobkorea.co.kr/Recruit/GI_Read/366...</td>\n",
       "    </tr>\n",
       "    <tr>\n",
       "      <th>1</th>\n",
       "      <td>㈜레미유코스메틱</td>\n",
       "      <td>브랜드 디자이너 / MD / (카페)쇼룸 매니저 채용</td>\n",
       "      <td>경력</td>\n",
       "      <td>학력무관</td>\n",
       "      <td>서울 성동구</td>\n",
       "      <td>정규직                 외\\n</td>\n",
       "      <td>['화장품, 마케팅, 마케팅기획, 브랜딩, 프로모션, 상품기획, 신상품개발, 온라인...</td>\n",
       "      <td>https://www.jobkorea.co.kr/Recruit/GI_Read/366...</td>\n",
       "      <td>https://www.jobkorea.co.kr/Recruit/GI_Read/366...</td>\n",
       "    </tr>\n",
       "    <tr>\n",
       "      <th>2</th>\n",
       "      <td>㈜순진</td>\n",
       "      <td>마케팅 담당자 및 상품기획/MD 경력직 채용</td>\n",
       "      <td>경력2년↑</td>\n",
       "      <td>고졸↑</td>\n",
       "      <td>서울 광진구</td>\n",
       "      <td>정규직</td>\n",
       "      <td>['영상편집, 포토샵, 제품기획, 광고기획, 마케팅, 마케팅기획, 바이럴마케팅, 브...</td>\n",
       "      <td>https://www.jobkorea.co.kr/Recruit/GI_Read/366...</td>\n",
       "      <td>https://www.jobkorea.co.kr/Recruit/GI_Read/366...</td>\n",
       "    </tr>\n",
       "  </tbody>\n",
       "</table>\n",
       "</div>"
      ],
      "text/plain": [
       "          기업명                             직무     경력    학력     근무지  \\\n",
       "0  디휴브(DEHUV)                 [디휴브] 개발자 부문채용  신입·경력  학력무관  경기 고양시   \n",
       "1    ㈜레미유코스메틱  브랜드 디자이너 / MD / (카페)쇼룸 매니저 채용     경력  학력무관  서울 성동구   \n",
       "2         ㈜순진       마케팅 담당자 및 상품기획/MD 경력직 채용  경력2년↑   고졸↑  서울 광진구   \n",
       "\n",
       "                      근무형태                                                 분류  \\\n",
       "0                      정규직  ['반응형 웹, 백엔드, 풀스택, 하이브리드 앱, 소프트웨어개발, BigData, ...   \n",
       "1  정규직                 외\\n  ['화장품, 마케팅, 마케팅기획, 브랜딩, 프로모션, 상품기획, 신상품개발, 온라인...   \n",
       "2                      정규직  ['영상편집, 포토샵, 제품기획, 광고기획, 마케팅, 마케팅기획, 바이럴마케팅, 브...   \n",
       "\n",
       "                                                상세링크  \\\n",
       "0  https://www.jobkorea.co.kr/Recruit/GI_Read/366...   \n",
       "1  https://www.jobkorea.co.kr/Recruit/GI_Read/366...   \n",
       "2  https://www.jobkorea.co.kr/Recruit/GI_Read/366...   \n",
       "\n",
       "                                                기업정보  \n",
       "0  https://www.jobkorea.co.kr/Recruit/GI_Read/366...  \n",
       "1  https://www.jobkorea.co.kr/Recruit/GI_Read/366...  \n",
       "2  https://www.jobkorea.co.kr/Recruit/GI_Read/366...  "
      ]
     },
     "execution_count": 24,
     "metadata": {},
     "output_type": "execute_result"
    }
   ],
   "source": [
    "jobkorea.head(3)"
   ]
  },
  {
   "cell_type": "code",
   "execution_count": 23,
   "metadata": {},
   "outputs": [],
   "source": [
    "jobkorea.to_csv('jobkorea_recruit.csv')"
   ]
  }
 ],
 "metadata": {
  "interpreter": {
   "hash": "7f8a298e880cf99c9c7a0b66a05672eb9bf2d8825a9da8d2e07c7170541f5baf"
  },
  "kernelspec": {
   "display_name": "Python 3.8.10 64-bit ('base': conda)",
   "language": "python",
   "name": "python3"
  },
  "language_info": {
   "codemirror_mode": {
    "name": "ipython",
    "version": 3
   },
   "file_extension": ".py",
   "mimetype": "text/x-python",
   "name": "python",
   "nbconvert_exporter": "python",
   "pygments_lexer": "ipython3",
   "version": "3.8.10"
  },
  "orig_nbformat": 4
 },
 "nbformat": 4,
 "nbformat_minor": 2
}
