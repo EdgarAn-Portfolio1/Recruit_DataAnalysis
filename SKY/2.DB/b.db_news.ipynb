{
 "cells": [
  {
   "cell_type": "code",
   "execution_count": null,
   "metadata": {},
   "outputs": [],
   "source": [
    "import pymysql\n",
    "import pandas as pd"
   ]
  },
  {
   "cell_type": "code",
   "execution_count": null,
   "metadata": {},
   "outputs": [],
   "source": [
    "# csv 파일 읽기\n",
    "\n",
    "news = pd.read_csv('/Users/sky/class_python/2.DB/it_news.csv', index_col=0, encoding='utf-8')\n",
    "news.head()\n"
   ]
  },
  {
   "cell_type": "code",
   "execution_count": null,
   "metadata": {},
   "outputs": [],
   "source": [
    "# 데이터 읽어서 DB에 저장\n",
    "\n",
    "# DB연동\n",
    "conn = pymysql.connect(host='localhost',\n",
    "                       database='shakeit', # 자기 데이터 베이스에 맞게 접속\n",
    "                       user='root',\n",
    "                       passwd='mysql', #자기 비밀번호\n",
    "                       charset='utf8',\n",
    "                       local_infile=1) #혹시나 안되면 이거 켜서 접속\n",
    "\n",
    "cursor = conn.cursor()\n",
    "\n",
    "value_list = []\n",
    "for index, row in news.iterrows():\n",
    "    tu = ( row.title, row.date, row.link, row.content) \n",
    "    value_list.append(tu)\n",
    "    \n",
    "cursor.executemany('''\n",
    "                  INSERT INTO news (title, date, link, content) \n",
    "                  values ( %s, %s, %s, %s)\n",
    "                  ''', value_list)\n",
    "\n",
    "conn.commit()\n",
    "conn.close()"
   ]
  }
 ],
 "metadata": {
  "interpreter": {
   "hash": "b0fa6594d8f4cbf19f97940f81e996739fb7646882a419484c72d19e05852a7e"
  },
  "kernelspec": {
   "display_name": "Python 3.9.7 64-bit",
   "language": "python",
   "name": "python3"
  },
  "language_info": {
   "codemirror_mode": {
    "name": "ipython",
    "version": 3
   },
   "file_extension": ".py",
   "mimetype": "text/x-python",
   "name": "python",
   "nbconvert_exporter": "python",
   "pygments_lexer": "ipython3",
   "version": "3.7.11"
  },
  "orig_nbformat": 4
 },
 "nbformat": 4,
 "nbformat_minor": 2
}
