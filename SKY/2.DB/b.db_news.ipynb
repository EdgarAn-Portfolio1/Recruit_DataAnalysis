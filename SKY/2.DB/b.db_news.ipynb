{
 "cells": [
  {
   "cell_type": "code",
   "execution_count": 1,
   "metadata": {},
   "outputs": [],
   "source": [
    "import pymysql\n",
    "import pandas as pd"
   ]
  },
  {
   "cell_type": "code",
   "execution_count": 2,
   "metadata": {},
   "outputs": [
    {
     "data": {
      "text/html": [
       "<div>\n",
       "<style scoped>\n",
       "    .dataframe tbody tr th:only-of-type {\n",
       "        vertical-align: middle;\n",
       "    }\n",
       "\n",
       "    .dataframe tbody tr th {\n",
       "        vertical-align: top;\n",
       "    }\n",
       "\n",
       "    .dataframe thead th {\n",
       "        text-align: right;\n",
       "    }\n",
       "</style>\n",
       "<table border=\"1\" class=\"dataframe\">\n",
       "  <thead>\n",
       "    <tr style=\"text-align: right;\">\n",
       "      <th></th>\n",
       "      <th>title</th>\n",
       "      <th>date</th>\n",
       "      <th>link</th>\n",
       "      <th>content</th>\n",
       "    </tr>\n",
       "  </thead>\n",
       "  <tbody>\n",
       "    <tr>\n",
       "      <th>0</th>\n",
       "      <td>[증시이슈] 연이은 빅딜에도 사흘 내리 하락한 CJ ENM, 왜?</td>\n",
       "      <td>2021.11.25</td>\n",
       "      <td>https://economist.co.kr/2021/11/25/it/general/...</td>\n",
       "      <td>분할 법인에 예능·드라마·영화·애니메이션 모두 넘기면…     미국 LA 스테이플스...</td>\n",
       "    </tr>\n",
       "    <tr>\n",
       "      <th>1</th>\n",
       "      <td>[팩플] 다들 반대할 때 \"카카오페이 해보자\"한 류영준, 카카오 이끈다</td>\n",
       "      <td>2021.11.25</td>\n",
       "      <td>https://www.joongang.co.kr/article/25026933</td>\n",
       "      <td>카카오의 공동대표로 내정된 류영준(왼쪽) 내정자와 여민수(오른쪽) 대표. 카카오 제...</td>\n",
       "    </tr>\n",
       "    <tr>\n",
       "      <th>2</th>\n",
       "      <td>LG그룹 COO로 권봉석 부회장, LG전자 대표는 조주완 사장</td>\n",
       "      <td>1818.12.12</td>\n",
       "      <td>http://www.etnews.com/20211125000208</td>\n",
       "      <td>권봉석 LG전자 대표이사가 부회장으로 승진, ㈜LG 최고운영책임자(COO)로 선임됐...</td>\n",
       "    </tr>\n",
       "    <tr>\n",
       "      <th>3</th>\n",
       "      <td>BM 전문가 여민수-개발자 출신 CEO 류영준 시너지</td>\n",
       "      <td>2021.11.25</td>\n",
       "      <td>http://www.fnnews.com/news/202111251603327311</td>\n",
       "      <td>카카오 내년 3월 여민수-류영준 공동대표 체제카카오커머스와 카카오페이 등 쇼핑+결제...</td>\n",
       "    </tr>\n",
       "    <tr>\n",
       "      <th>4</th>\n",
       "      <td>롯데그룹, 이동우 부회장式 혁신에 힘 싣는다</td>\n",
       "      <td>2021.11.25</td>\n",
       "      <td>http://www.bloter.net/newsView/blt202111250036</td>\n",
       "      <td>이동우 롯데지주 대표이사 부회장.(사진=롯데.)롯데그룹은 2022년 정기 임원인사에...</td>\n",
       "    </tr>\n",
       "  </tbody>\n",
       "</table>\n",
       "</div>"
      ],
      "text/plain": [
       "                                     title        date  \\\n",
       "0     [증시이슈] 연이은 빅딜에도 사흘 내리 하락한 CJ ENM, 왜?  2021.11.25   \n",
       "1  [팩플] 다들 반대할 때 \"카카오페이 해보자\"한 류영준, 카카오 이끈다  2021.11.25   \n",
       "2       LG그룹 COO로 권봉석 부회장, LG전자 대표는 조주완 사장  1818.12.12   \n",
       "3            BM 전문가 여민수-개발자 출신 CEO 류영준 시너지  2021.11.25   \n",
       "4                 롯데그룹, 이동우 부회장式 혁신에 힘 싣는다  2021.11.25   \n",
       "\n",
       "                                                link  \\\n",
       "0  https://economist.co.kr/2021/11/25/it/general/...   \n",
       "1        https://www.joongang.co.kr/article/25026933   \n",
       "2               http://www.etnews.com/20211125000208   \n",
       "3      http://www.fnnews.com/news/202111251603327311   \n",
       "4     http://www.bloter.net/newsView/blt202111250036   \n",
       "\n",
       "                                             content  \n",
       "0  분할 법인에 예능·드라마·영화·애니메이션 모두 넘기면…     미국 LA 스테이플스...  \n",
       "1  카카오의 공동대표로 내정된 류영준(왼쪽) 내정자와 여민수(오른쪽) 대표. 카카오 제...  \n",
       "2  권봉석 LG전자 대표이사가 부회장으로 승진, ㈜LG 최고운영책임자(COO)로 선임됐...  \n",
       "3  카카오 내년 3월 여민수-류영준 공동대표 체제카카오커머스와 카카오페이 등 쇼핑+결제...  \n",
       "4  이동우 롯데지주 대표이사 부회장.(사진=롯데.)롯데그룹은 2022년 정기 임원인사에...  "
      ]
     },
     "execution_count": 2,
     "metadata": {},
     "output_type": "execute_result"
    }
   ],
   "source": [
    "# csv 파일 읽기\n",
    "\n",
    "news = pd.read_csv('/Users/sky/class_python/2.DB/it_news.csv', index_col=0, encoding='utf-8')\n",
    "news.head()\n"
   ]
  },
  {
   "cell_type": "code",
   "execution_count": null,
   "metadata": {},
   "outputs": [],
   "source": [
    "# DB연동\n",
    "conn = pymysql.connect(host='localhost',\n",
    "                       database='test', # 자기 데이터 베이스에 맞게 접속\n",
    "                       user='test',\n",
    "                       passwd='test', #자기 비밀번호\n",
    "                       charset='utf8',\n",
    "                       local_infile=1) #혹시나 안되면 이거 켜서 접속\n",
    "\n",
    "cursor = conn.cursor()\n",
    "\n",
    "# INSERT\n",
    "value_list = []\n",
    "for index, row in news.iterrows():\n",
    "    tu = ( row.title, row.date, row.link, row.content) \n",
    "    value_list.append(tu)\n",
    "    \n",
    "cursor.executemany('''\n",
    "                  INSERT INTO NEWS (title, date, link, content) \n",
    "                  values ( %s, %s, %s, %s)\n",
    "                  ''', value_list)\n",
    "\n",
    "conn.commit()\n",
    "conn.close()"
   ]
  }
 ],
 "metadata": {
  "interpreter": {
   "hash": "b0fa6594d8f4cbf19f97940f81e996739fb7646882a419484c72d19e05852a7e"
  },
  "kernelspec": {
   "display_name": "Python 3.9.7 64-bit",
   "language": "python",
   "name": "python3"
  },
  "language_info": {
   "codemirror_mode": {
    "name": "ipython",
    "version": 3
   },
   "file_extension": ".py",
   "mimetype": "text/x-python",
   "name": "python",
   "nbconvert_exporter": "python",
   "pygments_lexer": "ipython3",
   "version": "3.8.10"
  },
  "orig_nbformat": 4
 },
 "nbformat": 4,
 "nbformat_minor": 2
}
