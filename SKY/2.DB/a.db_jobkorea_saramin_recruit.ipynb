{
 "cells": [
  {
   "cell_type": "code",
   "execution_count": null,
   "metadata": {},
   "outputs": [],
   "source": [
    "import pymysql\n",
    "import pandas as pd"
   ]
  },
  {
   "cell_type": "code",
   "execution_count": null,
   "metadata": {},
   "outputs": [],
   "source": [
    "# DB연동\n",
    "conn = pymysql.connect(host='localhost',\n",
    "                       database='test', # 자기 데이터 베이스에 맞게 접속\n",
    "                       user='root',\n",
    "                       passwd='mlb10200', #자기 비밀번호\n",
    "                       charset='utf8',\n",
    "                       local_infile=1) #혹시나 안되면 이거 켜서 접속\n",
    "\n",
    "cursor = conn.cursor()"
   ]
  },
  {
   "cell_type": "code",
   "execution_count": null,
   "metadata": {},
   "outputs": [],
   "source": [
    "#TABLE 생성\n",
    "sql = '''\n",
    "    CREATE TABLE helpme(\n",
    "        resource varchar(50),\n",
    "        company varchar(255),\n",
    "        duty varchar(255),\n",
    "        career varchar(255),\n",
    "        degree varchar(255),\n",
    "        work_place varchar(255),\n",
    "        work_type varchar(255),\n",
    "        category longtext,\n",
    "        link varchar(255),\n",
    "        info varchar(255)\n",
    "    )\n",
    "      '''\n",
    "cursor.execute(sql)\n",
    "#커밋필수\n",
    "conn.commit()"
   ]
  },
  {
   "cell_type": "code",
   "execution_count": null,
   "metadata": {},
   "outputs": [],
   "source": [
    "# csv 파일 읽기\n",
    "recruit_info = pd.read_csv('/Users/sky/class_python/2.DB/jobkorea_saramin_recruit.csv', index_col=0, encoding='utf8')\n",
    "recruit_info.head()"
   ]
  },
  {
   "cell_type": "code",
   "execution_count": null,
   "metadata": {},
   "outputs": [],
   "source": [
    "# 데이터 읽어서 DB에 저장\n",
    "\n",
    "# DB연동\n",
    "conn = pymysql.connect(host='localhost',\n",
    "                       database='test', # 자기 데이터 베이스에 맞게 접속\n",
    "                       user='root',\n",
    "                       passwd='mlb10200', #자기 비밀번호\n",
    "                       charset='utf8',\n",
    "                       local_infile=1) #혹시나 안되면 이거 켜서 접속\n",
    "\n",
    "cursor = conn.cursor()\n",
    "\n",
    "value_list = []\n",
    "for index, row in recruit_info.iterrows():\n",
    "    tu = ( row.company, row.duty, row.career, row.degree,  row.work_place,\n",
    "          row.work_type, row.category, row.link, row.info, row.resource) \n",
    "    value_list.append(tu)\n",
    "    \n",
    "cursor.executemany('''\n",
    "                  INSERT INTO helpme (company, duty, career, degree, work_place, work_type, category, link, info, resource) \n",
    "                  values ( %s, %s, %s, %s, %s, %s, %s, %s, %s,%s)\n",
    "                  ''', value_list)\n",
    "\n",
    "conn.commit()\n",
    "conn.close()"
   ]
  }
 ],
 "metadata": {
  "interpreter": {
   "hash": "b0fa6594d8f4cbf19f97940f81e996739fb7646882a419484c72d19e05852a7e"
  },
  "kernelspec": {
   "display_name": "Python 3.9.7 64-bit",
   "language": "python",
   "name": "python3"
  },
  "language_info": {
   "codemirror_mode": {
    "name": "ipython",
    "version": 3
   },
   "file_extension": ".py",
   "mimetype": "text/x-python",
   "name": "python",
   "nbconvert_exporter": "python",
   "pygments_lexer": "ipython3",
   "version": "3.8.10"
  },
  "orig_nbformat": 4
 },
 "nbformat": 4,
 "nbformat_minor": 2
}
