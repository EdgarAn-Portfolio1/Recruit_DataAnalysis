{
 "cells": [
  {
   "cell_type": "code",
   "execution_count": 1,
   "metadata": {},
   "outputs": [],
   "source": [
    "from surprise import SVD\n",
    "from surprise.model_selection import cross_validate\n",
    "from surprise import Reader\n",
    "from surprise import Dataset\n",
    "import pandas as pd\n",
    "import numpy as np\n",
    "\n",
    "# 맥os 다운 방지 코드\n",
    "import os\n",
    "os.environ['KMP_DUPLICATE_LIB_OK']='True'"
   ]
  },
  {
   "cell_type": "code",
   "execution_count": 2,
   "metadata": {},
   "outputs": [
    {
     "data": {
      "text/html": [
       "<div>\n",
       "<style scoped>\n",
       "    .dataframe tbody tr th:only-of-type {\n",
       "        vertical-align: middle;\n",
       "    }\n",
       "\n",
       "    .dataframe tbody tr th {\n",
       "        vertical-align: top;\n",
       "    }\n",
       "\n",
       "    .dataframe thead th {\n",
       "        text-align: right;\n",
       "    }\n",
       "</style>\n",
       "<table border=\"1\" class=\"dataframe\">\n",
       "  <thead>\n",
       "    <tr style=\"text-align: right;\">\n",
       "      <th></th>\n",
       "      <th>company_Index</th>\n",
       "      <th>memberid</th>\n",
       "      <th>value</th>\n",
       "    </tr>\n",
       "  </thead>\n",
       "  <tbody>\n",
       "    <tr>\n",
       "      <th>0</th>\n",
       "      <td>1</td>\n",
       "      <td>sky</td>\n",
       "      <td>0</td>\n",
       "    </tr>\n",
       "    <tr>\n",
       "      <th>1</th>\n",
       "      <td>1</td>\n",
       "      <td>sky2</td>\n",
       "      <td>0</td>\n",
       "    </tr>\n",
       "    <tr>\n",
       "      <th>2</th>\n",
       "      <td>2</td>\n",
       "      <td>sky</td>\n",
       "      <td>0</td>\n",
       "    </tr>\n",
       "    <tr>\n",
       "      <th>3</th>\n",
       "      <td>2</td>\n",
       "      <td>sky2</td>\n",
       "      <td>0</td>\n",
       "    </tr>\n",
       "    <tr>\n",
       "      <th>4</th>\n",
       "      <td>3</td>\n",
       "      <td>sky</td>\n",
       "      <td>0</td>\n",
       "    </tr>\n",
       "    <tr>\n",
       "      <th>...</th>\n",
       "      <td>...</td>\n",
       "      <td>...</td>\n",
       "      <td>...</td>\n",
       "    </tr>\n",
       "    <tr>\n",
       "      <th>95285</th>\n",
       "      <td>47643</td>\n",
       "      <td>sky2</td>\n",
       "      <td>0</td>\n",
       "    </tr>\n",
       "    <tr>\n",
       "      <th>95286</th>\n",
       "      <td>47644</td>\n",
       "      <td>sky</td>\n",
       "      <td>0</td>\n",
       "    </tr>\n",
       "    <tr>\n",
       "      <th>95287</th>\n",
       "      <td>47644</td>\n",
       "      <td>sky2</td>\n",
       "      <td>0</td>\n",
       "    </tr>\n",
       "    <tr>\n",
       "      <th>95288</th>\n",
       "      <td>47645</td>\n",
       "      <td>sky</td>\n",
       "      <td>0</td>\n",
       "    </tr>\n",
       "    <tr>\n",
       "      <th>95289</th>\n",
       "      <td>47645</td>\n",
       "      <td>sky2</td>\n",
       "      <td>0</td>\n",
       "    </tr>\n",
       "  </tbody>\n",
       "</table>\n",
       "<p>95290 rows × 3 columns</p>\n",
       "</div>"
      ],
      "text/plain": [
       "       company_Index memberid  value\n",
       "0                  1      sky      0\n",
       "1                  1     sky2      0\n",
       "2                  2      sky      0\n",
       "3                  2     sky2      0\n",
       "4                  3      sky      0\n",
       "...              ...      ...    ...\n",
       "95285          47643     sky2      0\n",
       "95286          47644      sky      0\n",
       "95287          47644     sky2      0\n",
       "95288          47645      sky      0\n",
       "95289          47645     sky2      0\n",
       "\n",
       "[95290 rows x 3 columns]"
      ]
     },
     "execution_count": 2,
     "metadata": {},
     "output_type": "execute_result"
    }
   ],
   "source": [
    "df = pd.read_csv('/Users/sky/class_python/company_member.csv', index_col=0)\n",
    "df"
   ]
  },
  {
   "cell_type": "code",
   "execution_count": 3,
   "metadata": {},
   "outputs": [
    {
     "data": {
      "text/plain": [
       "<surprise.dataset.DatasetAutoFolds at 0x7fb1b065a9d0>"
      ]
     },
     "execution_count": 3,
     "metadata": {},
     "output_type": "execute_result"
    }
   ],
   "source": [
    "reader = Reader(rating_scale=(0,1))\n",
    "data = Dataset.load_from_df(df[['memberid', 'company_Index', 'value']], reader)\n",
    "data"
   ]
  },
  {
   "cell_type": "code",
   "execution_count": 4,
   "metadata": {},
   "outputs": [
    {
     "name": "stdout",
     "output_type": "stream",
     "text": [
      "Evaluating RMSE, MAE of algorithm SVD on 5 split(s).\n",
      "\n",
      "                  Fold 1  Fold 2  Fold 3  Fold 4  Fold 5  Mean    Std     \n",
      "RMSE (testset)    0.0126  0.0103  0.0007  0.0007  0.0007  0.0050  0.0053  \n",
      "MAE (testset)     0.0002  0.0001  0.0000  0.0000  0.0000  0.0001  0.0001  \n",
      "Fit time          4.27    4.16    4.13    4.06    3.87    4.10    0.13    \n",
      "Test time         0.10    0.09    0.10    0.10    0.08    0.09    0.01    \n"
     ]
    },
    {
     "data": {
      "text/plain": [
       "{'test_rmse': array([0.01256576, 0.0102645 , 0.0006943 , 0.00069615, 0.00069494]),\n",
       " 'test_mae': array([1.84123900e-04, 1.39922124e-04, 3.03395037e-05, 3.65480793e-05,\n",
       "        3.48497462e-05]),\n",
       " 'fit_time': (4.26596474647522,\n",
       "  4.161673069000244,\n",
       "  4.130648851394653,\n",
       "  4.061614751815796,\n",
       "  3.865370988845825),\n",
       " 'test_time': (0.09740209579467773,\n",
       "  0.08963203430175781,\n",
       "  0.09624910354614258,\n",
       "  0.09823226928710938,\n",
       "  0.07837677001953125)}"
      ]
     },
     "execution_count": 4,
     "metadata": {},
     "output_type": "execute_result"
    }
   ],
   "source": [
    "#SVD\n",
    "model = SVD()\n",
    "# 교차검증\n",
    "cross_validate(model, data, measures=['RMSE', 'MAE'], cv=5, n_jobs=4, verbose=True)"
   ]
  },
  {
   "cell_type": "code",
   "execution_count": 5,
   "metadata": {},
   "outputs": [],
   "source": [
    "from surprise.model_selection import train_test_split\n",
    "train_set, test_set = train_test_split(data, test_size=1.0)"
   ]
  },
  {
   "cell_type": "code",
   "execution_count": 6,
   "metadata": {},
   "outputs": [
    {
     "name": "stderr",
     "output_type": "stream",
     "text": [
      "/Users/sky/opt/miniconda3/lib/python3.8/site-packages/numpy/core/fromnumeric.py:3440: RuntimeWarning: Mean of empty slice.\n",
      "  return _methods._mean(a, axis=axis, dtype=dtype,\n",
      "/Users/sky/opt/miniconda3/lib/python3.8/site-packages/numpy/core/_methods.py:189: RuntimeWarning: invalid value encountered in double_scalars\n",
      "  ret = ret.dtype.type(ret / rcount)\n"
     ]
    }
   ],
   "source": [
    "model.fit(train_set)\n",
    "predictions = model.test(test_set)"
   ]
  },
  {
   "cell_type": "code",
   "execution_count": 7,
   "metadata": {},
   "outputs": [
    {
     "data": {
      "text/plain": [
       "Prediction(uid='sky', iid=8, r_ui=None, est=1, details={'was_impossible': False})"
      ]
     },
     "execution_count": 7,
     "metadata": {},
     "output_type": "execute_result"
    }
   ],
   "source": [
    "model.predict('sky', 8)"
   ]
  },
  {
   "cell_type": "code",
   "execution_count": 8,
   "metadata": {},
   "outputs": [
    {
     "data": {
      "text/plain": [
       "Prediction(uid='sky', iid=1756, r_ui=None, est=1, details={'was_impossible': False})"
      ]
     },
     "execution_count": 8,
     "metadata": {},
     "output_type": "execute_result"
    }
   ],
   "source": [
    "model.predict('sky', 1756)"
   ]
  },
  {
   "cell_type": "code",
   "execution_count": 11,
   "metadata": {},
   "outputs": [
    {
     "data": {
      "text/plain": [
       "[Prediction(uid='sky', iid=36938, r_ui=0.0, est=1, details={'was_impossible': False}),\n",
       " Prediction(uid='sky2', iid=11447, r_ui=0.0, est=1, details={'was_impossible': False}),\n",
       " Prediction(uid='sky', iid=37638, r_ui=0.0, est=1, details={'was_impossible': False}),\n",
       " Prediction(uid='sky2', iid=11137, r_ui=0.0, est=1, details={'was_impossible': False}),\n",
       " Prediction(uid='sky', iid=20054, r_ui=0.0, est=1, details={'was_impossible': False}),\n",
       " Prediction(uid='sky', iid=10866, r_ui=0.0, est=1, details={'was_impossible': False}),\n",
       " Prediction(uid='sky', iid=28216, r_ui=0.0, est=1, details={'was_impossible': False}),\n",
       " Prediction(uid='sky', iid=13193, r_ui=0.0, est=1, details={'was_impossible': False}),\n",
       " Prediction(uid='sky2', iid=36148, r_ui=0.0, est=1, details={'was_impossible': False}),\n",
       " Prediction(uid='sky', iid=43946, r_ui=0.0, est=1, details={'was_impossible': False})]"
      ]
     },
     "execution_count": 11,
     "metadata": {},
     "output_type": "execute_result"
    }
   ],
   "source": [
    "predicted_values = model.test(test_set)\n",
    "predicted_values[0:10]"
   ]
  }
 ],
 "metadata": {
  "interpreter": {
   "hash": "7f8a298e880cf99c9c7a0b66a05672eb9bf2d8825a9da8d2e07c7170541f5baf"
  },
  "kernelspec": {
   "display_name": "Python 3.8.10 64-bit ('base': conda)",
   "language": "python",
   "name": "python3"
  },
  "language_info": {
   "codemirror_mode": {
    "name": "ipython",
    "version": 3
   },
   "file_extension": ".py",
   "mimetype": "text/x-python",
   "name": "python",
   "nbconvert_exporter": "python",
   "pygments_lexer": "ipython3",
   "version": "3.8.10"
  },
  "orig_nbformat": 4
 },
 "nbformat": 4,
 "nbformat_minor": 2
}
