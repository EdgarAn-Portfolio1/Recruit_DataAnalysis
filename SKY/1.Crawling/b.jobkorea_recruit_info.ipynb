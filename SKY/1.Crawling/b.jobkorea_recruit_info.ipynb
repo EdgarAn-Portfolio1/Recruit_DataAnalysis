{
 "cells": [
  {
   "cell_type": "code",
   "execution_count": 1,
   "metadata": {},
   "outputs": [],
   "source": [
    "from selenium import webdriver\n",
    "from selenium.webdriver.common.by import By\n",
    "from bs4 import BeautifulSoup\n",
    "from urllib.parse import urljoin\n",
    "import re\n",
    "import time"
   ]
  },
  {
   "cell_type": "code",
   "execution_count": 8,
   "metadata": {},
   "outputs": [],
   "source": [
    "main_url = 'https://www.jobkorea.co.kr'\n",
    "browser = webdriver.Chrome('/Users/sky/Downloads/chromedriver')\n",
    "job_list_jobkorea = []\n",
    "url = 'https://www.jobkorea.co.kr/recruit/joblist?menucode=duty&dutyCtgr=10016#anchorGICnt_{0}'\n",
    "\n",
    "\n",
    "for page_num in range(1,5):\n",
    "    \n",
    "    browser.get(url.format(page_num))\n",
    "\n",
    "    soup = BeautifulSoup(browser.page_source, 'html.parser')\n",
    "    \n",
    "    \n",
    "    if soup.select('#dev-gi-list > div > div.tplList.tplJobList > table > tbody > tr') == []:\n",
    "        break\n",
    "    \n",
    "    for tag in soup.select('#dev-gi-list > div > div.tplList.tplJobList > table > tbody > tr'):\n",
    "        company = {}\n",
    "\n",
    "        company['기업명'] = tag.select('td.tplCo > a')[0].text\n",
    "        company['직무'] = tag.select('td > div > strong > a')[0].text\n",
    "        \n",
    "        company['경력'] = tag.select('td.tplTit > div > p.etc > span')[0].text\n",
    "        company['학력'] = tag.select('td.tplTit > div > p.etc > span')[1].text\n",
    "        company['근무지'] = tag.select('td.tplTit > div > p.etc > span')[2].text\n",
    "        company['근무형태'] = tag.select('td.tplTit > div > p.etc > span')[3].text\n",
    "    \n",
    "    \n",
    "        category = []\n",
    "        for item in tag.select('td.tplTit > div > p.dsc'):\n",
    "            category.append(item.text)\n",
    "        company['분류'] = str(category)\n",
    "        \n",
    "        detail_url = tag.select_one('td.tplTit > div > strong > a').attrs['href']\n",
    "        full_detail_url = urljoin(main_url, detail_url)\n",
    "        company['상세링크'] = full_detail_url\n",
    "        \n",
    "        # corinfo_url = tag.select_one('td.tplCo > a').attrs['href']\n",
    "        # full_detail_url = urljoin(main_url, detail_url)\n",
    "        # company['기업정보'] = full_detail_url\n",
    "        \n",
    "        job_list_jobkorea.append(company)\n",
    "           \n",
    "        time.sleep(.5)\n",
    "            \n",
    "            \n",
    "browser.close()"
   ]
  },
  {
   "cell_type": "code",
   "execution_count": 22,
   "metadata": {},
   "outputs": [],
   "source": [
    "# csv로 저장\n",
    "import pandas as pd\n",
    "jobkorea = pd.DataFrame(job_list_jobkorea)\n",
    "jobkorea.to_csv('jobkorea_recruit.csv', encoding='utf8')"
   ]
  },
  {
   "cell_type": "markdown",
   "metadata": {},
   "source": [
    "사람인 및 잡코리아에서 링크를 통해 기업 정보를 가져오려 했지만 일관된 규칙을 찾지 못해서 미해결 상태 "
   ]
  }
 ],
 "metadata": {
  "interpreter": {
   "hash": "7f8a298e880cf99c9c7a0b66a05672eb9bf2d8825a9da8d2e07c7170541f5baf"
  },
  "kernelspec": {
   "display_name": "Python 3.8.10 64-bit ('base': conda)",
   "language": "python",
   "name": "python3"
  },
  "language_info": {
   "codemirror_mode": {
    "name": "ipython",
    "version": 3
   },
   "file_extension": ".py",
   "mimetype": "text/x-python",
   "name": "python",
   "nbconvert_exporter": "python",
   "pygments_lexer": "ipython3",
   "version": "3.8.10"
  },
  "orig_nbformat": 4
 },
 "nbformat": 4,
 "nbformat_minor": 2
}
