{
 "cells": [
  {
   "cell_type": "code",
   "execution_count": null,
   "metadata": {},
   "outputs": [],
   "source": [
    "from selenium import webdriver\n",
    "from bs4 import BeautifulSoup\n",
    "import time\n",
    "import pandas as pd"
   ]
  },
  {
   "cell_type": "code",
   "execution_count": null,
   "metadata": {},
   "outputs": [],
   "source": [
    "browser = webdriver.Chrome('/Users/sky/Downloads/chromedriver')\n",
    "url = 'https://www.jobkorea.co.kr/Top100/?Main_Career_Type=1&Search_Type=1&BizJobtype_Bctgr_Code=10016&BizJobtype_Bctgr_Name=IT·인터넷&BizJobtype_Code=0&BizJobtype_Name=IT·인터넷+전체&Major_Big_Code=0&Major_Big_Name=전체&Major_Code=0&Major_Name=전체&Edu_Level_Code=9&Edu_Level_Name=전체&Edu_Level_Name=전체&MidScroll=0'\n",
    "browser.get(url)\n",
    "soup = BeautifulSoup(browser.page_source)"
   ]
  },
  {
   "cell_type": "code",
   "execution_count": null,
   "metadata": {},
   "outputs": [],
   "source": [
    "rank_rookie = []\n",
    "\n",
    "for tag in soup.select('#devTypeTab_1 > div.rankListWrap > div.rankListArea.devSarterTab > ol > li '):\n",
    "    company = {}    \n",
    "    company['rank'] = tag.select('div > span.num')[0].text\n",
    "    company['company'] = tag.select('div.co > div.coTit > a')[0].text\n",
    "    company['title'] = tag.select('div.info > div.tit')[0].text\n",
    "    company['duty'] = tag.select('div.info > div.sTit')[0].text\n",
    "    company['career'] = tag.select('div.info > div.sDsc > span')[0].text\n",
    "    company['degree'] = tag.select('div.info > div.sDsc > span')[1].text\n",
    "    company['work_place'] = tag.select('div.info > div.sDsc > span')[2].text\n",
    "    company['work_type'] = tag.select('div.info > div.sDsc > span')[3].text\n",
    "\n",
    "    company['due_date'] = tag.select('div.side > span.day')[0].text\n",
    "    \n",
    "    rank_rookie.append(company)\n",
    "    \n",
    "rank_rookie"
   ]
  },
  {
   "cell_type": "code",
   "execution_count": null,
   "metadata": {},
   "outputs": [],
   "source": [
    "df = pd.DataFrame(rank_rookie)\n",
    "df = df.replace('\\n', '', regex=True)\n",
    "df.to_csv('rank_rookie.csv', encoding='utf8')"
   ]
  },
  {
   "cell_type": "code",
   "execution_count": null,
   "metadata": {},
   "outputs": [],
   "source": [
    "# csv 파일 읽기\n",
    "df = pd.read_csv('/Users/sky/class_python/1.Crawling/rank_rookie_jobkorea.csv', index_col=0, encoding='utf-8')\n",
    "# 난잡한거 조금 정리\n",
    "df.drop(['rank'],axis=1, inplace=True)\n",
    "df = df.replace('스크랩', '', regex=True)\n",
    "df.to_csv('rank_rookie_jobkorea.csv', encoding='utf8')"
   ]
  },
  {
   "cell_type": "code",
   "execution_count": null,
   "metadata": {},
   "outputs": [],
   "source": [
    "import pymysql\n",
    "import pandas as pd"
   ]
  },
  {
   "cell_type": "code",
   "execution_count": null,
   "metadata": {},
   "outputs": [],
   "source": [
    "# 데이터 읽기\n",
    "rookie_j = pd.read_csv('/Users/sky/class_python/1.Crawling/rank_rookie_jobkorea.csv', index_col=0, encoding='utf-8')\n",
    "rookie_j.head(3)"
   ]
  },
  {
   "cell_type": "code",
   "execution_count": null,
   "metadata": {},
   "outputs": [],
   "source": [
    "# DB연동\n",
    "conn = pymysql.connect(host='localhost',\n",
    "                       database='test', # 자기 데이터 베이스에 맞게 접속\n",
    "                       user='root',\n",
    "                       passwd='mlb10200', #자기 비밀번호\n",
    "                       charset='utf8',\n",
    "                       local_infile=1) #혹시나 안되면 이거 켜서 접속\n",
    "\n",
    "cursor = conn.cursor()"
   ]
  },
  {
   "cell_type": "code",
   "execution_count": null,
   "metadata": {},
   "outputs": [],
   "source": [
    "# test용 TABLE 생성\n",
    "sql = '''\n",
    "    CREATE TABLE rookie_j(\n",
    "        company varchar(255),\n",
    "        title varchar(255),\n",
    "        career varchar(255),\n",
    "        degree varchar(255),\n",
    "        work_type varchar(255),\n",
    "        work_place varchar(255),\n",
    "        duty varchar(255),\n",
    "        due_date varchar(255)\n",
    "    )\n",
    "      '''\n",
    "cursor.execute(sql)\n",
    "#커밋은 필수\n",
    "conn.commit()"
   ]
  },
  {
   "cell_type": "code",
   "execution_count": null,
   "metadata": {},
   "outputs": [],
   "source": [
    "# DB INSERT\n",
    "\n",
    "value_list = []\n",
    "for index, row in rookie_j.iterrows():\n",
    "    tu = ( row.company, row.title, row.duty, row.career,\n",
    "           row.degree, row.work_place, row.work_type, row.due_date ) \n",
    "    value_list.append(tu)\n",
    "    \n",
    "cursor.executemany('''\n",
    "                  INSERT INTO rookie_j (company, title, duty, career, degree, work_place, work_type, due_date)\n",
    "                  values ( %s, %s, %s, %s, %s, %s, %s, %s )\n",
    "                  ''', value_list)\n",
    "\n",
    "conn.commit()\n",
    "#conn.close()"
   ]
  },
  {
   "cell_type": "code",
   "execution_count": null,
   "metadata": {},
   "outputs": [],
   "source": [
    "# 테이블 조회\n",
    "\n",
    "sql = 'SELECT * FROM test.rookie_j'\n",
    "cursor.execute(sql)\n",
    "result = cursor.fetchall()\n",
    "print(result)\n",
    "#conn.close()"
   ]
  }
 ],
 "metadata": {
  "interpreter": {
   "hash": "7f8a298e880cf99c9c7a0b66a05672eb9bf2d8825a9da8d2e07c7170541f5baf"
  },
  "kernelspec": {
   "display_name": "Python 3.8.10 64-bit ('base': conda)",
   "language": "python",
   "name": "python3"
  },
  "language_info": {
   "codemirror_mode": {
    "name": "ipython",
    "version": 3
   },
   "file_extension": ".py",
   "mimetype": "text/x-python",
   "name": "python",
   "nbconvert_exporter": "python",
   "pygments_lexer": "ipython3",
   "version": "3.8.10"
  },
  "orig_nbformat": 4
 },
 "nbformat": 4,
 "nbformat_minor": 2
}
