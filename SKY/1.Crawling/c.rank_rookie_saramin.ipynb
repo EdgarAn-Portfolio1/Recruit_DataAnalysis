{
 "cells": [
  {
   "cell_type": "code",
   "execution_count": null,
   "metadata": {},
   "outputs": [],
   "source": [
    "from selenium import webdriver\n",
    "from bs4 import BeautifulSoup\n",
    "import time\n",
    "import pandas as pd"
   ]
  },
  {
   "cell_type": "code",
   "execution_count": null,
   "metadata": {},
   "outputs": [],
   "source": [
    "browser = webdriver.Chrome('/Users/sky/Downloads/chromedriver')\n",
    "url = 'https://www.saramin.co.kr/zf_user/jobs/hot100'\n",
    "browser.get(url)\n",
    "browser.find_element_by_xpath('//*[@id=\"search_panel_wrapper\"]/form/fieldset/div/div[1]/div/div/button[7]').click()\n",
    "time.sleep(1)\n",
    "soup = BeautifulSoup(browser.page_source)"
   ]
  },
  {
   "cell_type": "code",
   "execution_count": null,
   "metadata": {},
   "outputs": [],
   "source": [
    "rank_rookie = []\n",
    "\n",
    "for tag in soup.select('#content > div.recruit_hot_wrap > div.recruit_hot_list > div.careers > div > ul > li'):\n",
    "    \n",
    "    company = {}    \n",
    "    company['company'] = tag.select('div.area_rank > div.rank_company_info > a > span')[0].text\n",
    "    company['title'] = tag.select('div.area_detail > a.tit > span')[0].text\n",
    "    company['career'] = tag.select('div.area_detail > div > span')[0].text\n",
    "    company['degree'] = tag.select('div.area_detail > div > span')[1].text\n",
    "    company['work_type'] = tag.select('div.area_detail > div > span')[2].text\n",
    "    \n",
    "    # 근무지 없는 경우 발생 -> 예외 처리\n",
    "    try:\n",
    "        company['work_place'] = tag.select('div.area_detail > div > span')[3].text\n",
    "    except:\n",
    "        company['work_place'] = \"\"\n",
    "\n",
    "    company['duty'] = tag.select('.area_detail > ul')[0].text\n",
    "    company['due_date'] = tag.select('div.area_detail > dl > dd')[0].text\n",
    "    \n",
    "    rank_rookie.append(company)\n",
    "    \n",
    "rank_rookie"
   ]
  },
  {
   "cell_type": "code",
   "execution_count": null,
   "metadata": {},
   "outputs": [],
   "source": [
    "df = pd.DataFrame(rank_rookie)\n",
    "# regex=True가 있어야 정규표현식이 작동함\n",
    "df = df.replace('\\n', '', regex=True)\n",
    "# 추천하는 열은 지우기 위해서\n",
    "df = df.drop([0])\n",
    "# csv로 저장\n",
    "df.to_csv('rank_rookie_saramin.csv', encoding='utf8')"
   ]
  },
  {
   "cell_type": "markdown",
   "metadata": {},
   "source": [
    "데이터가 적어서 바로 DB에 넣는 코드도 추가"
   ]
  },
  {
   "cell_type": "code",
   "execution_count": null,
   "metadata": {},
   "outputs": [],
   "source": [
    "import pymysql\n",
    "import pandas as pd"
   ]
  },
  {
   "cell_type": "code",
   "execution_count": null,
   "metadata": {},
   "outputs": [],
   "source": [
    "# CSV 읽기\n",
    "rookie_s = pd.read_csv('/Users/sky/class_python/1.Crawling/rank_rookie_saramin.csv', index_col=0, encoding='utf8')\n",
    "rookie_s.head(3)"
   ]
  },
  {
   "cell_type": "code",
   "execution_count": null,
   "metadata": {},
   "outputs": [],
   "source": [
    "# DB연동\n",
    "conn = pymysql.connect(host='localhost',\n",
    "                       database='test', # 자기 데이터 베이스에 맞게 접속\n",
    "                       user='root',\n",
    "                       passwd='mlb10200', #자기 비밀번호\n",
    "                       charset='utf8',\n",
    "                       local_infile=1) #혹시나 안되면 이거 켜서 접속\n",
    "\n",
    "cursor = conn.cursor()"
   ]
  },
  {
   "cell_type": "code",
   "execution_count": null,
   "metadata": {},
   "outputs": [],
   "source": [
    "# test용 TABLE 생성\n",
    "sql = '''\n",
    "    CREATE TABLE rookie_s(\n",
    "        company varchar(255),\n",
    "        title varchar(255),\n",
    "        career varchar(255),\n",
    "        degree varchar(255),\n",
    "        work_type varchar(255),\n",
    "        work_place varchar(255),\n",
    "        duty varchar(255),\n",
    "        due_date varchar(255)\n",
    "    )\n",
    "      '''\n",
    "cursor.execute(sql)\n",
    "#커밋은 필수\n",
    "conn.commit()"
   ]
  },
  {
   "cell_type": "code",
   "execution_count": null,
   "metadata": {},
   "outputs": [],
   "source": [
    "# DB INSERT\n",
    "\n",
    "value_list = []\n",
    "for index, row in rookie_s.iterrows():\n",
    "    tu = ( row.company, row.title, row.duty, row.career,\n",
    "           row.degree, row.work_place, row.work_type, row.due_date ) \n",
    "    value_list.append(tu)\n",
    "    \n",
    "cursor.executemany('''\n",
    "                  INSERT INTO rookie_s (company, title, duty, career, degree, work_place, work_type, due_date)\n",
    "                  values ( %s, %s, %s, %s, %s, %s, %s, %s )\n",
    "                  ''', value_list)\n",
    "\n",
    "conn.commit()\n",
    "#conn.close()"
   ]
  },
  {
   "cell_type": "code",
   "execution_count": null,
   "metadata": {},
   "outputs": [],
   "source": [
    "# 테이블 조회\n",
    "\n",
    "sql = 'SELECT * FROM test.rookie_s'\n",
    "cursor.execute(sql)\n",
    "result = cursor.fetchall()\n",
    "print(result)\n",
    "#conn.close()"
   ]
  },
  {
   "cell_type": "code",
   "execution_count": null,
   "metadata": {},
   "outputs": [],
   "source": []
  },
  {
   "cell_type": "code",
   "execution_count": null,
   "metadata": {},
   "outputs": [],
   "source": [
    "# TABLE 삭제\n",
    "# sql_drop = '''\n",
    "#             DROP TABLE rookie_s\n",
    "# '''\n",
    "# cursor.execute(sql_drop)\n",
    "# conn.commit()"
   ]
  }
 ],
 "metadata": {
  "interpreter": {
   "hash": "7f8a298e880cf99c9c7a0b66a05672eb9bf2d8825a9da8d2e07c7170541f5baf"
  },
  "kernelspec": {
   "display_name": "Python 3.8.10 64-bit ('base': conda)",
   "language": "python",
   "name": "python3"
  },
  "language_info": {
   "codemirror_mode": {
    "name": "ipython",
    "version": 3
   },
   "file_extension": ".py",
   "mimetype": "text/x-python",
   "name": "python",
   "nbconvert_exporter": "python",
   "pygments_lexer": "ipython3",
   "version": "3.8.10"
  },
  "orig_nbformat": 4
 },
 "nbformat": 4,
 "nbformat_minor": 2
}
