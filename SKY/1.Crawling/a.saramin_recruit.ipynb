{
 "cells": [
  {
   "cell_type": "code",
   "execution_count": null,
   "metadata": {},
   "outputs": [],
   "source": [
    "import requests\n",
    "from bs4 import BeautifulSoup\n",
    "from urllib.parse import urljoin\n",
    "import re"
   ]
  },
  {
   "cell_type": "code",
   "execution_count": null,
   "metadata": {},
   "outputs": [],
   "source": [
    "job_list_saramin = []\n",
    "page_num = 1\n",
    "main_url = 'http://www.saramin.co.kr'\n",
    "\n",
    "while True:\n",
    "    url = f'https://www.saramin.co.kr/zf_user/jobs/list/job-category?page={page_num}&cat_mcls=2&search_optional_item=n&search_done=y&panel_count=y&isAjaxRequest=0&page_count=50&sort=RL&type=job-category&is_param=1&isSearchResultEmpty=1&isSectionHome=0&searchParamCount=1#searchTitle'\n",
    "    req_header = {\n",
    "    \"User-Agent\": \"Mozilla/5.0 (Macintosh; Intel Mac OS X 10_15_7) AppleWebKit/605.1.15 (KHTML, like Gecko) Version/15.1 Safari/605.1.15\",\n",
    "    }\n",
    "    \n",
    "    html = requests.get(url, req_header).text\n",
    "    soup = BeautifulSoup(html, 'html.parser')\n",
    "    \n",
    "    if soup.select('div.list_body div.list_item') == []:\n",
    "        break\n",
    "    \n",
    "    for tag in soup.select('div.list_body div.list_item'):\n",
    "        company_dict = {}\n",
    "        company_dict[\"기업명\"] = tag.select('div.company_nm a span')[0].text\n",
    "        company_dict[\"직무\"] = tag.select('div.notification_info a span')[0].text\n",
    "        company_dict[\"경력사항\"] = tag.select('div.recruit_condition p.career')[0].text\n",
    "        company_dict[\"학력\"] = tag.select('div.recruit_condition p.education')[0].text\n",
    "        \n",
    "        try:    \n",
    "            company_dict[\"근무지\"] = tag.select('div.company_info p.work_place')[0].text\n",
    "        except:\n",
    "            company_dict[\"근무지\"] = \"\"\n",
    "            \n",
    "        try:\n",
    "            company_dict[\"근무형태\"] = tag.select('div.company_info p.employment_type')[0].text\n",
    "        except:\n",
    "            company_dict[\"근무형태\"] = \"\"\n",
    "\n",
    "        # 분류\n",
    "        category_list = []\n",
    "        for item in tag.select('div.notification_info div.job_meta span span'):\n",
    "            category_list.append(item.text)\n",
    "        company_dict[\"분류\"] = str(category_list)\n",
    "        \n",
    "        # 상세링크\n",
    "        detail_url = tag.select_one('div.notification_info a').attrs['href']\n",
    "        full_detail_url = urljoin(main_url, detail_url)\n",
    "        company_dict[\"상세링크\"] = full_detail_url\n",
    "        \n",
    "        job_list_saramin.append(company_dict)\n",
    "    page_num += 1\n"
   ]
  },
  {
   "cell_type": "code",
   "execution_count": null,
   "metadata": {},
   "outputs": [],
   "source": [
    "# csv로 저장\n",
    "import pandas as pd\n",
    "saramin = pd.DataFrame(job_list_saramin)\n",
    "saramin.to_csv('saramin_recruit.csv', encoding='utf8')"
   ]
  }
 ],
 "metadata": {
  "interpreter": {
   "hash": "7f8a298e880cf99c9c7a0b66a05672eb9bf2d8825a9da8d2e07c7170541f5baf"
  },
  "kernelspec": {
   "display_name": "Python 3.8.10 64-bit ('base': conda)",
   "language": "python",
   "name": "python3"
  },
  "language_info": {
   "codemirror_mode": {
    "name": "ipython",
    "version": 3
   },
   "file_extension": ".py",
   "mimetype": "text/x-python",
   "name": "python",
   "nbconvert_exporter": "python",
   "pygments_lexer": "ipython3",
   "version": "3.8.10"
  },
  "orig_nbformat": 4
 },
 "nbformat": 4,
 "nbformat_minor": 2
}
