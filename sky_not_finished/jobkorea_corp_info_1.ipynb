{
 "cells": [
  {
   "cell_type": "code",
   "execution_count": 1,
   "metadata": {},
   "outputs": [],
   "source": [
    "from selenium import webdriver\n",
    "from selenium.webdriver.common.by import By\n",
    "from bs4 import BeautifulSoup\n",
    "from urllib.parse import urljoin\n",
    "import re\n",
    "import time"
   ]
  },
  {
   "cell_type": "code",
   "execution_count": 47,
   "metadata": {},
   "outputs": [
    {
     "name": "stderr",
     "output_type": "stream",
     "text": [
      "/var/folders/mh/q1r71q296q7grz41z51vbp6w0000gq/T/ipykernel_26492/1219379096.py:1: DeprecationWarning: executable_path has been deprecated, please pass in a Service object\n",
      "  wd = webdriver.Chrome('/Users/sky/Downloads/chromedriver')\n"
     ]
    }
   ],
   "source": [
    "wd = webdriver.Chrome('/Users/sky/Downloads/chromedriver')\n",
    "#url = 'https://www.jobkorea.co.kr/recruit/joblist?menucode=duty&dutyCtgr=10016#anchorGICnt_%7B0%7D'\n",
    "url2 = 'https://www.jobkorea.co.kr/Recruit/Co_Read/C/seoultourism'"
   ]
  },
  {
   "cell_type": "code",
   "execution_count": 48,
   "metadata": {},
   "outputs": [],
   "source": [
    "wd.get(url2)"
   ]
  },
  {
   "cell_type": "markdown",
   "metadata": {},
   "source": [
    "# 이거 필없슴"
   ]
  },
  {
   "cell_type": "code",
   "execution_count": 43,
   "metadata": {},
   "outputs": [],
   "source": [
    "#a_link = wd.find_element(by=By.CSS_SELECTOR, value='#dev-gi-list > div > div.tplList.tplJobList > table > tbody > tr > td.tplCo > a')"
   ]
  },
  {
   "cell_type": "code",
   "execution_count": 44,
   "metadata": {},
   "outputs": [],
   "source": [
    "#a_link.get_attribute('href')"
   ]
  },
  {
   "cell_type": "code",
   "execution_count": 45,
   "metadata": {},
   "outputs": [],
   "source": [
    "#a_link.click()"
   ]
  },
  {
   "cell_type": "code",
   "execution_count": 46,
   "metadata": {},
   "outputs": [],
   "source": [
    "# #with open('jobkorea.html', 'wt') as f:\n",
    "#     f.write(wd.page_source)"
   ]
  },
  {
   "cell_type": "code",
   "execution_count": 49,
   "metadata": {},
   "outputs": [
    {
     "name": "stderr",
     "output_type": "stream",
     "text": [
      "/Users/sky/opt/miniconda3/lib/python3.8/site-packages/bs4/__init__.py:177: UserWarning: No parser was explicitly specified, so I'm using the best available HTML parser for this system (\"lxml\"). This usually isn't a problem, but if you run this code on another system, or in a different virtual environment, it may use a different parser and behave differently.\n",
      "\n",
      "The code that caused this warning is on line 194 of the file /Users/sky/opt/miniconda3/lib/python3.8/runpy.py. To get rid of this warning, change code that looks like this:\n",
      "\n",
      " BeautifulSoup(YOUR_MARKUP})\n",
      "\n",
      "to this:\n",
      "\n",
      " BeautifulSoup(YOUR_MARKUP, \"lxml\")\n",
      "\n",
      "  warnings.warn(self.NO_PARSER_SPECIFIED_WARNING % dict(\n"
     ]
    }
   ],
   "source": [
    "soup = BeautifulSoup(wd.page_source)"
   ]
  },
  {
   "cell_type": "markdown",
   "metadata": {},
   "source": [
    "# 페이지안에서 크롤링하깅 -> 됨"
   ]
  },
  {
   "cell_type": "code",
   "execution_count": 50,
   "metadata": {},
   "outputs": [
    {
     "data": {
      "text/plain": [
       "'\\n기업 상세 정보\\n\\n\\n\\n\\n\\n\\n\\n\\n산업\\n\\n\\n협회·단체\\n\\n\\n사원수\\n\\n\\n\\n145명\\n\\n\\n\\n\\n\\n\\n기업구분\\n\\n\\n국내 공공기관·공기업\\n\\n\\n설립일\\n\\n\\n\\n2018.04.23\\n(4년차)\\n\\n\\n\\n\\n\\n자본금\\n\\n\\n\\n-\\n\\n\\n\\n\\n매출액\\n\\n\\n\\n-\\n\\n\\n\\n\\n\\n\\n대표자\\n\\n\\n길기연\\n\\n\\n주요사업\\n\\n\\n서울 관광 홍보 및 마케팅, 컨벤션사업, 투자유치사업\\n\\n\\n\\n\\n4대보험\\n\\n\\n국민연금, 건강보험, 고용보험, 산재보험\\n\\n\\n홈페이지\\n\\n\\nhttp://www.sto.or.kr/\\n\\n\\n\\n\\n주소 \\n\\n\\n서울 종로구 청계천로 85 (관철동, 삼일빌딩) (재)서울관광재단 \\n\\n\\n\\n\\n'"
      ]
     },
     "execution_count": 50,
     "metadata": {},
     "output_type": "execute_result"
    }
   ],
   "source": [
    "a = soup.select_one('.table-basic-infomation-primary')\n",
    "a.text"
   ]
  },
  {
   "cell_type": "code",
   "execution_count": 84,
   "metadata": {},
   "outputs": [],
   "source": [
    "#0 ~ 10(포함)\n",
    "title = {}\n",
    "title['산업'] = soup.select('.field-value .value')[0].text\n",
    "title['사원수'] = soup.select('.field-value .value')[1].text\n",
    "title['기업구분'] = soup.select('.field-value .value')[2].text\n",
    "title['설립일'] = soup.select('.field-value .value')[3].text\n",
    "title['자본금'] = soup.select('.field-value .value')[4].text\n",
    "title['매출액'] = soup.select('.field-value .value')[5].text\n",
    "title['대표자'] = soup.select('.field-value .value')[6].text\n",
    "title['주요사업'] = soup.select('.field-value .value')[7].text\n",
    "title['4대보험'] = soup.select('.field-value .value')[8].text\n",
    "title['홈페이지'] = soup.select('.field-value .value')[9].text\n",
    "title['주소'] = soup.select('.field-value .value')[10].text\n",
    "\n",
    "\n",
    "# 반복문 가능"
   ]
  },
  {
   "cell_type": "code",
   "execution_count": 85,
   "metadata": {},
   "outputs": [
    {
     "data": {
      "text/plain": [
       "{'산업': '협회·단체',\n",
       " '사원수': '145명',\n",
       " '기업구분': '국내 공공기관·공기업',\n",
       " '설립일': '2018.04.23',\n",
       " '자본금': '-',\n",
       " '매출액': '-',\n",
       " '대표자': '길기연',\n",
       " '주요사업': '서울 관광 홍보 및 마케팅, 컨벤션사업, 투자유치사업',\n",
       " '4대보험': '국민연금, 건강보험, 고용보험, 산재보험',\n",
       " '홈페이지': 'http://www.sto.or.kr/',\n",
       " '주소': '서울 종로구 청계천로 85 (관철동, 삼일빌딩) (재)서울관광재단 '}"
      ]
     },
     "execution_count": 85,
     "metadata": {},
     "output_type": "execute_result"
    }
   ],
   "source": [
    "title"
   ]
  },
  {
   "cell_type": "code",
   "execution_count": 83,
   "metadata": {},
   "outputs": [
    {
     "data": {
      "text/plain": [
       "dict"
      ]
     },
     "execution_count": 83,
     "metadata": {},
     "output_type": "execute_result"
    }
   ],
   "source": [
    "type(title)"
   ]
  },
  {
   "cell_type": "markdown",
   "metadata": {},
   "source": [
    "# 이거 필없슴"
   ]
  },
  {
   "cell_type": "code",
   "execution_count": 42,
   "metadata": {},
   "outputs": [
    {
     "ename": "AttributeError",
     "evalue": "'NavigableString' object has no attribute 'find_elements'",
     "output_type": "error",
     "traceback": [
      "\u001b[0;31m---------------------------------------------------------------------------\u001b[0m",
      "\u001b[0;31mAttributeError\u001b[0m                            Traceback (most recent call last)",
      "\u001b[0;32m/var/folders/mh/q1r71q296q7grz41z51vbp6w0000gq/T/ipykernel_26492/2890038717.py\u001b[0m in \u001b[0;36m<module>\u001b[0;34m\u001b[0m\n\u001b[1;32m      2\u001b[0m     \u001b[0mhappy\u001b[0m \u001b[0;34m=\u001b[0m \u001b[0;34m{\u001b[0m\u001b[0;34m}\u001b[0m\u001b[0;34m\u001b[0m\u001b[0;34m\u001b[0m\u001b[0m\n\u001b[1;32m      3\u001b[0m \u001b[0;34m\u001b[0m\u001b[0m\n\u001b[0;32m----> 4\u001b[0;31m     \u001b[0mhappy\u001b[0m\u001b[0;34m[\u001b[0m\u001b[0;34m'산업'\u001b[0m\u001b[0;34m]\u001b[0m \u001b[0;34m=\u001b[0m \u001b[0mtag\u001b[0m\u001b[0;34m.\u001b[0m\u001b[0mfind_elements\u001b[0m\u001b[0;34m(\u001b[0m\u001b[0mBy\u001b[0m\u001b[0;34m.\u001b[0m\u001b[0mXPATH\u001b[0m\u001b[0;34m,\u001b[0m \u001b[0mvalue\u001b[0m\u001b[0;34m=\u001b[0m\u001b[0;34m'//*[@id=\"company-body\"]/div[1]/div[1]/div/table/tbody/tr[1]/td[1]/div/div'\u001b[0m\u001b[0;34m)\u001b[0m\u001b[0;34m.\u001b[0m\u001b[0mtext\u001b[0m\u001b[0;34m\u001b[0m\u001b[0;34m\u001b[0m\u001b[0m\n\u001b[0m\u001b[1;32m      5\u001b[0m     \u001b[0mhappy\u001b[0m\u001b[0;34m[\u001b[0m\u001b[0;34m'사원수'\u001b[0m\u001b[0;34m]\u001b[0m \u001b[0;34m=\u001b[0m \u001b[0mtag\u001b[0m\u001b[0;34m.\u001b[0m\u001b[0mfind_elements\u001b[0m\u001b[0;34m(\u001b[0m\u001b[0mBy\u001b[0m\u001b[0;34m.\u001b[0m\u001b[0mXPATH\u001b[0m\u001b[0;34m,\u001b[0m \u001b[0mvalue\u001b[0m\u001b[0;34m=\u001b[0m\u001b[0;34m'//*[@id=\"company-body\"]/div[1]/div[1]/div/table/tbody/tr[1]/td[2]'\u001b[0m\u001b[0;34m)\u001b[0m\u001b[0;34m.\u001b[0m\u001b[0mtext\u001b[0m\u001b[0;34m\u001b[0m\u001b[0;34m\u001b[0m\u001b[0m\n\u001b[1;32m      6\u001b[0m \u001b[0;34m\u001b[0m\u001b[0m\n",
      "\u001b[0;32m~/opt/miniconda3/lib/python3.8/site-packages/bs4/element.py\u001b[0m in \u001b[0;36m__getattr__\u001b[0;34m(self, attr)\u001b[0m\n\u001b[1;32m    733\u001b[0m             \u001b[0;32mreturn\u001b[0m \u001b[0mself\u001b[0m\u001b[0;34m\u001b[0m\u001b[0;34m\u001b[0m\u001b[0m\n\u001b[1;32m    734\u001b[0m         \u001b[0;32melse\u001b[0m\u001b[0;34m:\u001b[0m\u001b[0;34m\u001b[0m\u001b[0;34m\u001b[0m\u001b[0m\n\u001b[0;32m--> 735\u001b[0;31m             raise AttributeError(\n\u001b[0m\u001b[1;32m    736\u001b[0m                 \"'%s' object has no attribute '%s'\" % (\n\u001b[1;32m    737\u001b[0m                     self.__class__.__name__, attr))\n",
      "\u001b[0;31mAttributeError\u001b[0m: 'NavigableString' object has no attribute 'find_elements'"
     ]
    }
   ],
   "source": [
    "\n",
    "happy = {}\n",
    "    \n",
    "happy['산업'] = tag.find_elements(By.XPATH, value='//*[@id=\"company-body\"]/div[1]/div[1]/div/table/tbody/tr[1]/td[1]/div/div').text\n",
    "happy['사원수'] = tag.find_elements(By.XPATH, value='//*[@id=\"company-body\"]/div[1]/div[1]/div/table/tbody/tr[1]/td[2]').text\n",
    "\n",
    "happy['기업구분'] = tag.find_elements(By.XPATH, value='//*[@id=\"company-body\"]/div[1]/div[1]/div/table/tbody/tr[2]/td[1]/div/div').text\n",
    "happy['설립일'] = tag.find_elements(By.XPATH, value='//*[@id=\"company-body\"]/div[1]/div[1]/div/table/tbody/tr[2]/td[2]').text\n",
    "\n",
    "happy['자본금'] = tag.find_elements(By.XPATH, value='//*[@id=\"company-body\"]/div[1]/div[1]/div/table/tbody/tr[3]/td[1]/div/div/div[1]').text\n",
    "happy['매출액'] = tag.find_elements(By.XPATH, value='//*[@id=\"company-body\"]/div[1]/div[1]/div/table/tbody/tr[3]/td[2]/div/div/div[1]').text\n",
    "\n",
    "happy['대표자'] = tag.find_elements(By.XPATH, value='//*[@id=\"company-body\"]/div[1]/div[1]/div/table/tbody/tr[4]/td[1]/div/div').text\n",
    "happy['주요사업'] = tag.find_elements(By.XPATH, value='//*[@id=\"company-body\"]/div[1]/div[1]/div/table/tbody/tr[4]/td[2]').text\n",
    "\n",
    "################################\n",
    "#4대보험 회사아이가, 홈페이지 있는데 필요없다고 생각함 + 4대보험 태그안에 홈페이지 태그 있는데 빡쳐서 안할꺼임\n",
    "################################\n",
    "\n",
    "happy['주소'] = tag.find_elements(By.XPATH, value='//*[@id=\"company-body\"]/div[1]/div[1]/div/table/tbody/tr[6]/td/div/div').text\n",
    "    \n",
    "    "
   ]
  },
  {
   "cell_type": "code",
   "execution_count": 27,
   "metadata": {},
   "outputs": [],
   "source": [
    "wd.close()\n"
   ]
  },
  {
   "cell_type": "code",
   "execution_count": null,
   "metadata": {},
   "outputs": [],
   "source": []
  },
  {
   "cell_type": "markdown",
   "metadata": {},
   "source": []
  }
 ],
 "metadata": {
  "interpreter": {
   "hash": "7f8a298e880cf99c9c7a0b66a05672eb9bf2d8825a9da8d2e07c7170541f5baf"
  },
  "kernelspec": {
   "display_name": "Python 3.8.10 64-bit ('base': conda)",
   "language": "python",
   "name": "python3"
  },
  "language_info": {
   "codemirror_mode": {
    "name": "ipython",
    "version": 3
   },
   "file_extension": ".py",
   "mimetype": "text/x-python",
   "name": "python",
   "nbconvert_exporter": "python",
   "pygments_lexer": "ipython3",
   "version": "3.8.10"
  },
  "orig_nbformat": 4
 },
 "nbformat": 4,
 "nbformat_minor": 2
}
