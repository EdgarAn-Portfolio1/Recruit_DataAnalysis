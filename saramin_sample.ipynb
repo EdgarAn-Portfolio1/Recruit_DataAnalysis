{
 "cells": [
  {
   "cell_type": "markdown",
   "metadata": {},
   "source": [
    "# 자료 출처 - https://github.com/Poor-Condition/IT_WAVE/blob/master/Saramin_web_scrapping.ipynb"
   ]
  },
  {
   "cell_type": "code",
   "execution_count": 2,
   "metadata": {},
   "outputs": [],
   "source": [
    "import requests\n",
    "from bs4 import BeautifulSoup\n",
    "from urllib.parse import urljoin\n",
    "import re"
   ]
  },
  {
   "cell_type": "code",
   "execution_count": 3,
   "metadata": {},
   "outputs": [],
   "source": [
    "job_list_python = []\n",
    "page_num = 1\n",
    "main_url = 'http://www.saramin.co.kr'"
   ]
  },
  {
   "cell_type": "code",
   "execution_count": 7,
   "metadata": {},
   "outputs": [
    {
     "ename": "ValueError",
     "evalue": "too many values to unpack (expected 2)",
     "output_type": "error",
     "traceback": [
      "\u001b[1;31m---------------------------------------------------------------------------\u001b[0m",
      "\u001b[1;31mValueError\u001b[0m                                Traceback (most recent call last)",
      "\u001b[1;32m~\\AppData\\Local\\Temp/ipykernel_12336/725981359.py\u001b[0m in \u001b[0;36m<module>\u001b[1;34m\u001b[0m\n\u001b[0;32m      6\u001b[0m     }\n\u001b[0;32m      7\u001b[0m \u001b[1;33m\u001b[0m\u001b[0m\n\u001b[1;32m----> 8\u001b[1;33m     \u001b[0mhtml\u001b[0m \u001b[1;33m=\u001b[0m \u001b[0mrequests\u001b[0m\u001b[1;33m.\u001b[0m\u001b[0mget\u001b[0m\u001b[1;33m(\u001b[0m\u001b[0murl\u001b[0m\u001b[1;33m,\u001b[0m \u001b[0mreq_header\u001b[0m\u001b[1;33m)\u001b[0m\u001b[1;33m.\u001b[0m\u001b[0mtext\u001b[0m\u001b[1;33m\u001b[0m\u001b[1;33m\u001b[0m\u001b[0m\n\u001b[0m\u001b[0;32m      9\u001b[0m     \u001b[0msoup\u001b[0m \u001b[1;33m=\u001b[0m \u001b[0mBeautifulSoup\u001b[0m\u001b[1;33m(\u001b[0m\u001b[0mhtml\u001b[0m\u001b[1;33m,\u001b[0m \u001b[1;34m'html.parser'\u001b[0m\u001b[1;33m)\u001b[0m\u001b[1;33m\u001b[0m\u001b[1;33m\u001b[0m\u001b[0m\n\u001b[0;32m     10\u001b[0m \u001b[1;33m\u001b[0m\u001b[0m\n",
      "\u001b[1;32m~\\anaconda3\\lib\\site-packages\\requests\\api.py\u001b[0m in \u001b[0;36mget\u001b[1;34m(url, params, **kwargs)\u001b[0m\n\u001b[0;32m     73\u001b[0m     \"\"\"\n\u001b[0;32m     74\u001b[0m \u001b[1;33m\u001b[0m\u001b[0m\n\u001b[1;32m---> 75\u001b[1;33m     \u001b[1;32mreturn\u001b[0m \u001b[0mrequest\u001b[0m\u001b[1;33m(\u001b[0m\u001b[1;34m'get'\u001b[0m\u001b[1;33m,\u001b[0m \u001b[0murl\u001b[0m\u001b[1;33m,\u001b[0m \u001b[0mparams\u001b[0m\u001b[1;33m=\u001b[0m\u001b[0mparams\u001b[0m\u001b[1;33m,\u001b[0m \u001b[1;33m**\u001b[0m\u001b[0mkwargs\u001b[0m\u001b[1;33m)\u001b[0m\u001b[1;33m\u001b[0m\u001b[1;33m\u001b[0m\u001b[0m\n\u001b[0m\u001b[0;32m     76\u001b[0m \u001b[1;33m\u001b[0m\u001b[0m\n\u001b[0;32m     77\u001b[0m \u001b[1;33m\u001b[0m\u001b[0m\n",
      "\u001b[1;32m~\\anaconda3\\lib\\site-packages\\requests\\api.py\u001b[0m in \u001b[0;36mrequest\u001b[1;34m(method, url, **kwargs)\u001b[0m\n\u001b[0;32m     59\u001b[0m     \u001b[1;31m# cases, and look like a memory leak in others.\u001b[0m\u001b[1;33m\u001b[0m\u001b[1;33m\u001b[0m\u001b[0m\n\u001b[0;32m     60\u001b[0m     \u001b[1;32mwith\u001b[0m \u001b[0msessions\u001b[0m\u001b[1;33m.\u001b[0m\u001b[0mSession\u001b[0m\u001b[1;33m(\u001b[0m\u001b[1;33m)\u001b[0m \u001b[1;32mas\u001b[0m \u001b[0msession\u001b[0m\u001b[1;33m:\u001b[0m\u001b[1;33m\u001b[0m\u001b[1;33m\u001b[0m\u001b[0m\n\u001b[1;32m---> 61\u001b[1;33m         \u001b[1;32mreturn\u001b[0m \u001b[0msession\u001b[0m\u001b[1;33m.\u001b[0m\u001b[0mrequest\u001b[0m\u001b[1;33m(\u001b[0m\u001b[0mmethod\u001b[0m\u001b[1;33m=\u001b[0m\u001b[0mmethod\u001b[0m\u001b[1;33m,\u001b[0m \u001b[0murl\u001b[0m\u001b[1;33m=\u001b[0m\u001b[0murl\u001b[0m\u001b[1;33m,\u001b[0m \u001b[1;33m**\u001b[0m\u001b[0mkwargs\u001b[0m\u001b[1;33m)\u001b[0m\u001b[1;33m\u001b[0m\u001b[1;33m\u001b[0m\u001b[0m\n\u001b[0m\u001b[0;32m     62\u001b[0m \u001b[1;33m\u001b[0m\u001b[0m\n\u001b[0;32m     63\u001b[0m \u001b[1;33m\u001b[0m\u001b[0m\n",
      "\u001b[1;32m~\\anaconda3\\lib\\site-packages\\requests\\sessions.py\u001b[0m in \u001b[0;36mrequest\u001b[1;34m(self, method, url, params, data, headers, cookies, files, auth, timeout, allow_redirects, proxies, hooks, stream, verify, cert, json)\u001b[0m\n\u001b[0;32m    526\u001b[0m             \u001b[0mhooks\u001b[0m\u001b[1;33m=\u001b[0m\u001b[0mhooks\u001b[0m\u001b[1;33m,\u001b[0m\u001b[1;33m\u001b[0m\u001b[1;33m\u001b[0m\u001b[0m\n\u001b[0;32m    527\u001b[0m         )\n\u001b[1;32m--> 528\u001b[1;33m         \u001b[0mprep\u001b[0m \u001b[1;33m=\u001b[0m \u001b[0mself\u001b[0m\u001b[1;33m.\u001b[0m\u001b[0mprepare_request\u001b[0m\u001b[1;33m(\u001b[0m\u001b[0mreq\u001b[0m\u001b[1;33m)\u001b[0m\u001b[1;33m\u001b[0m\u001b[1;33m\u001b[0m\u001b[0m\n\u001b[0m\u001b[0;32m    529\u001b[0m \u001b[1;33m\u001b[0m\u001b[0m\n\u001b[0;32m    530\u001b[0m         \u001b[0mproxies\u001b[0m \u001b[1;33m=\u001b[0m \u001b[0mproxies\u001b[0m \u001b[1;32mor\u001b[0m \u001b[1;33m{\u001b[0m\u001b[1;33m}\u001b[0m\u001b[1;33m\u001b[0m\u001b[1;33m\u001b[0m\u001b[0m\n",
      "\u001b[1;32m~\\anaconda3\\lib\\site-packages\\requests\\sessions.py\u001b[0m in \u001b[0;36mprepare_request\u001b[1;34m(self, request)\u001b[0m\n\u001b[0;32m    454\u001b[0m \u001b[1;33m\u001b[0m\u001b[0m\n\u001b[0;32m    455\u001b[0m         \u001b[0mp\u001b[0m \u001b[1;33m=\u001b[0m \u001b[0mPreparedRequest\u001b[0m\u001b[1;33m(\u001b[0m\u001b[1;33m)\u001b[0m\u001b[1;33m\u001b[0m\u001b[1;33m\u001b[0m\u001b[0m\n\u001b[1;32m--> 456\u001b[1;33m         p.prepare(\n\u001b[0m\u001b[0;32m    457\u001b[0m             \u001b[0mmethod\u001b[0m\u001b[1;33m=\u001b[0m\u001b[0mrequest\u001b[0m\u001b[1;33m.\u001b[0m\u001b[0mmethod\u001b[0m\u001b[1;33m.\u001b[0m\u001b[0mupper\u001b[0m\u001b[1;33m(\u001b[0m\u001b[1;33m)\u001b[0m\u001b[1;33m,\u001b[0m\u001b[1;33m\u001b[0m\u001b[1;33m\u001b[0m\u001b[0m\n\u001b[0;32m    458\u001b[0m             \u001b[0murl\u001b[0m\u001b[1;33m=\u001b[0m\u001b[0mrequest\u001b[0m\u001b[1;33m.\u001b[0m\u001b[0murl\u001b[0m\u001b[1;33m,\u001b[0m\u001b[1;33m\u001b[0m\u001b[1;33m\u001b[0m\u001b[0m\n",
      "\u001b[1;32m~\\anaconda3\\lib\\site-packages\\requests\\models.py\u001b[0m in \u001b[0;36mprepare\u001b[1;34m(self, method, url, headers, files, data, params, auth, cookies, hooks, json)\u001b[0m\n\u001b[0;32m    314\u001b[0m \u001b[1;33m\u001b[0m\u001b[0m\n\u001b[0;32m    315\u001b[0m         \u001b[0mself\u001b[0m\u001b[1;33m.\u001b[0m\u001b[0mprepare_method\u001b[0m\u001b[1;33m(\u001b[0m\u001b[0mmethod\u001b[0m\u001b[1;33m)\u001b[0m\u001b[1;33m\u001b[0m\u001b[1;33m\u001b[0m\u001b[0m\n\u001b[1;32m--> 316\u001b[1;33m         \u001b[0mself\u001b[0m\u001b[1;33m.\u001b[0m\u001b[0mprepare_url\u001b[0m\u001b[1;33m(\u001b[0m\u001b[0murl\u001b[0m\u001b[1;33m,\u001b[0m \u001b[0mparams\u001b[0m\u001b[1;33m)\u001b[0m\u001b[1;33m\u001b[0m\u001b[1;33m\u001b[0m\u001b[0m\n\u001b[0m\u001b[0;32m    317\u001b[0m         \u001b[0mself\u001b[0m\u001b[1;33m.\u001b[0m\u001b[0mprepare_headers\u001b[0m\u001b[1;33m(\u001b[0m\u001b[0mheaders\u001b[0m\u001b[1;33m)\u001b[0m\u001b[1;33m\u001b[0m\u001b[1;33m\u001b[0m\u001b[0m\n\u001b[0;32m    318\u001b[0m         \u001b[0mself\u001b[0m\u001b[1;33m.\u001b[0m\u001b[0mprepare_cookies\u001b[0m\u001b[1;33m(\u001b[0m\u001b[0mcookies\u001b[0m\u001b[1;33m)\u001b[0m\u001b[1;33m\u001b[0m\u001b[1;33m\u001b[0m\u001b[0m\n",
      "\u001b[1;32m~\\anaconda3\\lib\\site-packages\\requests\\models.py\u001b[0m in \u001b[0;36mprepare_url\u001b[1;34m(self, url, params)\u001b[0m\n\u001b[0;32m    432\u001b[0m             \u001b[0mparams\u001b[0m \u001b[1;33m=\u001b[0m \u001b[0mto_native_string\u001b[0m\u001b[1;33m(\u001b[0m\u001b[0mparams\u001b[0m\u001b[1;33m)\u001b[0m\u001b[1;33m\u001b[0m\u001b[1;33m\u001b[0m\u001b[0m\n\u001b[0;32m    433\u001b[0m \u001b[1;33m\u001b[0m\u001b[0m\n\u001b[1;32m--> 434\u001b[1;33m         \u001b[0menc_params\u001b[0m \u001b[1;33m=\u001b[0m \u001b[0mself\u001b[0m\u001b[1;33m.\u001b[0m\u001b[0m_encode_params\u001b[0m\u001b[1;33m(\u001b[0m\u001b[0mparams\u001b[0m\u001b[1;33m)\u001b[0m\u001b[1;33m\u001b[0m\u001b[1;33m\u001b[0m\u001b[0m\n\u001b[0m\u001b[0;32m    435\u001b[0m         \u001b[1;32mif\u001b[0m \u001b[0menc_params\u001b[0m\u001b[1;33m:\u001b[0m\u001b[1;33m\u001b[0m\u001b[1;33m\u001b[0m\u001b[0m\n\u001b[0;32m    436\u001b[0m             \u001b[1;32mif\u001b[0m \u001b[0mquery\u001b[0m\u001b[1;33m:\u001b[0m\u001b[1;33m\u001b[0m\u001b[1;33m\u001b[0m\u001b[0m\n",
      "\u001b[1;32m~\\anaconda3\\lib\\site-packages\\requests\\models.py\u001b[0m in \u001b[0;36m_encode_params\u001b[1;34m(data)\u001b[0m\n\u001b[0;32m     95\u001b[0m         \u001b[1;32melif\u001b[0m \u001b[0mhasattr\u001b[0m\u001b[1;33m(\u001b[0m\u001b[0mdata\u001b[0m\u001b[1;33m,\u001b[0m \u001b[1;34m'__iter__'\u001b[0m\u001b[1;33m)\u001b[0m\u001b[1;33m:\u001b[0m\u001b[1;33m\u001b[0m\u001b[1;33m\u001b[0m\u001b[0m\n\u001b[0;32m     96\u001b[0m             \u001b[0mresult\u001b[0m \u001b[1;33m=\u001b[0m \u001b[1;33m[\u001b[0m\u001b[1;33m]\u001b[0m\u001b[1;33m\u001b[0m\u001b[1;33m\u001b[0m\u001b[0m\n\u001b[1;32m---> 97\u001b[1;33m             \u001b[1;32mfor\u001b[0m \u001b[0mk\u001b[0m\u001b[1;33m,\u001b[0m \u001b[0mvs\u001b[0m \u001b[1;32min\u001b[0m \u001b[0mto_key_val_list\u001b[0m\u001b[1;33m(\u001b[0m\u001b[0mdata\u001b[0m\u001b[1;33m)\u001b[0m\u001b[1;33m:\u001b[0m\u001b[1;33m\u001b[0m\u001b[1;33m\u001b[0m\u001b[0m\n\u001b[0m\u001b[0;32m     98\u001b[0m                 \u001b[1;32mif\u001b[0m \u001b[0misinstance\u001b[0m\u001b[1;33m(\u001b[0m\u001b[0mvs\u001b[0m\u001b[1;33m,\u001b[0m \u001b[0mbasestring\u001b[0m\u001b[1;33m)\u001b[0m \u001b[1;32mor\u001b[0m \u001b[1;32mnot\u001b[0m \u001b[0mhasattr\u001b[0m\u001b[1;33m(\u001b[0m\u001b[0mvs\u001b[0m\u001b[1;33m,\u001b[0m \u001b[1;34m'__iter__'\u001b[0m\u001b[1;33m)\u001b[0m\u001b[1;33m:\u001b[0m\u001b[1;33m\u001b[0m\u001b[1;33m\u001b[0m\u001b[0m\n\u001b[0;32m     99\u001b[0m                     \u001b[0mvs\u001b[0m \u001b[1;33m=\u001b[0m \u001b[1;33m[\u001b[0m\u001b[0mvs\u001b[0m\u001b[1;33m]\u001b[0m\u001b[1;33m\u001b[0m\u001b[1;33m\u001b[0m\u001b[0m\n",
      "\u001b[1;31mValueError\u001b[0m: too many values to unpack (expected 2)"
     ]
    }
   ],
   "source": [
    "while True:\n",
    "    url = f'https://news.naver.com/main/list.naver?mode=LSD&mid=sec&listType=title&sid1=105&page={page_num}'\n",
    "   \n",
    "    req_header = {\n",
    "    'User-Agent: Mozilla/5.0 (Windows NT 10.0; Win64; x64) AppleWebKit/537.36 (KHTML, like Gecko) Chrome/87.0.4280.88 Safari/537.36',\n",
    "    }\n",
    "    \n",
    "    html = requests.get(url, req_header).text\n",
    "    soup = BeautifulSoup(html, 'html.parser')\n",
    "    \n",
    "    if soup.select('div.list_body div.list_item') == []:\n",
    "        break\n",
    "    for tag in soup.select('div.list_body div.list_item'):\n",
    "        company_dict = {}\n",
    "        company_dict[\"기업명\"] = tag.select('div.company_nm a span')[0].text\n",
    "        company_dict[\"직무\"] = tag.select('div.notification_info a span')[0].text\n",
    "        company_dict[\"경력사항\"] = tag.select('div.recruit_condition p.career')[0].text\n",
    "        company_dict[\"학력\"] = tag.select('div.recruit_condition p.education')[0].text\n",
    "        \n",
    "        try:    \n",
    "            company_dict[\"근무지\"] = tag.select('div.company_info p.work_place')[0].text\n",
    "        except:\n",
    "            company_dict[\"근무지\"] = \"\"\n",
    "            \n",
    "        try:\n",
    "            company_dict[\"근무형태\"] = tag.select('div.company_info p.employment_type')[0].text\n",
    "        except:\n",
    "            company_dict[\"근무형태\"] = \"\"\n",
    "            \n",
    "        try:\n",
    "            company_dict[\"연봉\"] = tag.select('div.company_info p.salary')[0].text\n",
    "        except:\n",
    "            company_dict[\"연봉\"] = \"\"\n",
    "            \n",
    "        \n",
    "            \n",
    "        category_list = []\n",
    "        for item in tag.select('div.notification_info div.job_meta span span'):\n",
    "            category_list.append(item.text)\n",
    "        company_dict[\"분류\"] = str(category_list)\n",
    "        #company_dict[\"분류필터\"] = \"python\"\n",
    "        \n",
    "        detail_url = tag.select_one('div.notification_info a').attrs['href']\n",
    "        full_detail_url = urljoin(main_url, detail_url)\n",
    "        company_dict[\"상세링크\"] = full_detail_url\n",
    "        \n",
    "        job_list_python.append(company_dict)\n",
    "    page_num += 1\n",
    "job_list_python"
   ]
  },
  {
   "cell_type": "code",
   "execution_count": 6,
   "metadata": {},
   "outputs": [
    {
     "data": {
      "text/plain": [
       "18255"
      ]
     },
     "execution_count": 6,
     "metadata": {},
     "output_type": "execute_result"
    }
   ],
   "source": [
    "type(job_list_python)\n",
    "len(job_list_python)"
   ]
  },
  {
   "cell_type": "code",
   "execution_count": 6,
   "metadata": {},
   "outputs": [],
   "source": [
    "# print(category_list)"
   ]
  },
  {
   "cell_type": "code",
   "execution_count": 5,
   "metadata": {},
   "outputs": [
    {
     "data": {
      "text/plain": [
       "dict"
      ]
     },
     "execution_count": 5,
     "metadata": {},
     "output_type": "execute_result"
    }
   ],
   "source": [
    "type(company_dict)"
   ]
  },
  {
   "cell_type": "code",
   "execution_count": null,
   "metadata": {},
   "outputs": [],
   "source": [
    "import pandas as pd\n",
    "\n",
    "df_saramin = pd.DataFrame(job_list_python)\n",
    "df_saramin"
   ]
  },
  {
   "cell_type": "code",
   "execution_count": 10,
   "metadata": {},
   "outputs": [],
   "source": [
    "df_saramin.to_csv('saramin.csv')"
   ]
  },
  {
   "cell_type": "code",
   "execution_count": 1,
   "metadata": {},
   "outputs": [],
   "source": [
    "import pandas as pd"
   ]
  },
  {
   "cell_type": "code",
   "execution_count": 9,
   "metadata": {},
   "outputs": [
    {
     "data": {
      "text/html": [
       "<div>\n",
       "<style scoped>\n",
       "    .dataframe tbody tr th:only-of-type {\n",
       "        vertical-align: middle;\n",
       "    }\n",
       "\n",
       "    .dataframe tbody tr th {\n",
       "        vertical-align: top;\n",
       "    }\n",
       "\n",
       "    .dataframe thead th {\n",
       "        text-align: right;\n",
       "    }\n",
       "</style>\n",
       "<table border=\"1\" class=\"dataframe\">\n",
       "  <thead>\n",
       "    <tr style=\"text-align: right;\">\n",
       "      <th></th>\n",
       "      <th>기업명</th>\n",
       "      <th>직무</th>\n",
       "      <th>경력사항</th>\n",
       "      <th>학력</th>\n",
       "      <th>근무지</th>\n",
       "      <th>근무형태</th>\n",
       "      <th>연봉</th>\n",
       "      <th>분류</th>\n",
       "      <th>상세링크</th>\n",
       "    </tr>\n",
       "  </thead>\n",
       "  <tbody>\n",
       "    <tr>\n",
       "      <th>0</th>\n",
       "      <td>태가(주)</td>\n",
       "      <td>사용자 및 시장 조사 용도의 웹사이트 개발자 채용</td>\n",
       "      <td>1 ~ 5년</td>\n",
       "      <td>대학(2,3년)↑</td>\n",
       "      <td>서울 서대문구</td>\n",
       "      <td>정규직 · 계약직</td>\n",
       "      <td>NaN</td>\n",
       "      <td>['웹개발', '프론트엔드', '반응형웹']</td>\n",
       "      <td>http://www.saramin.co.kr/zf_user/jobs/relay/vi...</td>\n",
       "    </tr>\n",
       "    <tr>\n",
       "      <th>1</th>\n",
       "      <td>(주)업플러스</td>\n",
       "      <td>Cisco 네트워크 전문가 모집</td>\n",
       "      <td>10 ~ 20년</td>\n",
       "      <td>대학교(4년)↑</td>\n",
       "      <td>서울 강남구</td>\n",
       "      <td>정규직</td>\n",
       "      <td>6,000~7,000만원</td>\n",
       "      <td>['유지보수', '네트워크']</td>\n",
       "      <td>http://www.saramin.co.kr/zf_user/jobs/relay/vi...</td>\n",
       "    </tr>\n",
       "    <tr>\n",
       "      <th>2</th>\n",
       "      <td>(주)피엘지</td>\n",
       "      <td>피엘지 퍼블리션 &amp; 디자이너 모집</td>\n",
       "      <td>경력무관</td>\n",
       "      <td>학력무관</td>\n",
       "      <td>부산 북구</td>\n",
       "      <td>정규직 · 계약직</td>\n",
       "      <td>NaN</td>\n",
       "      <td>['백엔드/서버개발', '프론트엔드', 'ReactJS', 'Vue.js', '산업...</td>\n",
       "      <td>http://www.saramin.co.kr/zf_user/jobs/relay/vi...</td>\n",
       "    </tr>\n",
       "    <tr>\n",
       "      <th>3</th>\n",
       "      <td>(주)케이뱅크</td>\n",
       "      <td>[케이뱅크] 2022 채용연계형 인턴십</td>\n",
       "      <td>신입</td>\n",
       "      <td>대학교(4년)↑</td>\n",
       "      <td>서울 중구</td>\n",
       "      <td>인턴직</td>\n",
       "      <td>NaN</td>\n",
       "      <td>['데이터분석가', '사무직', '사무보조', '사무행정', '데이터분석']</td>\n",
       "      <td>http://www.saramin.co.kr/zf_user/jobs/relay/vi...</td>\n",
       "    </tr>\n",
       "    <tr>\n",
       "      <th>4</th>\n",
       "      <td>(주)메타넷엠플랫폼</td>\n",
       "      <td>[메타넷엠플랫폼 ] 시스템 운영팀 (서버/회선관리) 담당자 채용</td>\n",
       "      <td>신입 · 경력</td>\n",
       "      <td>학력무관</td>\n",
       "      <td>서울 중구</td>\n",
       "      <td>정규직</td>\n",
       "      <td>NaN</td>\n",
       "      <td>['백엔드/서버개발', '앱개발', 'SE(시스템엔지니어)', '인프라', 'IDC']</td>\n",
       "      <td>http://www.saramin.co.kr/zf_user/jobs/relay/vi...</td>\n",
       "    </tr>\n",
       "    <tr>\n",
       "      <th>...</th>\n",
       "      <td>...</td>\n",
       "      <td>...</td>\n",
       "      <td>...</td>\n",
       "      <td>...</td>\n",
       "      <td>...</td>\n",
       "      <td>...</td>\n",
       "      <td>...</td>\n",
       "      <td>...</td>\n",
       "      <td>...</td>\n",
       "    </tr>\n",
       "    <tr>\n",
       "      <th>18250</th>\n",
       "      <td>(주)파폼</td>\n",
       "      <td>[경력][프리랜서] PHP 웹 개발자 채용(칼퇴보장)</td>\n",
       "      <td>경력 3년↑</td>\n",
       "      <td>학력무관</td>\n",
       "      <td>서울 금천구</td>\n",
       "      <td>정규직 · 프리랜서</td>\n",
       "      <td>NaN</td>\n",
       "      <td>['jQuery', 'MySQL', 'PHP', 'Git', 'R']</td>\n",
       "      <td>http://www.saramin.co.kr/zf_user/jobs/relay/vi...</td>\n",
       "    </tr>\n",
       "    <tr>\n",
       "      <th>18251</th>\n",
       "      <td>(주)엔엠에스컨설팅</td>\n",
       "      <td>유망 플랫폼 기업 개발팀장(억대 연봉 가능)</td>\n",
       "      <td>경력 10년↑</td>\n",
       "      <td>대학교(4년)↑</td>\n",
       "      <td>서울 성동구</td>\n",
       "      <td>정규직</td>\n",
       "      <td>1억원 ~</td>\n",
       "      <td>['백엔드/서버개발', '앱개발', '웹개발', '프론트엔드', '아키텍쳐']</td>\n",
       "      <td>http://www.saramin.co.kr/zf_user/jobs/relay/vi...</td>\n",
       "    </tr>\n",
       "    <tr>\n",
       "      <th>18252</th>\n",
       "      <td>(주)여의도사람들</td>\n",
       "      <td>서버·네트워크·보안/웹개발外 1개 부문 담당자 채용</td>\n",
       "      <td>경력무관</td>\n",
       "      <td>학력무관</td>\n",
       "      <td>서울 영등포구</td>\n",
       "      <td>계약직</td>\n",
       "      <td>3,600만원</td>\n",
       "      <td>['백엔드/서버개발', '웹개발', '정보보안', '프론트엔드', '네트워크']</td>\n",
       "      <td>http://www.saramin.co.kr/zf_user/jobs/relay/vi...</td>\n",
       "    </tr>\n",
       "    <tr>\n",
       "      <th>18253</th>\n",
       "      <td>인천웨딩 주식회사</td>\n",
       "      <td>IWC웨딩[천안] 브랜드 마케터 부문 신입/경력 채용</td>\n",
       "      <td>경력무관</td>\n",
       "      <td>학력무관</td>\n",
       "      <td>충남 천안시 서북구</td>\n",
       "      <td>정규직</td>\n",
       "      <td>NaN</td>\n",
       "      <td>['Javascript', '사이트관리', '마케팅기획', '마케팅전략', '바이럴...</td>\n",
       "      <td>http://www.saramin.co.kr/zf_user/jobs/relay/vi...</td>\n",
       "    </tr>\n",
       "    <tr>\n",
       "      <th>18254</th>\n",
       "      <td>주식회사 더하임</td>\n",
       "      <td>기계 설계 3D프린터 개발 인재 채용</td>\n",
       "      <td>경력무관</td>\n",
       "      <td>대학(2,3년)↑</td>\n",
       "      <td>대전 대덕구</td>\n",
       "      <td>계약직</td>\n",
       "      <td>3,300만원</td>\n",
       "      <td>['H/W', '기계설계', '기술설계', '자동차', 'CAM']</td>\n",
       "      <td>http://www.saramin.co.kr/zf_user/jobs/relay/vi...</td>\n",
       "    </tr>\n",
       "  </tbody>\n",
       "</table>\n",
       "<p>18255 rows × 9 columns</p>\n",
       "</div>"
      ],
      "text/plain": [
       "              기업명                                   직무      경력사항         학력  \\\n",
       "0           태가(주)          사용자 및 시장 조사 용도의 웹사이트 개발자 채용    1 ~ 5년  대학(2,3년)↑   \n",
       "1         (주)업플러스                    Cisco 네트워크 전문가 모집  10 ~ 20년   대학교(4년)↑   \n",
       "2          (주)피엘지                   피엘지 퍼블리션 & 디자이너 모집      경력무관       학력무관   \n",
       "3         (주)케이뱅크                [케이뱅크] 2022 채용연계형 인턴십        신입   대학교(4년)↑   \n",
       "4      (주)메타넷엠플랫폼  [메타넷엠플랫폼 ] 시스템 운영팀 (서버/회선관리) 담당자 채용   신입 · 경력       학력무관   \n",
       "...           ...                                  ...       ...        ...   \n",
       "18250       (주)파폼        [경력][프리랜서] PHP 웹 개발자 채용(칼퇴보장)    경력 3년↑       학력무관   \n",
       "18251  (주)엔엠에스컨설팅             유망 플랫폼 기업 개발팀장(억대 연봉 가능)   경력 10년↑   대학교(4년)↑   \n",
       "18252   (주)여의도사람들         서버·네트워크·보안/웹개발外 1개 부문 담당자 채용      경력무관       학력무관   \n",
       "18253   인천웨딩 주식회사        IWC웨딩[천안] 브랜드 마케터 부문 신입/경력 채용      경력무관       학력무관   \n",
       "18254    주식회사 더하임                 기계 설계 3D프린터 개발 인재 채용      경력무관  대학(2,3년)↑   \n",
       "\n",
       "              근무지        근무형태             연봉  \\\n",
       "0         서울 서대문구   정규직 · 계약직            NaN   \n",
       "1          서울 강남구         정규직  6,000~7,000만원   \n",
       "2           부산 북구   정규직 · 계약직            NaN   \n",
       "3           서울 중구         인턴직            NaN   \n",
       "4           서울 중구         정규직            NaN   \n",
       "...           ...         ...            ...   \n",
       "18250      서울 금천구  정규직 · 프리랜서            NaN   \n",
       "18251      서울 성동구         정규직         1억원 ~    \n",
       "18252     서울 영등포구         계약직        3,600만원   \n",
       "18253  충남 천안시 서북구         정규직            NaN   \n",
       "18254      대전 대덕구         계약직        3,300만원   \n",
       "\n",
       "                                                      분류  \\\n",
       "0                               ['웹개발', '프론트엔드', '반응형웹']   \n",
       "1                                       ['유지보수', '네트워크']   \n",
       "2      ['백엔드/서버개발', '프론트엔드', 'ReactJS', 'Vue.js', '산업...   \n",
       "3             ['데이터분석가', '사무직', '사무보조', '사무행정', '데이터분석']   \n",
       "4       ['백엔드/서버개발', '앱개발', 'SE(시스템엔지니어)', '인프라', 'IDC']   \n",
       "...                                                  ...   \n",
       "18250             ['jQuery', 'MySQL', 'PHP', 'Git', 'R']   \n",
       "18251        ['백엔드/서버개발', '앱개발', '웹개발', '프론트엔드', '아키텍쳐']   \n",
       "18252       ['백엔드/서버개발', '웹개발', '정보보안', '프론트엔드', '네트워크']   \n",
       "18253  ['Javascript', '사이트관리', '마케팅기획', '마케팅전략', '바이럴...   \n",
       "18254              ['H/W', '기계설계', '기술설계', '자동차', 'CAM']   \n",
       "\n",
       "                                                    상세링크  \n",
       "0      http://www.saramin.co.kr/zf_user/jobs/relay/vi...  \n",
       "1      http://www.saramin.co.kr/zf_user/jobs/relay/vi...  \n",
       "2      http://www.saramin.co.kr/zf_user/jobs/relay/vi...  \n",
       "3      http://www.saramin.co.kr/zf_user/jobs/relay/vi...  \n",
       "4      http://www.saramin.co.kr/zf_user/jobs/relay/vi...  \n",
       "...                                                  ...  \n",
       "18250  http://www.saramin.co.kr/zf_user/jobs/relay/vi...  \n",
       "18251  http://www.saramin.co.kr/zf_user/jobs/relay/vi...  \n",
       "18252  http://www.saramin.co.kr/zf_user/jobs/relay/vi...  \n",
       "18253  http://www.saramin.co.kr/zf_user/jobs/relay/vi...  \n",
       "18254  http://www.saramin.co.kr/zf_user/jobs/relay/vi...  \n",
       "\n",
       "[18255 rows x 9 columns]"
      ]
     },
     "execution_count": 9,
     "metadata": {},
     "output_type": "execute_result"
    }
   ],
   "source": [
    "df = pd.read_csv('saramin.csv', index_col=0)\n",
    "df"
   ]
  },
  {
   "cell_type": "code",
   "execution_count": 5,
   "metadata": {},
   "outputs": [],
   "source": [
    "import requests\n",
    "from bs4 import BeautifulSoup\n",
    "from urllib.parse import urljoin\n",
    "import re"
   ]
  },
  {
   "cell_type": "code",
   "execution_count": 6,
   "metadata": {},
   "outputs": [],
   "source": [
    "job_list_python = []\n",
    "page_num = 1\n",
    "main_url = 'http://www.saramin.co.kr'"
   ]
  },
  {
   "cell_type": "code",
   "execution_count": 7,
   "metadata": {},
   "outputs": [],
   "source": [
    "while True:\n",
    "    url = f'https://www.saramin.co.kr/zf_user/jobs/list/job-category?page={page_num}&cat_mcls=2&search_optional_item=n&search_done=y&panel_count=y&isAjaxRequest=0&page_count=50&sort=RL&type=job-category&is_param=1&isSearchResultEmpty=1&isSectionHome=0&searchParamCount=1#searchTitle'\n",
    "    req_header = {\n",
    "    \"User-Agent\": \"Mozilla/5.0 (Macintosh; Intel Mac OS X 10_15_7) AppleWebKit/605.1.15 (KHTML, like Gecko) Version/15.1 Safari/605.1.15\",\n",
    "    }\n",
    "    \n",
    "    html = requests.get(url, req_header).text\n",
    "    soup = BeautifulSoup(html, 'html.parser')\n",
    "    \n",
    "    if soup.select('div.list_body div.list_item') == []:\n",
    "        break\n",
    "    for tag in soup.select('div.list_body div.list_item'):\n",
    "        company_dict = {}\n",
    "        company_dict[\"기업명\"] = tag.select('div.company_nm a span')[0].text\n",
    "        company_dict[\"직무\"] = tag.select('div.notification_info a span')[0].text\n",
    "        company_dict[\"경력사항\"] = tag.select('div.recruit_condition p.career')[0].text\n",
    "        company_dict[\"학력\"] = tag.select('div.recruit_condition p.education')[0].text\n",
    "        \n",
    "        try:    \n",
    "            company_dict[\"근무지\"] = tag.select('div.company_info p.work_place')[0].text\n",
    "        except:\n",
    "            company_dict[\"근무지\"] = \"\"\n",
    "            \n",
    "        try:\n",
    "            company_dict[\"근무형태\"] = tag.select('div.company_info p.employment_type')[0].text\n",
    "        except:\n",
    "            company_dict[\"근무형태\"] = \"\"\n",
    "            \n",
    "        try:\n",
    "            company_dict[\"연봉\"] = tag.select('div.company_info p.salary')[0].text\n",
    "        except:\n",
    "            company_dict[\"연봉\"] = \"\"\n",
    "            \n",
    "        \n",
    "            \n",
    "        category_list = []\n",
    "        for item in tag.select('div.notification_info div.job_meta span span'):\n",
    "            category_list.append(item.text)\n",
    "        company_dict[\"분류\"] = str(category_list)\n",
    "        #company_dict[\"분류필터\"] = \"python\"\n",
    "        \n",
    "        detail_url = tag.select_one('div.notification_info a').attrs['href']\n",
    "        full_detail_url = urljoin(main_url, detail_url)\n",
    "        company_dict[\"상세링크\"] = full_detail_url\n",
    "        \n",
    "        job_list_python.append(company_dict)\n",
    "    page_num += 1\n",
    "job_list_python"
   ]
  },
  {
   "cell_type": "code",
   "execution_count": null,
   "metadata": {},
   "outputs": [],
   "source": [
    "type(job_list_python)\n",
    "len(job_list_python)"
   ]
  },
  {
   "cell_type": "code",
   "execution_count": null,
   "metadata": {},
   "outputs": [],
   "source": [
    "# print(category_list)"
   ]
  },
  {
   "cell_type": "code",
   "execution_count": null,
   "metadata": {},
   "outputs": [],
   "source": [
    "type(company_dict)"
   ]
  },
  {
   "cell_type": "code",
   "execution_count": null,
   "metadata": {},
   "outputs": [],
   "source": [
    "import pandas as pd\n",
    "\n",
    "df_saramin = pd.DataFrame(job_list_python)\n",
    "df_saramin"
   ]
  },
  {
   "cell_type": "code",
   "execution_count": null,
   "metadata": {},
   "outputs": [],
   "source": [
    "df_saramin.to_csv('saramin.csv')"
   ]
  },
  {
   "cell_type": "code",
   "execution_count": null,
   "metadata": {},
   "outputs": [],
   "source": [
    "import pandas as pd"
   ]
  },
  {
   "cell_type": "code",
   "execution_count": null,
   "metadata": {},
   "outputs": [],
   "source": [
    "df = pd.read_csv('saramin.csv', index_col=0)\n",
    "df"
   ]
  },
  {
   "cell_type": "code",
   "execution_count": null,
   "metadata": {},
   "outputs": [],
   "source": []
  }
 ],
 "metadata": {
  "interpreter": {
   "hash": "7f8a298e880cf99c9c7a0b66a05672eb9bf2d8825a9da8d2e07c7170541f5baf"
  },
  "kernelspec": {
   "display_name": "Python 3.8.10 64-bit ('base': conda)",
   "language": "python",
   "name": "python3"
  },
  "language_info": {
   "codemirror_mode": {
    "name": "ipython",
    "version": 3
   },
   "file_extension": ".py",
   "mimetype": "text/x-python",
   "name": "python",
   "nbconvert_exporter": "python",
   "pygments_lexer": "ipython3",
   "version": "3.9.7"
  },
  "orig_nbformat": 4
 },
 "nbformat": 4,
 "nbformat_minor": 2
}
